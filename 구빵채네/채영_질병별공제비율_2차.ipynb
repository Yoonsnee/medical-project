{
 "cells": [
  {
   "cell_type": "code",
   "execution_count": 120,
   "metadata": {},
   "outputs": [
    {
     "data": {
      "text/html": [
       "        <script type=\"text/javascript\">\n",
       "        window.PlotlyConfig = {MathJaxConfig: 'local'};\n",
       "        if (window.MathJax && window.MathJax.Hub && window.MathJax.Hub.Config) {window.MathJax.Hub.Config({SVG: {font: \"STIX-Web\"}});}\n",
       "        if (typeof require !== 'undefined') {\n",
       "        require.undef(\"plotly\");\n",
       "        requirejs.config({\n",
       "            paths: {\n",
       "                'plotly': ['https://cdn.plot.ly/plotly-2.16.1.min']\n",
       "            }\n",
       "        });\n",
       "        require(['plotly'], function(Plotly) {\n",
       "            window._Plotly = Plotly;\n",
       "        });\n",
       "        }\n",
       "        </script>\n",
       "        "
      ]
     },
     "metadata": {},
     "output_type": "display_data"
    }
   ],
   "source": [
    "import numpy as np\n",
    "import pandas as pd\n",
    "import cufflinks as cf\n",
    "cf.go_offline(connected=True)\n",
    "from plotly.offline import iplot, init_notebook_mode\n",
    "import matplotlib.pyplot as plt\n",
    "import seaborn as sns\n",
    "import plotly.graph_objects as go\n",
    "import plotly.express as px\n",
    "import chart_studio"
   ]
  },
  {
   "cell_type": "code",
   "execution_count": 121,
   "metadata": {},
   "outputs": [
    {
     "data": {
      "text/html": [
       "<div>\n",
       "<style scoped>\n",
       "    .dataframe tbody tr th:only-of-type {\n",
       "        vertical-align: middle;\n",
       "    }\n",
       "\n",
       "    .dataframe tbody tr th {\n",
       "        vertical-align: top;\n",
       "    }\n",
       "\n",
       "    .dataframe thead th {\n",
       "        text-align: right;\n",
       "    }\n",
       "</style>\n",
       "<table border=\"1\" class=\"dataframe\">\n",
       "  <thead>\n",
       "    <tr style=\"text-align: right;\">\n",
       "      <th></th>\n",
       "      <th>항목</th>\n",
       "      <th>성별구분</th>\n",
       "      <th>연령구분5세</th>\n",
       "      <th>환자수</th>\n",
       "      <th>내원일수</th>\n",
       "      <th>청구건수</th>\n",
       "      <th>요양급여비용총액</th>\n",
       "      <th>보험자부담금</th>\n",
       "      <th>본인부담금</th>\n",
       "      <th>연도</th>\n",
       "    </tr>\n",
       "  </thead>\n",
       "  <tbody>\n",
       "    <tr>\n",
       "      <th>0</th>\n",
       "      <td>난청</td>\n",
       "      <td>2</td>\n",
       "      <td>17</td>\n",
       "      <td>548913</td>\n",
       "      <td>1159130</td>\n",
       "      <td>1108228</td>\n",
       "      <td>76405654</td>\n",
       "      <td>50910783</td>\n",
       "      <td>25494871</td>\n",
       "      <td>2017</td>\n",
       "    </tr>\n",
       "    <tr>\n",
       "      <th>1</th>\n",
       "      <td>난청</td>\n",
       "      <td>0</td>\n",
       "      <td>18</td>\n",
       "      <td>255128</td>\n",
       "      <td>541714</td>\n",
       "      <td>518350</td>\n",
       "      <td>36019274</td>\n",
       "      <td>23825287</td>\n",
       "      <td>12193987</td>\n",
       "      <td>2017</td>\n",
       "    </tr>\n",
       "    <tr>\n",
       "      <th>2</th>\n",
       "      <td>난청</td>\n",
       "      <td>0</td>\n",
       "      <td>0</td>\n",
       "      <td>4944</td>\n",
       "      <td>12132</td>\n",
       "      <td>11721</td>\n",
       "      <td>3783566</td>\n",
       "      <td>3151499</td>\n",
       "      <td>632067</td>\n",
       "      <td>2017</td>\n",
       "    </tr>\n",
       "    <tr>\n",
       "      <th>3</th>\n",
       "      <td>난청</td>\n",
       "      <td>0</td>\n",
       "      <td>1</td>\n",
       "      <td>4119</td>\n",
       "      <td>8540</td>\n",
       "      <td>8239</td>\n",
       "      <td>1076442</td>\n",
       "      <td>726551</td>\n",
       "      <td>349891</td>\n",
       "      <td>2017</td>\n",
       "    </tr>\n",
       "    <tr>\n",
       "      <th>4</th>\n",
       "      <td>난청</td>\n",
       "      <td>0</td>\n",
       "      <td>2</td>\n",
       "      <td>4885</td>\n",
       "      <td>9151</td>\n",
       "      <td>8701</td>\n",
       "      <td>1108291</td>\n",
       "      <td>735925</td>\n",
       "      <td>372366</td>\n",
       "      <td>2017</td>\n",
       "    </tr>\n",
       "  </tbody>\n",
       "</table>\n",
       "</div>"
      ],
      "text/plain": [
       "   항목  성별구분  연령구분5세     환자수     내원일수     청구건수  요양급여비용총액    보험자부담금     본인부담금  \\\n",
       "0  난청     2      17  548913  1159130  1108228  76405654  50910783  25494871   \n",
       "1  난청     0      18  255128   541714   518350  36019274  23825287  12193987   \n",
       "2  난청     0       0    4944    12132    11721   3783566   3151499    632067   \n",
       "3  난청     0       1    4119     8540     8239   1076442    726551    349891   \n",
       "4  난청     0       2    4885     9151     8701   1108291    735925    372366   \n",
       "\n",
       "     연도  \n",
       "0  2017  \n",
       "1  2017  \n",
       "2  2017  \n",
       "3  2017  \n",
       "4  2017  "
      ]
     },
     "execution_count": 121,
     "metadata": {},
     "output_type": "execute_result"
    }
   ],
   "source": [
    "df = pd.read_csv('raw_data.csv')\n",
    "df = df.drop(columns='Unnamed: 0')\n",
    "df.head()"
   ]
  },
  {
   "cell_type": "code",
   "execution_count": 122,
   "metadata": {},
   "outputs": [],
   "source": [
    "# df['요양급여비용총액'] 중에 0인 컬럼 존재! 해당 컬럼 모두 drop함\n",
    "a = df[df['요양급여비용총액'] == 0].index\n",
    "df = df.drop(a)\n",
    "\n",
    "# 공제비율 = 보험자부담금계 / 요양급여비용총액\n",
    "df['공제비율'] = df['보험자부담금'] / df['요양급여비용총액'] * 100\n",
    "# df['공제비율'] = df['공제비율'].astype(int)\n",
    "# .round()\n",
    "\n",
    "# 필요한 칼럼만 뽑기\n",
    "df = df[['항목', '성별구분', '연령구분5세', '환자수', '공제비율', '연도']]\n",
    "\n",
    "# 성별구분 먼저\n",
    "M = df[df['성별구분'] == 0]\n",
    "F = df[df['성별구분'] == 1]"
   ]
  },
  {
   "cell_type": "code",
   "execution_count": 123,
   "metadata": {},
   "outputs": [
    {
     "data": {
      "text/html": [
       "<div>\n",
       "<style scoped>\n",
       "    .dataframe tbody tr th:only-of-type {\n",
       "        vertical-align: middle;\n",
       "    }\n",
       "\n",
       "    .dataframe tbody tr th {\n",
       "        vertical-align: top;\n",
       "    }\n",
       "\n",
       "    .dataframe thead th {\n",
       "        text-align: right;\n",
       "    }\n",
       "</style>\n",
       "<table border=\"1\" class=\"dataframe\">\n",
       "  <thead>\n",
       "    <tr style=\"text-align: right;\">\n",
       "      <th></th>\n",
       "      <th>항목</th>\n",
       "      <th>성별구분</th>\n",
       "      <th>연령구분5세</th>\n",
       "      <th>환자수</th>\n",
       "      <th>공제비율</th>\n",
       "      <th>연도</th>\n",
       "    </tr>\n",
       "  </thead>\n",
       "  <tbody>\n",
       "    <tr>\n",
       "      <th>6268</th>\n",
       "      <td>자궁부속기종양_악성</td>\n",
       "      <td>0</td>\n",
       "      <td>18</td>\n",
       "      <td>685</td>\n",
       "      <td>91</td>\n",
       "      <td>2017</td>\n",
       "    </tr>\n",
       "    <tr>\n",
       "      <th>14570</th>\n",
       "      <td>자궁부속기종양_악성</td>\n",
       "      <td>0</td>\n",
       "      <td>18</td>\n",
       "      <td>700</td>\n",
       "      <td>91</td>\n",
       "      <td>2018</td>\n",
       "    </tr>\n",
       "    <tr>\n",
       "      <th>22872</th>\n",
       "      <td>자궁부속기종양_악성</td>\n",
       "      <td>0</td>\n",
       "      <td>18</td>\n",
       "      <td>783</td>\n",
       "      <td>90</td>\n",
       "      <td>2019</td>\n",
       "    </tr>\n",
       "    <tr>\n",
       "      <th>31174</th>\n",
       "      <td>자궁부속기종양_악성</td>\n",
       "      <td>0</td>\n",
       "      <td>18</td>\n",
       "      <td>772</td>\n",
       "      <td>90</td>\n",
       "      <td>2020</td>\n",
       "    </tr>\n",
       "    <tr>\n",
       "      <th>39476</th>\n",
       "      <td>자궁부속기종양_악성</td>\n",
       "      <td>0</td>\n",
       "      <td>18</td>\n",
       "      <td>887</td>\n",
       "      <td>89</td>\n",
       "      <td>2021</td>\n",
       "    </tr>\n",
       "  </tbody>\n",
       "</table>\n",
       "</div>"
      ],
      "text/plain": [
       "               항목  성별구분  연령구분5세  환자수  공제비율    연도\n",
       "6268   자궁부속기종양_악성     0      18  685    91  2017\n",
       "14570  자궁부속기종양_악성     0      18  700    91  2018\n",
       "22872  자궁부속기종양_악성     0      18  783    90  2019\n",
       "31174  자궁부속기종양_악성     0      18  772    90  2020\n",
       "39476  자궁부속기종양_악성     0      18  887    89  2021"
      ]
     },
     "execution_count": 123,
     "metadata": {},
     "output_type": "execute_result"
    }
   ],
   "source": [
    "Mf[Mf['항목'] == '자궁부속기종양_악성']"
   ]
  },
  {
   "cell_type": "markdown",
   "metadata": {},
   "source": [
    "## 남/여 연도별 공제비율 top 10 / down 10"
   ]
  },
  {
   "cell_type": "code",
   "execution_count": 124,
   "metadata": {},
   "outputs": [],
   "source": [
    "# 남자 소계\n",
    "Mf = M[M['연령구분5세']==18]\n",
    "# 여자 소계\n",
    "Ff = F[F['연령구분5세']==18]\n",
    "# '고환암' 이상치로 drop\n",
    "Ff[Ff['항목'] == '고환암'].index\n",
    "Ff = Ff.drop([5838, 14140, 22442, 30744, 39046])"
   ]
  },
  {
   "cell_type": "markdown",
   "metadata": {},
   "source": [
    "### 남자"
   ]
  },
  {
   "cell_type": "code",
   "execution_count": 125,
   "metadata": {},
   "outputs": [],
   "source": [
    "# 남자 top 10\n",
    "Mt2017 = Mf[Mf['연도'] == 2017].sort_values(ascending=False, by='공제비율').head(10)\n",
    "Mt2018 = Mf[Mf['연도'] == 2018].sort_values(ascending=False, by='공제비율').head(10)\n",
    "Mt2019 = Mf[Mf['연도'] == 2019].sort_values(ascending=False, by='공제비율').head(10)\n",
    "Mt2020 = Mf[Mf['연도'] == 2020].sort_values(ascending=False, by='공제비율').head(10)\n",
    "Mt2021 = Mf[Mf['연도'] == 2021].sort_values(ascending=False, by='공제비율').head(10)\n",
    "\n",
    "# 남자 down 10\n",
    "Md2017 = Mf[Mf['연도'] == 2017].sort_values(ascending=True, by='공제비율').head(10)\n",
    "Md2018 = Mf[Mf['연도'] == 2018].sort_values(ascending=True, by='공제비율').head(10)\n",
    "Md2019 = Mf[Mf['연도'] == 2019].sort_values(ascending=True, by='공제비율').head(10)\n",
    "Md2020 = Mf[Mf['연도'] == 2020].sort_values(ascending=True, by='공제비율').head(10)\n",
    "Md2021 = Mf[Mf['연도'] == 2021].sort_values(ascending=True, by='공제비율').head(10)"
   ]
  },
  {
   "cell_type": "code",
   "execution_count": 126,
   "metadata": {},
   "outputs": [
    {
     "data": {
      "application/vnd.plotly.v1+json": {
       "config": {
        "plotlyServerURL": "https://plotly.com"
       },
       "data": [
        {
         "marker": {
          "color": "#80489C"
         },
         "name": "2017",
         "text": [
          98.66993439725519,
          95.41930049112479,
          95.14225179796541,
          93.96749014915217,
          93.06474479954203,
          92.93308694729464,
          92.91175587303339,
          92.65931995158842,
          92.61684763061385,
          92.52660941087692
         ],
         "textposition": "auto",
         "type": "bar",
         "x": [
          "미숙아",
          "호흡기 결핵",
          "결핵",
          "만성 백혈병",
          "백혈병",
          "췌장암",
          "급성 백혈병",
          "생활습관병_식도암",
          "생활습관병_구강암",
          "생활습관병_폐암"
         ],
         "xaxis": "x",
         "y": [
          98.66993439725519,
          95.41930049112479,
          95.14225179796541,
          93.96749014915217,
          93.06474479954203,
          92.93308694729464,
          92.91175587303339,
          92.65931995158842,
          92.61684763061385,
          92.52660941087692
         ],
         "yaxis": "y"
        },
        {
         "marker": {
          "color": "#FFD372"
         },
         "name": "2018",
         "text": [
          98.87438262023814,
          95.86538733860164,
          95.52280456622836,
          93.54959067473776,
          92.52658574136234,
          92.41208262204069,
          92.30163710784508,
          92.29362747433909,
          92.22726210361184,
          92.20267117734163
         ],
         "textposition": "auto",
         "type": "bar",
         "x": [
          "미숙아",
          "호흡기 결핵",
          "결핵",
          "만성 백혈병",
          "백혈병",
          "급성 백혈병",
          "생활습관병_폐암",
          "생활습관병_식도암",
          "췌장암",
          "생활습관병_구강암"
         ],
         "xaxis": "x2",
         "y": [
          98.87438262023814,
          95.86538733860164,
          95.52280456622836,
          93.54959067473776,
          92.52658574136234,
          92.41208262204069,
          92.30163710784508,
          92.29362747433909,
          92.22726210361184,
          92.20267117734163
         ],
         "yaxis": "y2"
        },
        {
         "marker": {
          "color": "#4682B4"
         },
         "name": "2019",
         "text": [
          98.86598437138966,
          96.17762247100035,
          95.77528600173862,
          93.57944806588489,
          92.38865710604162,
          92.24135881381086,
          91.7360905518657,
          91.70576554877677,
          91.60267935547321,
          91.50197414438702
         ],
         "textposition": "auto",
         "type": "bar",
         "x": [
          "미숙아",
          "호흡기 결핵",
          "결핵",
          "만성 백혈병",
          "백혈병",
          "급성 백혈병",
          "생활습관병_후두암",
          "생활습관병_폐암",
          "생활습관병_구강암",
          "생활습관병_유방암"
         ],
         "xaxis": "x3",
         "y": [
          98.86598437138966,
          96.17762247100035,
          95.77528600173862,
          93.57944806588489,
          92.38865710604162,
          92.24135881381086,
          91.7360905518657,
          91.70576554877677,
          91.60267935547321,
          91.50197414438702
         ],
         "yaxis": "y3"
        },
        {
         "marker": {
          "color": "#AACB73"
         },
         "name": "2020",
         "text": [
          98.96379272087951,
          96.08930955610283,
          95.65976332956872,
          93.1226367445476,
          92.12511406527167,
          91.95190836805716,
          91.84713587633532,
          91.72347609268525,
          91.43652684153383,
          91.43156364249145
         ],
         "textposition": "auto",
         "type": "bar",
         "x": [
          "미숙아",
          "호흡기 결핵",
          "결핵",
          "만성 백혈병",
          "백혈병",
          "급성 백혈병",
          "생활습관병_후두암",
          "생활습관병_폐암",
          "피부암",
          "생활습관병_구강암"
         ],
         "xaxis": "x4",
         "y": [
          98.96379272087951,
          96.08930955610283,
          95.65976332956872,
          93.1226367445476,
          92.12511406527167,
          91.95190836805716,
          91.84713587633532,
          91.72347609268525,
          91.43652684153383,
          91.43156364249145
         ],
         "yaxis": "y4"
        },
        {
         "marker": {
          "color": "#FD8A8A"
         },
         "name": "2021",
         "text": [
          98.90602837629696,
          96.14468057108549,
          95.61489712704076,
          93.14543232207166,
          91.87081539878828,
          91.85463179942927,
          91.68173775062395,
          91.6060096999466,
          91.3837933504887,
          91.33248253283006
         ],
         "textposition": "auto",
         "type": "bar",
         "x": [
          "미숙아",
          "호흡기 결핵",
          "결핵",
          "만성 백혈병",
          "백혈병",
          "생활습관병_후두암",
          "급성 백혈병",
          "생활습관병_폐암",
          "전립선암",
          "피부암"
         ],
         "xaxis": "x5",
         "y": [
          98.90602837629696,
          96.14468057108549,
          95.61489712704076,
          93.14543232207166,
          91.87081539878828,
          91.85463179942927,
          91.68173775062395,
          91.6060096999466,
          91.3837933504887,
          91.33248253283006
         ],
         "yaxis": "y5"
        }
       ],
       "layout": {
        "annotations": [
         {
          "font": {
           "size": 16
          },
          "showarrow": false,
          "text": "2017",
          "x": 0.14444444444444443,
          "xanchor": "center",
          "xref": "paper",
          "y": 1,
          "yanchor": "bottom",
          "yref": "paper"
         },
         {
          "font": {
           "size": 16
          },
          "showarrow": false,
          "text": "2018",
          "x": 0.49999999999999994,
          "xanchor": "center",
          "xref": "paper",
          "y": 1,
          "yanchor": "bottom",
          "yref": "paper"
         },
         {
          "font": {
           "size": 16
          },
          "showarrow": false,
          "text": "2019",
          "x": 0.8555555555555554,
          "xanchor": "center",
          "xref": "paper",
          "y": 1,
          "yanchor": "bottom",
          "yref": "paper"
         },
         {
          "font": {
           "size": 16
          },
          "showarrow": false,
          "text": "2020",
          "x": 0.14444444444444443,
          "xanchor": "center",
          "xref": "paper",
          "y": 0.375,
          "yanchor": "bottom",
          "yref": "paper"
         },
         {
          "font": {
           "size": 16
          },
          "showarrow": false,
          "text": "2021",
          "x": 0.49999999999999994,
          "xanchor": "center",
          "xref": "paper",
          "y": 0.375,
          "yanchor": "bottom",
          "yref": "paper"
         }
        ],
        "template": {
         "data": {
          "bar": [
           {
            "error_x": {
             "color": "#2a3f5f"
            },
            "error_y": {
             "color": "#2a3f5f"
            },
            "marker": {
             "line": {
              "color": "white",
              "width": 0.5
             },
             "pattern": {
              "fillmode": "overlay",
              "size": 10,
              "solidity": 0.2
             }
            },
            "type": "bar"
           }
          ],
          "barpolar": [
           {
            "marker": {
             "line": {
              "color": "white",
              "width": 0.5
             },
             "pattern": {
              "fillmode": "overlay",
              "size": 10,
              "solidity": 0.2
             }
            },
            "type": "barpolar"
           }
          ],
          "carpet": [
           {
            "aaxis": {
             "endlinecolor": "#2a3f5f",
             "gridcolor": "#C8D4E3",
             "linecolor": "#C8D4E3",
             "minorgridcolor": "#C8D4E3",
             "startlinecolor": "#2a3f5f"
            },
            "baxis": {
             "endlinecolor": "#2a3f5f",
             "gridcolor": "#C8D4E3",
             "linecolor": "#C8D4E3",
             "minorgridcolor": "#C8D4E3",
             "startlinecolor": "#2a3f5f"
            },
            "type": "carpet"
           }
          ],
          "choropleth": [
           {
            "colorbar": {
             "outlinewidth": 0,
             "ticks": ""
            },
            "type": "choropleth"
           }
          ],
          "contour": [
           {
            "colorbar": {
             "outlinewidth": 0,
             "ticks": ""
            },
            "colorscale": [
             [
              0,
              "#0d0887"
             ],
             [
              0.1111111111111111,
              "#46039f"
             ],
             [
              0.2222222222222222,
              "#7201a8"
             ],
             [
              0.3333333333333333,
              "#9c179e"
             ],
             [
              0.4444444444444444,
              "#bd3786"
             ],
             [
              0.5555555555555556,
              "#d8576b"
             ],
             [
              0.6666666666666666,
              "#ed7953"
             ],
             [
              0.7777777777777778,
              "#fb9f3a"
             ],
             [
              0.8888888888888888,
              "#fdca26"
             ],
             [
              1,
              "#f0f921"
             ]
            ],
            "type": "contour"
           }
          ],
          "contourcarpet": [
           {
            "colorbar": {
             "outlinewidth": 0,
             "ticks": ""
            },
            "type": "contourcarpet"
           }
          ],
          "heatmap": [
           {
            "colorbar": {
             "outlinewidth": 0,
             "ticks": ""
            },
            "colorscale": [
             [
              0,
              "#0d0887"
             ],
             [
              0.1111111111111111,
              "#46039f"
             ],
             [
              0.2222222222222222,
              "#7201a8"
             ],
             [
              0.3333333333333333,
              "#9c179e"
             ],
             [
              0.4444444444444444,
              "#bd3786"
             ],
             [
              0.5555555555555556,
              "#d8576b"
             ],
             [
              0.6666666666666666,
              "#ed7953"
             ],
             [
              0.7777777777777778,
              "#fb9f3a"
             ],
             [
              0.8888888888888888,
              "#fdca26"
             ],
             [
              1,
              "#f0f921"
             ]
            ],
            "type": "heatmap"
           }
          ],
          "heatmapgl": [
           {
            "colorbar": {
             "outlinewidth": 0,
             "ticks": ""
            },
            "colorscale": [
             [
              0,
              "#0d0887"
             ],
             [
              0.1111111111111111,
              "#46039f"
             ],
             [
              0.2222222222222222,
              "#7201a8"
             ],
             [
              0.3333333333333333,
              "#9c179e"
             ],
             [
              0.4444444444444444,
              "#bd3786"
             ],
             [
              0.5555555555555556,
              "#d8576b"
             ],
             [
              0.6666666666666666,
              "#ed7953"
             ],
             [
              0.7777777777777778,
              "#fb9f3a"
             ],
             [
              0.8888888888888888,
              "#fdca26"
             ],
             [
              1,
              "#f0f921"
             ]
            ],
            "type": "heatmapgl"
           }
          ],
          "histogram": [
           {
            "marker": {
             "pattern": {
              "fillmode": "overlay",
              "size": 10,
              "solidity": 0.2
             }
            },
            "type": "histogram"
           }
          ],
          "histogram2d": [
           {
            "colorbar": {
             "outlinewidth": 0,
             "ticks": ""
            },
            "colorscale": [
             [
              0,
              "#0d0887"
             ],
             [
              0.1111111111111111,
              "#46039f"
             ],
             [
              0.2222222222222222,
              "#7201a8"
             ],
             [
              0.3333333333333333,
              "#9c179e"
             ],
             [
              0.4444444444444444,
              "#bd3786"
             ],
             [
              0.5555555555555556,
              "#d8576b"
             ],
             [
              0.6666666666666666,
              "#ed7953"
             ],
             [
              0.7777777777777778,
              "#fb9f3a"
             ],
             [
              0.8888888888888888,
              "#fdca26"
             ],
             [
              1,
              "#f0f921"
             ]
            ],
            "type": "histogram2d"
           }
          ],
          "histogram2dcontour": [
           {
            "colorbar": {
             "outlinewidth": 0,
             "ticks": ""
            },
            "colorscale": [
             [
              0,
              "#0d0887"
             ],
             [
              0.1111111111111111,
              "#46039f"
             ],
             [
              0.2222222222222222,
              "#7201a8"
             ],
             [
              0.3333333333333333,
              "#9c179e"
             ],
             [
              0.4444444444444444,
              "#bd3786"
             ],
             [
              0.5555555555555556,
              "#d8576b"
             ],
             [
              0.6666666666666666,
              "#ed7953"
             ],
             [
              0.7777777777777778,
              "#fb9f3a"
             ],
             [
              0.8888888888888888,
              "#fdca26"
             ],
             [
              1,
              "#f0f921"
             ]
            ],
            "type": "histogram2dcontour"
           }
          ],
          "mesh3d": [
           {
            "colorbar": {
             "outlinewidth": 0,
             "ticks": ""
            },
            "type": "mesh3d"
           }
          ],
          "parcoords": [
           {
            "line": {
             "colorbar": {
              "outlinewidth": 0,
              "ticks": ""
             }
            },
            "type": "parcoords"
           }
          ],
          "pie": [
           {
            "automargin": true,
            "type": "pie"
           }
          ],
          "scatter": [
           {
            "fillpattern": {
             "fillmode": "overlay",
             "size": 10,
             "solidity": 0.2
            },
            "type": "scatter"
           }
          ],
          "scatter3d": [
           {
            "line": {
             "colorbar": {
              "outlinewidth": 0,
              "ticks": ""
             }
            },
            "marker": {
             "colorbar": {
              "outlinewidth": 0,
              "ticks": ""
             }
            },
            "type": "scatter3d"
           }
          ],
          "scattercarpet": [
           {
            "marker": {
             "colorbar": {
              "outlinewidth": 0,
              "ticks": ""
             }
            },
            "type": "scattercarpet"
           }
          ],
          "scattergeo": [
           {
            "marker": {
             "colorbar": {
              "outlinewidth": 0,
              "ticks": ""
             }
            },
            "type": "scattergeo"
           }
          ],
          "scattergl": [
           {
            "marker": {
             "colorbar": {
              "outlinewidth": 0,
              "ticks": ""
             }
            },
            "type": "scattergl"
           }
          ],
          "scattermapbox": [
           {
            "marker": {
             "colorbar": {
              "outlinewidth": 0,
              "ticks": ""
             }
            },
            "type": "scattermapbox"
           }
          ],
          "scatterpolar": [
           {
            "marker": {
             "colorbar": {
              "outlinewidth": 0,
              "ticks": ""
             }
            },
            "type": "scatterpolar"
           }
          ],
          "scatterpolargl": [
           {
            "marker": {
             "colorbar": {
              "outlinewidth": 0,
              "ticks": ""
             }
            },
            "type": "scatterpolargl"
           }
          ],
          "scatterternary": [
           {
            "marker": {
             "colorbar": {
              "outlinewidth": 0,
              "ticks": ""
             }
            },
            "type": "scatterternary"
           }
          ],
          "surface": [
           {
            "colorbar": {
             "outlinewidth": 0,
             "ticks": ""
            },
            "colorscale": [
             [
              0,
              "#0d0887"
             ],
             [
              0.1111111111111111,
              "#46039f"
             ],
             [
              0.2222222222222222,
              "#7201a8"
             ],
             [
              0.3333333333333333,
              "#9c179e"
             ],
             [
              0.4444444444444444,
              "#bd3786"
             ],
             [
              0.5555555555555556,
              "#d8576b"
             ],
             [
              0.6666666666666666,
              "#ed7953"
             ],
             [
              0.7777777777777778,
              "#fb9f3a"
             ],
             [
              0.8888888888888888,
              "#fdca26"
             ],
             [
              1,
              "#f0f921"
             ]
            ],
            "type": "surface"
           }
          ],
          "table": [
           {
            "cells": {
             "fill": {
              "color": "#EBF0F8"
             },
             "line": {
              "color": "white"
             }
            },
            "header": {
             "fill": {
              "color": "#C8D4E3"
             },
             "line": {
              "color": "white"
             }
            },
            "type": "table"
           }
          ]
         },
         "layout": {
          "annotationdefaults": {
           "arrowcolor": "#2a3f5f",
           "arrowhead": 0,
           "arrowwidth": 1
          },
          "autotypenumbers": "strict",
          "coloraxis": {
           "colorbar": {
            "outlinewidth": 0,
            "ticks": ""
           }
          },
          "colorscale": {
           "diverging": [
            [
             0,
             "#8e0152"
            ],
            [
             0.1,
             "#c51b7d"
            ],
            [
             0.2,
             "#de77ae"
            ],
            [
             0.3,
             "#f1b6da"
            ],
            [
             0.4,
             "#fde0ef"
            ],
            [
             0.5,
             "#f7f7f7"
            ],
            [
             0.6,
             "#e6f5d0"
            ],
            [
             0.7,
             "#b8e186"
            ],
            [
             0.8,
             "#7fbc41"
            ],
            [
             0.9,
             "#4d9221"
            ],
            [
             1,
             "#276419"
            ]
           ],
           "sequential": [
            [
             0,
             "#0d0887"
            ],
            [
             0.1111111111111111,
             "#46039f"
            ],
            [
             0.2222222222222222,
             "#7201a8"
            ],
            [
             0.3333333333333333,
             "#9c179e"
            ],
            [
             0.4444444444444444,
             "#bd3786"
            ],
            [
             0.5555555555555556,
             "#d8576b"
            ],
            [
             0.6666666666666666,
             "#ed7953"
            ],
            [
             0.7777777777777778,
             "#fb9f3a"
            ],
            [
             0.8888888888888888,
             "#fdca26"
            ],
            [
             1,
             "#f0f921"
            ]
           ],
           "sequentialminus": [
            [
             0,
             "#0d0887"
            ],
            [
             0.1111111111111111,
             "#46039f"
            ],
            [
             0.2222222222222222,
             "#7201a8"
            ],
            [
             0.3333333333333333,
             "#9c179e"
            ],
            [
             0.4444444444444444,
             "#bd3786"
            ],
            [
             0.5555555555555556,
             "#d8576b"
            ],
            [
             0.6666666666666666,
             "#ed7953"
            ],
            [
             0.7777777777777778,
             "#fb9f3a"
            ],
            [
             0.8888888888888888,
             "#fdca26"
            ],
            [
             1,
             "#f0f921"
            ]
           ]
          },
          "colorway": [
           "#636efa",
           "#EF553B",
           "#00cc96",
           "#ab63fa",
           "#FFA15A",
           "#19d3f3",
           "#FF6692",
           "#B6E880",
           "#FF97FF",
           "#FECB52"
          ],
          "font": {
           "color": "#2a3f5f"
          },
          "geo": {
           "bgcolor": "white",
           "lakecolor": "white",
           "landcolor": "white",
           "showlakes": true,
           "showland": true,
           "subunitcolor": "#C8D4E3"
          },
          "hoverlabel": {
           "align": "left"
          },
          "hovermode": "closest",
          "mapbox": {
           "style": "light"
          },
          "paper_bgcolor": "white",
          "plot_bgcolor": "white",
          "polar": {
           "angularaxis": {
            "gridcolor": "#EBF0F8",
            "linecolor": "#EBF0F8",
            "ticks": ""
           },
           "bgcolor": "white",
           "radialaxis": {
            "gridcolor": "#EBF0F8",
            "linecolor": "#EBF0F8",
            "ticks": ""
           }
          },
          "scene": {
           "xaxis": {
            "backgroundcolor": "white",
            "gridcolor": "#DFE8F3",
            "gridwidth": 2,
            "linecolor": "#EBF0F8",
            "showbackground": true,
            "ticks": "",
            "zerolinecolor": "#EBF0F8"
           },
           "yaxis": {
            "backgroundcolor": "white",
            "gridcolor": "#DFE8F3",
            "gridwidth": 2,
            "linecolor": "#EBF0F8",
            "showbackground": true,
            "ticks": "",
            "zerolinecolor": "#EBF0F8"
           },
           "zaxis": {
            "backgroundcolor": "white",
            "gridcolor": "#DFE8F3",
            "gridwidth": 2,
            "linecolor": "#EBF0F8",
            "showbackground": true,
            "ticks": "",
            "zerolinecolor": "#EBF0F8"
           }
          },
          "shapedefaults": {
           "line": {
            "color": "#2a3f5f"
           }
          },
          "ternary": {
           "aaxis": {
            "gridcolor": "#DFE8F3",
            "linecolor": "#A2B1C6",
            "ticks": ""
           },
           "baxis": {
            "gridcolor": "#DFE8F3",
            "linecolor": "#A2B1C6",
            "ticks": ""
           },
           "bgcolor": "white",
           "caxis": {
            "gridcolor": "#DFE8F3",
            "linecolor": "#A2B1C6",
            "ticks": ""
           }
          },
          "title": {
           "x": 0.05
          },
          "xaxis": {
           "automargin": true,
           "gridcolor": "#EBF0F8",
           "linecolor": "#EBF0F8",
           "ticks": "",
           "title": {
            "standoff": 15
           },
           "zerolinecolor": "#EBF0F8",
           "zerolinewidth": 2
          },
          "yaxis": {
           "automargin": true,
           "gridcolor": "#EBF0F8",
           "linecolor": "#EBF0F8",
           "ticks": "",
           "title": {
            "standoff": 15
           },
           "zerolinecolor": "#EBF0F8",
           "zerolinewidth": 2
          }
         }
        },
        "title": {
         "text": "<b>공제비율이 높은 질병(남성)</b><br><sup>공제비율 = 보험자부담금 / 요양급여비용총액</sup>",
         "x": 0.5,
         "y": 0.87
        },
        "xaxis": {
         "anchor": "y",
         "domain": [
          0,
          0.28888888888888886
         ]
        },
        "xaxis2": {
         "anchor": "y2",
         "domain": [
          0.3555555555555555,
          0.6444444444444444
         ]
        },
        "xaxis3": {
         "anchor": "y3",
         "domain": [
          0.711111111111111,
          0.9999999999999999
         ]
        },
        "xaxis4": {
         "anchor": "y4",
         "domain": [
          0,
          0.28888888888888886
         ]
        },
        "xaxis5": {
         "anchor": "y5",
         "domain": [
          0.3555555555555555,
          0.6444444444444444
         ]
        },
        "xaxis6": {
         "anchor": "y6",
         "domain": [
          0.711111111111111,
          0.9999999999999999
         ]
        },
        "yaxis": {
         "anchor": "x",
         "domain": [
          0.625,
          1
         ],
         "range": [
          60,
          100
         ],
         "title": {
          "text": "<b>공제비율(%)</b>"
         }
        },
        "yaxis2": {
         "anchor": "x2",
         "domain": [
          0.625,
          1
         ],
         "range": [
          60,
          100
         ]
        },
        "yaxis3": {
         "anchor": "x3",
         "domain": [
          0.625,
          1
         ],
         "range": [
          60,
          100
         ]
        },
        "yaxis4": {
         "anchor": "x4",
         "domain": [
          0,
          0.375
         ],
         "range": [
          60,
          100
         ]
        },
        "yaxis5": {
         "anchor": "x5",
         "domain": [
          0,
          0.375
         ],
         "range": [
          60,
          100
         ]
        },
        "yaxis6": {
         "anchor": "x6",
         "domain": [
          0,
          0.375
         ],
         "range": [
          60,
          100
         ]
        }
       }
      },
      "text/html": [
       "<div>                            <div id=\"b69f6517-1555-4808-9461-44e4cd250b07\" class=\"plotly-graph-div\" style=\"height:525px; width:100%;\"></div>            <script type=\"text/javascript\">                require([\"plotly\"], function(Plotly) {                    window.PLOTLYENV=window.PLOTLYENV || {};                                    if (document.getElementById(\"b69f6517-1555-4808-9461-44e4cd250b07\")) {                    Plotly.newPlot(                        \"b69f6517-1555-4808-9461-44e4cd250b07\",                        [{\"marker\":{\"color\":\"#80489C\"},\"name\":\"2017\",\"text\":[98.66993439725519,95.41930049112479,95.14225179796541,93.96749014915217,93.06474479954203,92.93308694729464,92.91175587303339,92.65931995158842,92.61684763061385,92.52660941087692],\"textposition\":\"auto\",\"x\":[\"\\ubbf8\\uc219\\uc544\",\"\\ud638\\ud761\\uae30 \\uacb0\\ud575\",\"\\uacb0\\ud575\",\"\\ub9cc\\uc131 \\ubc31\\ud608\\ubcd1\",\"\\ubc31\\ud608\\ubcd1\",\"\\ucdcc\\uc7a5\\uc554\",\"\\uae09\\uc131 \\ubc31\\ud608\\ubcd1\",\"\\uc0dd\\ud65c\\uc2b5\\uad00\\ubcd1_\\uc2dd\\ub3c4\\uc554\",\"\\uc0dd\\ud65c\\uc2b5\\uad00\\ubcd1_\\uad6c\\uac15\\uc554\",\"\\uc0dd\\ud65c\\uc2b5\\uad00\\ubcd1_\\ud3d0\\uc554\"],\"y\":[98.66993439725519,95.41930049112479,95.14225179796541,93.96749014915217,93.06474479954203,92.93308694729464,92.91175587303339,92.65931995158842,92.61684763061385,92.52660941087692],\"type\":\"bar\",\"xaxis\":\"x\",\"yaxis\":\"y\"},{\"marker\":{\"color\":\"#FFD372\"},\"name\":\"2018\",\"text\":[98.87438262023814,95.86538733860164,95.52280456622836,93.54959067473776,92.52658574136234,92.41208262204069,92.30163710784508,92.29362747433909,92.22726210361184,92.20267117734163],\"textposition\":\"auto\",\"x\":[\"\\ubbf8\\uc219\\uc544\",\"\\ud638\\ud761\\uae30 \\uacb0\\ud575\",\"\\uacb0\\ud575\",\"\\ub9cc\\uc131 \\ubc31\\ud608\\ubcd1\",\"\\ubc31\\ud608\\ubcd1\",\"\\uae09\\uc131 \\ubc31\\ud608\\ubcd1\",\"\\uc0dd\\ud65c\\uc2b5\\uad00\\ubcd1_\\ud3d0\\uc554\",\"\\uc0dd\\ud65c\\uc2b5\\uad00\\ubcd1_\\uc2dd\\ub3c4\\uc554\",\"\\ucdcc\\uc7a5\\uc554\",\"\\uc0dd\\ud65c\\uc2b5\\uad00\\ubcd1_\\uad6c\\uac15\\uc554\"],\"y\":[98.87438262023814,95.86538733860164,95.52280456622836,93.54959067473776,92.52658574136234,92.41208262204069,92.30163710784508,92.29362747433909,92.22726210361184,92.20267117734163],\"type\":\"bar\",\"xaxis\":\"x2\",\"yaxis\":\"y2\"},{\"marker\":{\"color\":\"#4682B4\"},\"name\":\"2019\",\"text\":[98.86598437138966,96.17762247100035,95.77528600173862,93.57944806588489,92.38865710604162,92.24135881381086,91.7360905518657,91.70576554877677,91.60267935547321,91.50197414438702],\"textposition\":\"auto\",\"x\":[\"\\ubbf8\\uc219\\uc544\",\"\\ud638\\ud761\\uae30 \\uacb0\\ud575\",\"\\uacb0\\ud575\",\"\\ub9cc\\uc131 \\ubc31\\ud608\\ubcd1\",\"\\ubc31\\ud608\\ubcd1\",\"\\uae09\\uc131 \\ubc31\\ud608\\ubcd1\",\"\\uc0dd\\ud65c\\uc2b5\\uad00\\ubcd1_\\ud6c4\\ub450\\uc554\",\"\\uc0dd\\ud65c\\uc2b5\\uad00\\ubcd1_\\ud3d0\\uc554\",\"\\uc0dd\\ud65c\\uc2b5\\uad00\\ubcd1_\\uad6c\\uac15\\uc554\",\"\\uc0dd\\ud65c\\uc2b5\\uad00\\ubcd1_\\uc720\\ubc29\\uc554\"],\"y\":[98.86598437138966,96.17762247100035,95.77528600173862,93.57944806588489,92.38865710604162,92.24135881381086,91.7360905518657,91.70576554877677,91.60267935547321,91.50197414438702],\"type\":\"bar\",\"xaxis\":\"x3\",\"yaxis\":\"y3\"},{\"marker\":{\"color\":\"#AACB73\"},\"name\":\"2020\",\"text\":[98.96379272087951,96.08930955610283,95.65976332956872,93.1226367445476,92.12511406527167,91.95190836805716,91.84713587633532,91.72347609268525,91.43652684153383,91.43156364249145],\"textposition\":\"auto\",\"x\":[\"\\ubbf8\\uc219\\uc544\",\"\\ud638\\ud761\\uae30 \\uacb0\\ud575\",\"\\uacb0\\ud575\",\"\\ub9cc\\uc131 \\ubc31\\ud608\\ubcd1\",\"\\ubc31\\ud608\\ubcd1\",\"\\uae09\\uc131 \\ubc31\\ud608\\ubcd1\",\"\\uc0dd\\ud65c\\uc2b5\\uad00\\ubcd1_\\ud6c4\\ub450\\uc554\",\"\\uc0dd\\ud65c\\uc2b5\\uad00\\ubcd1_\\ud3d0\\uc554\",\"\\ud53c\\ubd80\\uc554\",\"\\uc0dd\\ud65c\\uc2b5\\uad00\\ubcd1_\\uad6c\\uac15\\uc554\"],\"y\":[98.96379272087951,96.08930955610283,95.65976332956872,93.1226367445476,92.12511406527167,91.95190836805716,91.84713587633532,91.72347609268525,91.43652684153383,91.43156364249145],\"type\":\"bar\",\"xaxis\":\"x4\",\"yaxis\":\"y4\"},{\"marker\":{\"color\":\"#FD8A8A\"},\"name\":\"2021\",\"text\":[98.90602837629696,96.14468057108549,95.61489712704076,93.14543232207166,91.87081539878828,91.85463179942927,91.68173775062395,91.6060096999466,91.3837933504887,91.33248253283006],\"textposition\":\"auto\",\"x\":[\"\\ubbf8\\uc219\\uc544\",\"\\ud638\\ud761\\uae30 \\uacb0\\ud575\",\"\\uacb0\\ud575\",\"\\ub9cc\\uc131 \\ubc31\\ud608\\ubcd1\",\"\\ubc31\\ud608\\ubcd1\",\"\\uc0dd\\ud65c\\uc2b5\\uad00\\ubcd1_\\ud6c4\\ub450\\uc554\",\"\\uae09\\uc131 \\ubc31\\ud608\\ubcd1\",\"\\uc0dd\\ud65c\\uc2b5\\uad00\\ubcd1_\\ud3d0\\uc554\",\"\\uc804\\ub9bd\\uc120\\uc554\",\"\\ud53c\\ubd80\\uc554\"],\"y\":[98.90602837629696,96.14468057108549,95.61489712704076,93.14543232207166,91.87081539878828,91.85463179942927,91.68173775062395,91.6060096999466,91.3837933504887,91.33248253283006],\"type\":\"bar\",\"xaxis\":\"x5\",\"yaxis\":\"y5\"}],                        {\"template\":{\"data\":{\"barpolar\":[{\"marker\":{\"line\":{\"color\":\"white\",\"width\":0.5},\"pattern\":{\"fillmode\":\"overlay\",\"size\":10,\"solidity\":0.2}},\"type\":\"barpolar\"}],\"bar\":[{\"error_x\":{\"color\":\"#2a3f5f\"},\"error_y\":{\"color\":\"#2a3f5f\"},\"marker\":{\"line\":{\"color\":\"white\",\"width\":0.5},\"pattern\":{\"fillmode\":\"overlay\",\"size\":10,\"solidity\":0.2}},\"type\":\"bar\"}],\"carpet\":[{\"aaxis\":{\"endlinecolor\":\"#2a3f5f\",\"gridcolor\":\"#C8D4E3\",\"linecolor\":\"#C8D4E3\",\"minorgridcolor\":\"#C8D4E3\",\"startlinecolor\":\"#2a3f5f\"},\"baxis\":{\"endlinecolor\":\"#2a3f5f\",\"gridcolor\":\"#C8D4E3\",\"linecolor\":\"#C8D4E3\",\"minorgridcolor\":\"#C8D4E3\",\"startlinecolor\":\"#2a3f5f\"},\"type\":\"carpet\"}],\"choropleth\":[{\"colorbar\":{\"outlinewidth\":0,\"ticks\":\"\"},\"type\":\"choropleth\"}],\"contourcarpet\":[{\"colorbar\":{\"outlinewidth\":0,\"ticks\":\"\"},\"type\":\"contourcarpet\"}],\"contour\":[{\"colorbar\":{\"outlinewidth\":0,\"ticks\":\"\"},\"colorscale\":[[0.0,\"#0d0887\"],[0.1111111111111111,\"#46039f\"],[0.2222222222222222,\"#7201a8\"],[0.3333333333333333,\"#9c179e\"],[0.4444444444444444,\"#bd3786\"],[0.5555555555555556,\"#d8576b\"],[0.6666666666666666,\"#ed7953\"],[0.7777777777777778,\"#fb9f3a\"],[0.8888888888888888,\"#fdca26\"],[1.0,\"#f0f921\"]],\"type\":\"contour\"}],\"heatmapgl\":[{\"colorbar\":{\"outlinewidth\":0,\"ticks\":\"\"},\"colorscale\":[[0.0,\"#0d0887\"],[0.1111111111111111,\"#46039f\"],[0.2222222222222222,\"#7201a8\"],[0.3333333333333333,\"#9c179e\"],[0.4444444444444444,\"#bd3786\"],[0.5555555555555556,\"#d8576b\"],[0.6666666666666666,\"#ed7953\"],[0.7777777777777778,\"#fb9f3a\"],[0.8888888888888888,\"#fdca26\"],[1.0,\"#f0f921\"]],\"type\":\"heatmapgl\"}],\"heatmap\":[{\"colorbar\":{\"outlinewidth\":0,\"ticks\":\"\"},\"colorscale\":[[0.0,\"#0d0887\"],[0.1111111111111111,\"#46039f\"],[0.2222222222222222,\"#7201a8\"],[0.3333333333333333,\"#9c179e\"],[0.4444444444444444,\"#bd3786\"],[0.5555555555555556,\"#d8576b\"],[0.6666666666666666,\"#ed7953\"],[0.7777777777777778,\"#fb9f3a\"],[0.8888888888888888,\"#fdca26\"],[1.0,\"#f0f921\"]],\"type\":\"heatmap\"}],\"histogram2dcontour\":[{\"colorbar\":{\"outlinewidth\":0,\"ticks\":\"\"},\"colorscale\":[[0.0,\"#0d0887\"],[0.1111111111111111,\"#46039f\"],[0.2222222222222222,\"#7201a8\"],[0.3333333333333333,\"#9c179e\"],[0.4444444444444444,\"#bd3786\"],[0.5555555555555556,\"#d8576b\"],[0.6666666666666666,\"#ed7953\"],[0.7777777777777778,\"#fb9f3a\"],[0.8888888888888888,\"#fdca26\"],[1.0,\"#f0f921\"]],\"type\":\"histogram2dcontour\"}],\"histogram2d\":[{\"colorbar\":{\"outlinewidth\":0,\"ticks\":\"\"},\"colorscale\":[[0.0,\"#0d0887\"],[0.1111111111111111,\"#46039f\"],[0.2222222222222222,\"#7201a8\"],[0.3333333333333333,\"#9c179e\"],[0.4444444444444444,\"#bd3786\"],[0.5555555555555556,\"#d8576b\"],[0.6666666666666666,\"#ed7953\"],[0.7777777777777778,\"#fb9f3a\"],[0.8888888888888888,\"#fdca26\"],[1.0,\"#f0f921\"]],\"type\":\"histogram2d\"}],\"histogram\":[{\"marker\":{\"pattern\":{\"fillmode\":\"overlay\",\"size\":10,\"solidity\":0.2}},\"type\":\"histogram\"}],\"mesh3d\":[{\"colorbar\":{\"outlinewidth\":0,\"ticks\":\"\"},\"type\":\"mesh3d\"}],\"parcoords\":[{\"line\":{\"colorbar\":{\"outlinewidth\":0,\"ticks\":\"\"}},\"type\":\"parcoords\"}],\"pie\":[{\"automargin\":true,\"type\":\"pie\"}],\"scatter3d\":[{\"line\":{\"colorbar\":{\"outlinewidth\":0,\"ticks\":\"\"}},\"marker\":{\"colorbar\":{\"outlinewidth\":0,\"ticks\":\"\"}},\"type\":\"scatter3d\"}],\"scattercarpet\":[{\"marker\":{\"colorbar\":{\"outlinewidth\":0,\"ticks\":\"\"}},\"type\":\"scattercarpet\"}],\"scattergeo\":[{\"marker\":{\"colorbar\":{\"outlinewidth\":0,\"ticks\":\"\"}},\"type\":\"scattergeo\"}],\"scattergl\":[{\"marker\":{\"colorbar\":{\"outlinewidth\":0,\"ticks\":\"\"}},\"type\":\"scattergl\"}],\"scattermapbox\":[{\"marker\":{\"colorbar\":{\"outlinewidth\":0,\"ticks\":\"\"}},\"type\":\"scattermapbox\"}],\"scatterpolargl\":[{\"marker\":{\"colorbar\":{\"outlinewidth\":0,\"ticks\":\"\"}},\"type\":\"scatterpolargl\"}],\"scatterpolar\":[{\"marker\":{\"colorbar\":{\"outlinewidth\":0,\"ticks\":\"\"}},\"type\":\"scatterpolar\"}],\"scatter\":[{\"fillpattern\":{\"fillmode\":\"overlay\",\"size\":10,\"solidity\":0.2},\"type\":\"scatter\"}],\"scatterternary\":[{\"marker\":{\"colorbar\":{\"outlinewidth\":0,\"ticks\":\"\"}},\"type\":\"scatterternary\"}],\"surface\":[{\"colorbar\":{\"outlinewidth\":0,\"ticks\":\"\"},\"colorscale\":[[0.0,\"#0d0887\"],[0.1111111111111111,\"#46039f\"],[0.2222222222222222,\"#7201a8\"],[0.3333333333333333,\"#9c179e\"],[0.4444444444444444,\"#bd3786\"],[0.5555555555555556,\"#d8576b\"],[0.6666666666666666,\"#ed7953\"],[0.7777777777777778,\"#fb9f3a\"],[0.8888888888888888,\"#fdca26\"],[1.0,\"#f0f921\"]],\"type\":\"surface\"}],\"table\":[{\"cells\":{\"fill\":{\"color\":\"#EBF0F8\"},\"line\":{\"color\":\"white\"}},\"header\":{\"fill\":{\"color\":\"#C8D4E3\"},\"line\":{\"color\":\"white\"}},\"type\":\"table\"}]},\"layout\":{\"annotationdefaults\":{\"arrowcolor\":\"#2a3f5f\",\"arrowhead\":0,\"arrowwidth\":1},\"autotypenumbers\":\"strict\",\"coloraxis\":{\"colorbar\":{\"outlinewidth\":0,\"ticks\":\"\"}},\"colorscale\":{\"diverging\":[[0,\"#8e0152\"],[0.1,\"#c51b7d\"],[0.2,\"#de77ae\"],[0.3,\"#f1b6da\"],[0.4,\"#fde0ef\"],[0.5,\"#f7f7f7\"],[0.6,\"#e6f5d0\"],[0.7,\"#b8e186\"],[0.8,\"#7fbc41\"],[0.9,\"#4d9221\"],[1,\"#276419\"]],\"sequential\":[[0.0,\"#0d0887\"],[0.1111111111111111,\"#46039f\"],[0.2222222222222222,\"#7201a8\"],[0.3333333333333333,\"#9c179e\"],[0.4444444444444444,\"#bd3786\"],[0.5555555555555556,\"#d8576b\"],[0.6666666666666666,\"#ed7953\"],[0.7777777777777778,\"#fb9f3a\"],[0.8888888888888888,\"#fdca26\"],[1.0,\"#f0f921\"]],\"sequentialminus\":[[0.0,\"#0d0887\"],[0.1111111111111111,\"#46039f\"],[0.2222222222222222,\"#7201a8\"],[0.3333333333333333,\"#9c179e\"],[0.4444444444444444,\"#bd3786\"],[0.5555555555555556,\"#d8576b\"],[0.6666666666666666,\"#ed7953\"],[0.7777777777777778,\"#fb9f3a\"],[0.8888888888888888,\"#fdca26\"],[1.0,\"#f0f921\"]]},\"colorway\":[\"#636efa\",\"#EF553B\",\"#00cc96\",\"#ab63fa\",\"#FFA15A\",\"#19d3f3\",\"#FF6692\",\"#B6E880\",\"#FF97FF\",\"#FECB52\"],\"font\":{\"color\":\"#2a3f5f\"},\"geo\":{\"bgcolor\":\"white\",\"lakecolor\":\"white\",\"landcolor\":\"white\",\"showlakes\":true,\"showland\":true,\"subunitcolor\":\"#C8D4E3\"},\"hoverlabel\":{\"align\":\"left\"},\"hovermode\":\"closest\",\"mapbox\":{\"style\":\"light\"},\"paper_bgcolor\":\"white\",\"plot_bgcolor\":\"white\",\"polar\":{\"angularaxis\":{\"gridcolor\":\"#EBF0F8\",\"linecolor\":\"#EBF0F8\",\"ticks\":\"\"},\"bgcolor\":\"white\",\"radialaxis\":{\"gridcolor\":\"#EBF0F8\",\"linecolor\":\"#EBF0F8\",\"ticks\":\"\"}},\"scene\":{\"xaxis\":{\"backgroundcolor\":\"white\",\"gridcolor\":\"#DFE8F3\",\"gridwidth\":2,\"linecolor\":\"#EBF0F8\",\"showbackground\":true,\"ticks\":\"\",\"zerolinecolor\":\"#EBF0F8\"},\"yaxis\":{\"backgroundcolor\":\"white\",\"gridcolor\":\"#DFE8F3\",\"gridwidth\":2,\"linecolor\":\"#EBF0F8\",\"showbackground\":true,\"ticks\":\"\",\"zerolinecolor\":\"#EBF0F8\"},\"zaxis\":{\"backgroundcolor\":\"white\",\"gridcolor\":\"#DFE8F3\",\"gridwidth\":2,\"linecolor\":\"#EBF0F8\",\"showbackground\":true,\"ticks\":\"\",\"zerolinecolor\":\"#EBF0F8\"}},\"shapedefaults\":{\"line\":{\"color\":\"#2a3f5f\"}},\"ternary\":{\"aaxis\":{\"gridcolor\":\"#DFE8F3\",\"linecolor\":\"#A2B1C6\",\"ticks\":\"\"},\"baxis\":{\"gridcolor\":\"#DFE8F3\",\"linecolor\":\"#A2B1C6\",\"ticks\":\"\"},\"bgcolor\":\"white\",\"caxis\":{\"gridcolor\":\"#DFE8F3\",\"linecolor\":\"#A2B1C6\",\"ticks\":\"\"}},\"title\":{\"x\":0.05},\"xaxis\":{\"automargin\":true,\"gridcolor\":\"#EBF0F8\",\"linecolor\":\"#EBF0F8\",\"ticks\":\"\",\"title\":{\"standoff\":15},\"zerolinecolor\":\"#EBF0F8\",\"zerolinewidth\":2},\"yaxis\":{\"automargin\":true,\"gridcolor\":\"#EBF0F8\",\"linecolor\":\"#EBF0F8\",\"ticks\":\"\",\"title\":{\"standoff\":15},\"zerolinecolor\":\"#EBF0F8\",\"zerolinewidth\":2}}},\"xaxis\":{\"anchor\":\"y\",\"domain\":[0.0,0.28888888888888886]},\"yaxis\":{\"anchor\":\"x\",\"domain\":[0.625,1.0],\"range\":[60,100],\"title\":{\"text\":\"<b>\\uacf5\\uc81c\\ube44\\uc728(%)</b>\"}},\"xaxis2\":{\"anchor\":\"y2\",\"domain\":[0.3555555555555555,0.6444444444444444]},\"yaxis2\":{\"anchor\":\"x2\",\"domain\":[0.625,1.0],\"range\":[60,100]},\"xaxis3\":{\"anchor\":\"y3\",\"domain\":[0.711111111111111,0.9999999999999999]},\"yaxis3\":{\"anchor\":\"x3\",\"domain\":[0.625,1.0],\"range\":[60,100]},\"xaxis4\":{\"anchor\":\"y4\",\"domain\":[0.0,0.28888888888888886]},\"yaxis4\":{\"anchor\":\"x4\",\"domain\":[0.0,0.375],\"range\":[60,100]},\"xaxis5\":{\"anchor\":\"y5\",\"domain\":[0.3555555555555555,0.6444444444444444]},\"yaxis5\":{\"anchor\":\"x5\",\"domain\":[0.0,0.375],\"range\":[60,100]},\"xaxis6\":{\"anchor\":\"y6\",\"domain\":[0.711111111111111,0.9999999999999999]},\"yaxis6\":{\"anchor\":\"x6\",\"domain\":[0.0,0.375],\"range\":[60,100]},\"annotations\":[{\"font\":{\"size\":16},\"showarrow\":false,\"text\":\"2017\",\"x\":0.14444444444444443,\"xanchor\":\"center\",\"xref\":\"paper\",\"y\":1.0,\"yanchor\":\"bottom\",\"yref\":\"paper\"},{\"font\":{\"size\":16},\"showarrow\":false,\"text\":\"2018\",\"x\":0.49999999999999994,\"xanchor\":\"center\",\"xref\":\"paper\",\"y\":1.0,\"yanchor\":\"bottom\",\"yref\":\"paper\"},{\"font\":{\"size\":16},\"showarrow\":false,\"text\":\"2019\",\"x\":0.8555555555555554,\"xanchor\":\"center\",\"xref\":\"paper\",\"y\":1.0,\"yanchor\":\"bottom\",\"yref\":\"paper\"},{\"font\":{\"size\":16},\"showarrow\":false,\"text\":\"2020\",\"x\":0.14444444444444443,\"xanchor\":\"center\",\"xref\":\"paper\",\"y\":0.375,\"yanchor\":\"bottom\",\"yref\":\"paper\"},{\"font\":{\"size\":16},\"showarrow\":false,\"text\":\"2021\",\"x\":0.49999999999999994,\"xanchor\":\"center\",\"xref\":\"paper\",\"y\":0.375,\"yanchor\":\"bottom\",\"yref\":\"paper\"}],\"title\":{\"text\":\"<b>\\uacf5\\uc81c\\ube44\\uc728\\uc774 \\ub192\\uc740 \\uc9c8\\ubcd1(\\ub0a8\\uc131)</b><br><sup>\\uacf5\\uc81c\\ube44\\uc728 = \\ubcf4\\ud5d8\\uc790\\ubd80\\ub2f4\\uae08 / \\uc694\\uc591\\uae09\\uc5ec\\ube44\\uc6a9\\ucd1d\\uc561</sup>\",\"x\":0.5,\"y\":0.87}},                        {\"responsive\": true}                    ).then(function(){\n",
       "                            \n",
       "var gd = document.getElementById('b69f6517-1555-4808-9461-44e4cd250b07');\n",
       "var x = new MutationObserver(function (mutations, observer) {{\n",
       "        var display = window.getComputedStyle(gd).display;\n",
       "        if (!display || display === 'none') {{\n",
       "            console.log([gd, 'removed!']);\n",
       "            Plotly.purge(gd);\n",
       "            observer.disconnect();\n",
       "        }}\n",
       "}});\n",
       "\n",
       "// Listen for the removal of the full notebook cells\n",
       "var notebookContainer = gd.closest('#notebook-container');\n",
       "if (notebookContainer) {{\n",
       "    x.observe(notebookContainer, {childList: true});\n",
       "}}\n",
       "\n",
       "// Listen for the clearing of the current output cell\n",
       "var outputEl = gd.closest('.output');\n",
       "if (outputEl) {{\n",
       "    x.observe(outputEl, {childList: true});\n",
       "}}\n",
       "\n",
       "                        })                };                });            </script>        </div>"
      ]
     },
     "metadata": {},
     "output_type": "display_data"
    }
   ],
   "source": [
    "# 남자 top10\n",
    "from plotly.subplots import make_subplots\n",
    "\n",
    "fig1 = go.Figure()\n",
    "\n",
    "fig1 = make_subplots(rows=2, cols=3,\n",
    "                    subplot_titles=(\"2017\", \"2018\", \"2019\", \"2020\",\"2021\"),\n",
    "                    column_widths=[0.1, 0.1, 0.1]) # 각 Subplot 별 subtitle 넣기)\n",
    "\n",
    "fig1.add_trace(\n",
    "    go.Bar(\n",
    "        x = Mt2017['항목'], y = Mt2017['공제비율'],\n",
    "        name = '2017',\n",
    "        text = Mt2017['공제비율'],\n",
    "        textposition='auto',\n",
    "        marker = {'color':'#80489C'}\n",
    "    ), row=1, col=1\n",
    ")\n",
    "\n",
    "fig1.add_trace(\n",
    "    go.Bar(\n",
    "        x = Mt2018['항목'], y = Mt2018['공제비율'],\n",
    "        name = '2018',\n",
    "        text = Mt2018['공제비율'],\n",
    "        textposition='auto',\n",
    "        marker = {'color':'#FFD372'}\n",
    "    ), row=1, col=2\n",
    ")\n",
    "\n",
    "fig1.add_trace(\n",
    "    go.Bar(\n",
    "        x = Mt2019['항목'], y = Mt2019['공제비율'],\n",
    "        name = '2019',\n",
    "        text = Mt2019['공제비율'],\n",
    "        textposition='auto',\n",
    "        marker = {'color':'#4682B4'}\n",
    "    ), row=1, col=3\n",
    ")\n",
    "\n",
    "fig1.add_trace(\n",
    "    go.Bar(\n",
    "        x = Mt2020['항목'], y = Mt2020['공제비율'],\n",
    "        name = '2020',\n",
    "        text = Mt2020['공제비율'],\n",
    "        textposition='auto',\n",
    "        marker = {'color':'#AACB73'}\n",
    "    ), row=2, col=1\n",
    ")\n",
    "\n",
    "fig1.add_trace(\n",
    "    go.Bar(\n",
    "        x = Mt2021['항목'], y = Mt2021['공제비율'],\n",
    "        name = '2021',\n",
    "        text = Mt2021['공제비율'],\n",
    "        textposition='auto',\n",
    "        marker = {'color':'#FD8A8A'}\n",
    "    ), row=2, col=2\n",
    ")\n",
    "\n",
    "fig1.update_yaxes(range=[60, 100])\n",
    "fig1.update_layout(title=dict(text = '<b>공제비율이 높은 질병(남성)</b><br><sup>공제비율 = 보험자부담금 / 요양급여비용총액</sup>', x=0.5, y=0.87),\n",
    "    yaxis_title=dict(text = \"<b>공제비율(%)</b>\"))\n",
    "fig1.update_layout(template='plotly_white')\n",
    "\n",
    "fig1.show()"
   ]
  },
  {
   "cell_type": "code",
   "execution_count": 127,
   "metadata": {},
   "outputs": [
    {
     "data": {
      "application/vnd.plotly.v1+json": {
       "config": {
        "plotlyServerURL": "https://plotly.com"
       },
       "data": [
        {
         "marker": {
          "color": "#80489C"
         },
         "name": "2017",
         "text": [
          48.09056544584738,
          49.6489907098803,
          49.6489907098803,
          50.609064446983666,
          53.889953529948386,
          54.568540593336756,
          55.42388741396675,
          56.32240158196624,
          56.32942462514724,
          56.699285280518716
         ],
         "textposition": "auto",
         "type": "bar",
         "x": [
          "성조숙증",
          "생활습관병_비만",
          "비만",
          "피부전구암",
          "흡연(니코틴중독)",
          "갑상선기능항진증",
          "갑상선장애",
          "B형 간염",
          "C형간염",
          "갑상선기능저하증"
         ],
         "xaxis": "x",
         "y": [
          48.09056544584738,
          49.6489907098803,
          49.6489907098803,
          50.609064446983666,
          53.889953529948386,
          54.568540593336756,
          55.42388741396675,
          56.32240158196624,
          56.32942462514724,
          56.699285280518716
         ],
         "yaxis": "y"
        },
        {
         "marker": {
          "color": "#FFD372"
         },
         "name": "2018",
         "text": [
          48.888392554451656,
          49.13828211773417,
          49.13828211773417,
          51.77671702835621,
          54.417055994682386,
          54.51215693699073,
          54.60965546468054,
          55.394885561070616,
          56.67708574503462,
          56.943403923196776
         ],
         "textposition": "auto",
         "type": "bar",
         "x": [
          "성조숙증",
          "생활습관병_비만",
          "비만",
          "피부전구암",
          "갑상선기능항진증",
          "흡연(니코틴중독)",
          "C형간염",
          "갑상선장애",
          "B형 간염",
          "갑상선기능저하증"
         ],
         "xaxis": "x2",
         "y": [
          48.888392554451656,
          49.13828211773417,
          49.13828211773417,
          51.77671702835621,
          54.417055994682386,
          54.51215693699073,
          54.60965546468054,
          55.394885561070616,
          56.67708574503462,
          56.943403923196776
         ],
         "yaxis": "y2"
        },
        {
         "marker": {
          "color": "#4682B4"
         },
         "name": "2019",
         "text": [
          51.032865615012554,
          53.34600194229376,
          54.28586780214213,
          55.1184420023373,
          55.53352682282085,
          55.55645572116502,
          56.187745114251406,
          57.52429928800139,
          57.72246542753335,
          58.22154362096408
         ],
         "textposition": "auto",
         "type": "bar",
         "x": [
          "성조숙증",
          "피부전구암",
          "C형간염",
          "갑상선기능항진증",
          "흡연(니코틴중독)",
          "B형 간염",
          "갑상선장애",
          "다뇨/빈뇨/야뇨 ",
          "야뇨증 ",
          "갑상선기능저하증"
         ],
         "xaxis": "x3",
         "y": [
          51.032865615012554,
          53.34600194229376,
          54.28586780214213,
          55.1184420023373,
          55.53352682282085,
          55.55645572116502,
          56.187745114251406,
          57.52429928800139,
          57.72246542753335,
          58.22154362096408
         ],
         "yaxis": "y3"
        },
        {
         "marker": {
          "color": "#AACB73"
         },
         "name": "2020",
         "text": [
          54.29704245451964,
          54.50950770209012,
          54.80641347716861,
          55.27425675586469,
          55.84094587118235,
          56.828694263278656,
          57.806182618198385,
          57.92968951148715,
          58.20366819386097,
          58.57932892426433
         ],
         "textposition": "auto",
         "type": "bar",
         "x": [
          "성조숙증",
          "C형간염",
          "피부전구암",
          "B형 간염",
          "갑상선기능항진증",
          "갑상선장애",
          "야뇨증 ",
          "다뇨/빈뇨/야뇨 ",
          "흡연(니코틴중독)",
          "갑상선기능저하증"
         ],
         "xaxis": "x4",
         "y": [
          54.29704245451964,
          54.50950770209012,
          54.80641347716861,
          55.27425675586469,
          55.84094587118235,
          56.828694263278656,
          57.806182618198385,
          57.92968951148715,
          58.20366819386097,
          58.57932892426433
         ],
         "yaxis": "y4"
        },
        {
         "marker": {
          "color": "#FD8A8A"
         },
         "name": "2021",
         "text": [
          54.987316597052036,
          55.60000925576507,
          55.75025343075448,
          55.96571029249928,
          56.02548486835941,
          56.84023678547805,
          57.01965750202553,
          57.900542665930544,
          58.01238468744542,
          58.53048975503741
         ],
         "textposition": "auto",
         "type": "bar",
         "x": [
          "B형 간염",
          "C형간염",
          "성조숙증",
          "갑상선기능항진증",
          "피부전구암",
          "흡연(니코틴중독)",
          "갑상선장애",
          "야뇨증 ",
          "다뇨/빈뇨/야뇨 ",
          "갑상선기능저하증"
         ],
         "xaxis": "x5",
         "y": [
          54.987316597052036,
          55.60000925576507,
          55.75025343075448,
          55.96571029249928,
          56.02548486835941,
          56.84023678547805,
          57.01965750202553,
          57.900542665930544,
          58.01238468744542,
          58.53048975503741
         ],
         "yaxis": "y5"
        }
       ],
       "layout": {
        "annotations": [
         {
          "font": {
           "size": 16
          },
          "showarrow": false,
          "text": "2017",
          "x": 0.14444444444444443,
          "xanchor": "center",
          "xref": "paper",
          "y": 1,
          "yanchor": "bottom",
          "yref": "paper"
         },
         {
          "font": {
           "size": 16
          },
          "showarrow": false,
          "text": "2018",
          "x": 0.49999999999999994,
          "xanchor": "center",
          "xref": "paper",
          "y": 1,
          "yanchor": "bottom",
          "yref": "paper"
         },
         {
          "font": {
           "size": 16
          },
          "showarrow": false,
          "text": "2019",
          "x": 0.8555555555555554,
          "xanchor": "center",
          "xref": "paper",
          "y": 1,
          "yanchor": "bottom",
          "yref": "paper"
         },
         {
          "font": {
           "size": 16
          },
          "showarrow": false,
          "text": "2020",
          "x": 0.14444444444444443,
          "xanchor": "center",
          "xref": "paper",
          "y": 0.375,
          "yanchor": "bottom",
          "yref": "paper"
         },
         {
          "font": {
           "size": 16
          },
          "showarrow": false,
          "text": "2021",
          "x": 0.49999999999999994,
          "xanchor": "center",
          "xref": "paper",
          "y": 0.375,
          "yanchor": "bottom",
          "yref": "paper"
         }
        ],
        "template": {
         "data": {
          "bar": [
           {
            "error_x": {
             "color": "#2a3f5f"
            },
            "error_y": {
             "color": "#2a3f5f"
            },
            "marker": {
             "line": {
              "color": "white",
              "width": 0.5
             },
             "pattern": {
              "fillmode": "overlay",
              "size": 10,
              "solidity": 0.2
             }
            },
            "type": "bar"
           }
          ],
          "barpolar": [
           {
            "marker": {
             "line": {
              "color": "white",
              "width": 0.5
             },
             "pattern": {
              "fillmode": "overlay",
              "size": 10,
              "solidity": 0.2
             }
            },
            "type": "barpolar"
           }
          ],
          "carpet": [
           {
            "aaxis": {
             "endlinecolor": "#2a3f5f",
             "gridcolor": "#C8D4E3",
             "linecolor": "#C8D4E3",
             "minorgridcolor": "#C8D4E3",
             "startlinecolor": "#2a3f5f"
            },
            "baxis": {
             "endlinecolor": "#2a3f5f",
             "gridcolor": "#C8D4E3",
             "linecolor": "#C8D4E3",
             "minorgridcolor": "#C8D4E3",
             "startlinecolor": "#2a3f5f"
            },
            "type": "carpet"
           }
          ],
          "choropleth": [
           {
            "colorbar": {
             "outlinewidth": 0,
             "ticks": ""
            },
            "type": "choropleth"
           }
          ],
          "contour": [
           {
            "colorbar": {
             "outlinewidth": 0,
             "ticks": ""
            },
            "colorscale": [
             [
              0,
              "#0d0887"
             ],
             [
              0.1111111111111111,
              "#46039f"
             ],
             [
              0.2222222222222222,
              "#7201a8"
             ],
             [
              0.3333333333333333,
              "#9c179e"
             ],
             [
              0.4444444444444444,
              "#bd3786"
             ],
             [
              0.5555555555555556,
              "#d8576b"
             ],
             [
              0.6666666666666666,
              "#ed7953"
             ],
             [
              0.7777777777777778,
              "#fb9f3a"
             ],
             [
              0.8888888888888888,
              "#fdca26"
             ],
             [
              1,
              "#f0f921"
             ]
            ],
            "type": "contour"
           }
          ],
          "contourcarpet": [
           {
            "colorbar": {
             "outlinewidth": 0,
             "ticks": ""
            },
            "type": "contourcarpet"
           }
          ],
          "heatmap": [
           {
            "colorbar": {
             "outlinewidth": 0,
             "ticks": ""
            },
            "colorscale": [
             [
              0,
              "#0d0887"
             ],
             [
              0.1111111111111111,
              "#46039f"
             ],
             [
              0.2222222222222222,
              "#7201a8"
             ],
             [
              0.3333333333333333,
              "#9c179e"
             ],
             [
              0.4444444444444444,
              "#bd3786"
             ],
             [
              0.5555555555555556,
              "#d8576b"
             ],
             [
              0.6666666666666666,
              "#ed7953"
             ],
             [
              0.7777777777777778,
              "#fb9f3a"
             ],
             [
              0.8888888888888888,
              "#fdca26"
             ],
             [
              1,
              "#f0f921"
             ]
            ],
            "type": "heatmap"
           }
          ],
          "heatmapgl": [
           {
            "colorbar": {
             "outlinewidth": 0,
             "ticks": ""
            },
            "colorscale": [
             [
              0,
              "#0d0887"
             ],
             [
              0.1111111111111111,
              "#46039f"
             ],
             [
              0.2222222222222222,
              "#7201a8"
             ],
             [
              0.3333333333333333,
              "#9c179e"
             ],
             [
              0.4444444444444444,
              "#bd3786"
             ],
             [
              0.5555555555555556,
              "#d8576b"
             ],
             [
              0.6666666666666666,
              "#ed7953"
             ],
             [
              0.7777777777777778,
              "#fb9f3a"
             ],
             [
              0.8888888888888888,
              "#fdca26"
             ],
             [
              1,
              "#f0f921"
             ]
            ],
            "type": "heatmapgl"
           }
          ],
          "histogram": [
           {
            "marker": {
             "pattern": {
              "fillmode": "overlay",
              "size": 10,
              "solidity": 0.2
             }
            },
            "type": "histogram"
           }
          ],
          "histogram2d": [
           {
            "colorbar": {
             "outlinewidth": 0,
             "ticks": ""
            },
            "colorscale": [
             [
              0,
              "#0d0887"
             ],
             [
              0.1111111111111111,
              "#46039f"
             ],
             [
              0.2222222222222222,
              "#7201a8"
             ],
             [
              0.3333333333333333,
              "#9c179e"
             ],
             [
              0.4444444444444444,
              "#bd3786"
             ],
             [
              0.5555555555555556,
              "#d8576b"
             ],
             [
              0.6666666666666666,
              "#ed7953"
             ],
             [
              0.7777777777777778,
              "#fb9f3a"
             ],
             [
              0.8888888888888888,
              "#fdca26"
             ],
             [
              1,
              "#f0f921"
             ]
            ],
            "type": "histogram2d"
           }
          ],
          "histogram2dcontour": [
           {
            "colorbar": {
             "outlinewidth": 0,
             "ticks": ""
            },
            "colorscale": [
             [
              0,
              "#0d0887"
             ],
             [
              0.1111111111111111,
              "#46039f"
             ],
             [
              0.2222222222222222,
              "#7201a8"
             ],
             [
              0.3333333333333333,
              "#9c179e"
             ],
             [
              0.4444444444444444,
              "#bd3786"
             ],
             [
              0.5555555555555556,
              "#d8576b"
             ],
             [
              0.6666666666666666,
              "#ed7953"
             ],
             [
              0.7777777777777778,
              "#fb9f3a"
             ],
             [
              0.8888888888888888,
              "#fdca26"
             ],
             [
              1,
              "#f0f921"
             ]
            ],
            "type": "histogram2dcontour"
           }
          ],
          "mesh3d": [
           {
            "colorbar": {
             "outlinewidth": 0,
             "ticks": ""
            },
            "type": "mesh3d"
           }
          ],
          "parcoords": [
           {
            "line": {
             "colorbar": {
              "outlinewidth": 0,
              "ticks": ""
             }
            },
            "type": "parcoords"
           }
          ],
          "pie": [
           {
            "automargin": true,
            "type": "pie"
           }
          ],
          "scatter": [
           {
            "fillpattern": {
             "fillmode": "overlay",
             "size": 10,
             "solidity": 0.2
            },
            "type": "scatter"
           }
          ],
          "scatter3d": [
           {
            "line": {
             "colorbar": {
              "outlinewidth": 0,
              "ticks": ""
             }
            },
            "marker": {
             "colorbar": {
              "outlinewidth": 0,
              "ticks": ""
             }
            },
            "type": "scatter3d"
           }
          ],
          "scattercarpet": [
           {
            "marker": {
             "colorbar": {
              "outlinewidth": 0,
              "ticks": ""
             }
            },
            "type": "scattercarpet"
           }
          ],
          "scattergeo": [
           {
            "marker": {
             "colorbar": {
              "outlinewidth": 0,
              "ticks": ""
             }
            },
            "type": "scattergeo"
           }
          ],
          "scattergl": [
           {
            "marker": {
             "colorbar": {
              "outlinewidth": 0,
              "ticks": ""
             }
            },
            "type": "scattergl"
           }
          ],
          "scattermapbox": [
           {
            "marker": {
             "colorbar": {
              "outlinewidth": 0,
              "ticks": ""
             }
            },
            "type": "scattermapbox"
           }
          ],
          "scatterpolar": [
           {
            "marker": {
             "colorbar": {
              "outlinewidth": 0,
              "ticks": ""
             }
            },
            "type": "scatterpolar"
           }
          ],
          "scatterpolargl": [
           {
            "marker": {
             "colorbar": {
              "outlinewidth": 0,
              "ticks": ""
             }
            },
            "type": "scatterpolargl"
           }
          ],
          "scatterternary": [
           {
            "marker": {
             "colorbar": {
              "outlinewidth": 0,
              "ticks": ""
             }
            },
            "type": "scatterternary"
           }
          ],
          "surface": [
           {
            "colorbar": {
             "outlinewidth": 0,
             "ticks": ""
            },
            "colorscale": [
             [
              0,
              "#0d0887"
             ],
             [
              0.1111111111111111,
              "#46039f"
             ],
             [
              0.2222222222222222,
              "#7201a8"
             ],
             [
              0.3333333333333333,
              "#9c179e"
             ],
             [
              0.4444444444444444,
              "#bd3786"
             ],
             [
              0.5555555555555556,
              "#d8576b"
             ],
             [
              0.6666666666666666,
              "#ed7953"
             ],
             [
              0.7777777777777778,
              "#fb9f3a"
             ],
             [
              0.8888888888888888,
              "#fdca26"
             ],
             [
              1,
              "#f0f921"
             ]
            ],
            "type": "surface"
           }
          ],
          "table": [
           {
            "cells": {
             "fill": {
              "color": "#EBF0F8"
             },
             "line": {
              "color": "white"
             }
            },
            "header": {
             "fill": {
              "color": "#C8D4E3"
             },
             "line": {
              "color": "white"
             }
            },
            "type": "table"
           }
          ]
         },
         "layout": {
          "annotationdefaults": {
           "arrowcolor": "#2a3f5f",
           "arrowhead": 0,
           "arrowwidth": 1
          },
          "autotypenumbers": "strict",
          "coloraxis": {
           "colorbar": {
            "outlinewidth": 0,
            "ticks": ""
           }
          },
          "colorscale": {
           "diverging": [
            [
             0,
             "#8e0152"
            ],
            [
             0.1,
             "#c51b7d"
            ],
            [
             0.2,
             "#de77ae"
            ],
            [
             0.3,
             "#f1b6da"
            ],
            [
             0.4,
             "#fde0ef"
            ],
            [
             0.5,
             "#f7f7f7"
            ],
            [
             0.6,
             "#e6f5d0"
            ],
            [
             0.7,
             "#b8e186"
            ],
            [
             0.8,
             "#7fbc41"
            ],
            [
             0.9,
             "#4d9221"
            ],
            [
             1,
             "#276419"
            ]
           ],
           "sequential": [
            [
             0,
             "#0d0887"
            ],
            [
             0.1111111111111111,
             "#46039f"
            ],
            [
             0.2222222222222222,
             "#7201a8"
            ],
            [
             0.3333333333333333,
             "#9c179e"
            ],
            [
             0.4444444444444444,
             "#bd3786"
            ],
            [
             0.5555555555555556,
             "#d8576b"
            ],
            [
             0.6666666666666666,
             "#ed7953"
            ],
            [
             0.7777777777777778,
             "#fb9f3a"
            ],
            [
             0.8888888888888888,
             "#fdca26"
            ],
            [
             1,
             "#f0f921"
            ]
           ],
           "sequentialminus": [
            [
             0,
             "#0d0887"
            ],
            [
             0.1111111111111111,
             "#46039f"
            ],
            [
             0.2222222222222222,
             "#7201a8"
            ],
            [
             0.3333333333333333,
             "#9c179e"
            ],
            [
             0.4444444444444444,
             "#bd3786"
            ],
            [
             0.5555555555555556,
             "#d8576b"
            ],
            [
             0.6666666666666666,
             "#ed7953"
            ],
            [
             0.7777777777777778,
             "#fb9f3a"
            ],
            [
             0.8888888888888888,
             "#fdca26"
            ],
            [
             1,
             "#f0f921"
            ]
           ]
          },
          "colorway": [
           "#636efa",
           "#EF553B",
           "#00cc96",
           "#ab63fa",
           "#FFA15A",
           "#19d3f3",
           "#FF6692",
           "#B6E880",
           "#FF97FF",
           "#FECB52"
          ],
          "font": {
           "color": "#2a3f5f"
          },
          "geo": {
           "bgcolor": "white",
           "lakecolor": "white",
           "landcolor": "white",
           "showlakes": true,
           "showland": true,
           "subunitcolor": "#C8D4E3"
          },
          "hoverlabel": {
           "align": "left"
          },
          "hovermode": "closest",
          "mapbox": {
           "style": "light"
          },
          "paper_bgcolor": "white",
          "plot_bgcolor": "white",
          "polar": {
           "angularaxis": {
            "gridcolor": "#EBF0F8",
            "linecolor": "#EBF0F8",
            "ticks": ""
           },
           "bgcolor": "white",
           "radialaxis": {
            "gridcolor": "#EBF0F8",
            "linecolor": "#EBF0F8",
            "ticks": ""
           }
          },
          "scene": {
           "xaxis": {
            "backgroundcolor": "white",
            "gridcolor": "#DFE8F3",
            "gridwidth": 2,
            "linecolor": "#EBF0F8",
            "showbackground": true,
            "ticks": "",
            "zerolinecolor": "#EBF0F8"
           },
           "yaxis": {
            "backgroundcolor": "white",
            "gridcolor": "#DFE8F3",
            "gridwidth": 2,
            "linecolor": "#EBF0F8",
            "showbackground": true,
            "ticks": "",
            "zerolinecolor": "#EBF0F8"
           },
           "zaxis": {
            "backgroundcolor": "white",
            "gridcolor": "#DFE8F3",
            "gridwidth": 2,
            "linecolor": "#EBF0F8",
            "showbackground": true,
            "ticks": "",
            "zerolinecolor": "#EBF0F8"
           }
          },
          "shapedefaults": {
           "line": {
            "color": "#2a3f5f"
           }
          },
          "ternary": {
           "aaxis": {
            "gridcolor": "#DFE8F3",
            "linecolor": "#A2B1C6",
            "ticks": ""
           },
           "baxis": {
            "gridcolor": "#DFE8F3",
            "linecolor": "#A2B1C6",
            "ticks": ""
           },
           "bgcolor": "white",
           "caxis": {
            "gridcolor": "#DFE8F3",
            "linecolor": "#A2B1C6",
            "ticks": ""
           }
          },
          "title": {
           "x": 0.05
          },
          "xaxis": {
           "automargin": true,
           "gridcolor": "#EBF0F8",
           "linecolor": "#EBF0F8",
           "ticks": "",
           "title": {
            "standoff": 15
           },
           "zerolinecolor": "#EBF0F8",
           "zerolinewidth": 2
          },
          "yaxis": {
           "automargin": true,
           "gridcolor": "#EBF0F8",
           "linecolor": "#EBF0F8",
           "ticks": "",
           "title": {
            "standoff": 15
           },
           "zerolinecolor": "#EBF0F8",
           "zerolinewidth": 2
          }
         }
        },
        "title": {
         "text": "<b>공제비율이 낮은 질병(남성)</b><br><sup>공제비율 = 보험자부담금 / 요양급여비용총액</sup>",
         "x": 0.5,
         "y": 0.87
        },
        "xaxis": {
         "anchor": "y",
         "domain": [
          0,
          0.28888888888888886
         ]
        },
        "xaxis2": {
         "anchor": "y2",
         "domain": [
          0.3555555555555555,
          0.6444444444444444
         ]
        },
        "xaxis3": {
         "anchor": "y3",
         "domain": [
          0.711111111111111,
          0.9999999999999999
         ]
        },
        "xaxis4": {
         "anchor": "y4",
         "domain": [
          0,
          0.28888888888888886
         ]
        },
        "xaxis5": {
         "anchor": "y5",
         "domain": [
          0.3555555555555555,
          0.6444444444444444
         ]
        },
        "xaxis6": {
         "anchor": "y6",
         "domain": [
          0.711111111111111,
          0.9999999999999999
         ]
        },
        "yaxis": {
         "anchor": "x",
         "domain": [
          0.625,
          1
         ],
         "range": [
          30,
          70
         ],
         "title": {
          "text": "<b>공제비율(%)</b>"
         }
        },
        "yaxis2": {
         "anchor": "x2",
         "domain": [
          0.625,
          1
         ],
         "range": [
          30,
          70
         ]
        },
        "yaxis3": {
         "anchor": "x3",
         "domain": [
          0.625,
          1
         ],
         "range": [
          30,
          70
         ]
        },
        "yaxis4": {
         "anchor": "x4",
         "domain": [
          0,
          0.375
         ],
         "range": [
          30,
          70
         ]
        },
        "yaxis5": {
         "anchor": "x5",
         "domain": [
          0,
          0.375
         ],
         "range": [
          30,
          70
         ]
        },
        "yaxis6": {
         "anchor": "x6",
         "domain": [
          0,
          0.375
         ],
         "range": [
          30,
          70
         ]
        }
       }
      },
      "text/html": [
       "<div>                            <div id=\"a92cee71-c2ef-4e55-b222-960fb2558720\" class=\"plotly-graph-div\" style=\"height:525px; width:100%;\"></div>            <script type=\"text/javascript\">                require([\"plotly\"], function(Plotly) {                    window.PLOTLYENV=window.PLOTLYENV || {};                                    if (document.getElementById(\"a92cee71-c2ef-4e55-b222-960fb2558720\")) {                    Plotly.newPlot(                        \"a92cee71-c2ef-4e55-b222-960fb2558720\",                        [{\"marker\":{\"color\":\"#80489C\"},\"name\":\"2017\",\"text\":[48.09056544584738,49.6489907098803,49.6489907098803,50.609064446983666,53.889953529948386,54.568540593336756,55.42388741396675,56.32240158196624,56.32942462514724,56.699285280518716],\"textposition\":\"auto\",\"x\":[\"\\uc131\\uc870\\uc219\\uc99d\",\"\\uc0dd\\ud65c\\uc2b5\\uad00\\ubcd1_\\ube44\\ub9cc\",\"\\ube44\\ub9cc\",\"\\ud53c\\ubd80\\uc804\\uad6c\\uc554\",\"\\ud761\\uc5f0(\\ub2c8\\ucf54\\ud2f4\\uc911\\ub3c5)\",\"\\uac11\\uc0c1\\uc120\\uae30\\ub2a5\\ud56d\\uc9c4\\uc99d\",\"\\uac11\\uc0c1\\uc120\\uc7a5\\uc560\",\"B\\ud615 \\uac04\\uc5fc\",\"C\\ud615\\uac04\\uc5fc\",\"\\uac11\\uc0c1\\uc120\\uae30\\ub2a5\\uc800\\ud558\\uc99d\"],\"y\":[48.09056544584738,49.6489907098803,49.6489907098803,50.609064446983666,53.889953529948386,54.568540593336756,55.42388741396675,56.32240158196624,56.32942462514724,56.699285280518716],\"type\":\"bar\",\"xaxis\":\"x\",\"yaxis\":\"y\"},{\"marker\":{\"color\":\"#FFD372\"},\"name\":\"2018\",\"text\":[48.888392554451656,49.13828211773417,49.13828211773417,51.77671702835621,54.417055994682386,54.51215693699073,54.60965546468054,55.394885561070616,56.67708574503462,56.943403923196776],\"textposition\":\"auto\",\"x\":[\"\\uc131\\uc870\\uc219\\uc99d\",\"\\uc0dd\\ud65c\\uc2b5\\uad00\\ubcd1_\\ube44\\ub9cc\",\"\\ube44\\ub9cc\",\"\\ud53c\\ubd80\\uc804\\uad6c\\uc554\",\"\\uac11\\uc0c1\\uc120\\uae30\\ub2a5\\ud56d\\uc9c4\\uc99d\",\"\\ud761\\uc5f0(\\ub2c8\\ucf54\\ud2f4\\uc911\\ub3c5)\",\"C\\ud615\\uac04\\uc5fc\",\"\\uac11\\uc0c1\\uc120\\uc7a5\\uc560\",\"B\\ud615 \\uac04\\uc5fc\",\"\\uac11\\uc0c1\\uc120\\uae30\\ub2a5\\uc800\\ud558\\uc99d\"],\"y\":[48.888392554451656,49.13828211773417,49.13828211773417,51.77671702835621,54.417055994682386,54.51215693699073,54.60965546468054,55.394885561070616,56.67708574503462,56.943403923196776],\"type\":\"bar\",\"xaxis\":\"x2\",\"yaxis\":\"y2\"},{\"marker\":{\"color\":\"#4682B4\"},\"name\":\"2019\",\"text\":[51.032865615012554,53.34600194229376,54.28586780214213,55.1184420023373,55.53352682282085,55.55645572116502,56.187745114251406,57.52429928800139,57.72246542753335,58.22154362096408],\"textposition\":\"auto\",\"x\":[\"\\uc131\\uc870\\uc219\\uc99d\",\"\\ud53c\\ubd80\\uc804\\uad6c\\uc554\",\"C\\ud615\\uac04\\uc5fc\",\"\\uac11\\uc0c1\\uc120\\uae30\\ub2a5\\ud56d\\uc9c4\\uc99d\",\"\\ud761\\uc5f0(\\ub2c8\\ucf54\\ud2f4\\uc911\\ub3c5)\",\"B\\ud615 \\uac04\\uc5fc\",\"\\uac11\\uc0c1\\uc120\\uc7a5\\uc560\",\"\\ub2e4\\ub1e8/\\ube48\\ub1e8/\\uc57c\\ub1e8 \",\"\\uc57c\\ub1e8\\uc99d \",\"\\uac11\\uc0c1\\uc120\\uae30\\ub2a5\\uc800\\ud558\\uc99d\"],\"y\":[51.032865615012554,53.34600194229376,54.28586780214213,55.1184420023373,55.53352682282085,55.55645572116502,56.187745114251406,57.52429928800139,57.72246542753335,58.22154362096408],\"type\":\"bar\",\"xaxis\":\"x3\",\"yaxis\":\"y3\"},{\"marker\":{\"color\":\"#AACB73\"},\"name\":\"2020\",\"text\":[54.29704245451964,54.50950770209012,54.80641347716861,55.27425675586469,55.84094587118235,56.828694263278656,57.806182618198385,57.92968951148715,58.20366819386097,58.57932892426433],\"textposition\":\"auto\",\"x\":[\"\\uc131\\uc870\\uc219\\uc99d\",\"C\\ud615\\uac04\\uc5fc\",\"\\ud53c\\ubd80\\uc804\\uad6c\\uc554\",\"B\\ud615 \\uac04\\uc5fc\",\"\\uac11\\uc0c1\\uc120\\uae30\\ub2a5\\ud56d\\uc9c4\\uc99d\",\"\\uac11\\uc0c1\\uc120\\uc7a5\\uc560\",\"\\uc57c\\ub1e8\\uc99d \",\"\\ub2e4\\ub1e8/\\ube48\\ub1e8/\\uc57c\\ub1e8 \",\"\\ud761\\uc5f0(\\ub2c8\\ucf54\\ud2f4\\uc911\\ub3c5)\",\"\\uac11\\uc0c1\\uc120\\uae30\\ub2a5\\uc800\\ud558\\uc99d\"],\"y\":[54.29704245451964,54.50950770209012,54.80641347716861,55.27425675586469,55.84094587118235,56.828694263278656,57.806182618198385,57.92968951148715,58.20366819386097,58.57932892426433],\"type\":\"bar\",\"xaxis\":\"x4\",\"yaxis\":\"y4\"},{\"marker\":{\"color\":\"#FD8A8A\"},\"name\":\"2021\",\"text\":[54.987316597052036,55.60000925576507,55.75025343075448,55.96571029249928,56.02548486835941,56.84023678547805,57.01965750202553,57.900542665930544,58.01238468744542,58.53048975503741],\"textposition\":\"auto\",\"x\":[\"B\\ud615 \\uac04\\uc5fc\",\"C\\ud615\\uac04\\uc5fc\",\"\\uc131\\uc870\\uc219\\uc99d\",\"\\uac11\\uc0c1\\uc120\\uae30\\ub2a5\\ud56d\\uc9c4\\uc99d\",\"\\ud53c\\ubd80\\uc804\\uad6c\\uc554\",\"\\ud761\\uc5f0(\\ub2c8\\ucf54\\ud2f4\\uc911\\ub3c5)\",\"\\uac11\\uc0c1\\uc120\\uc7a5\\uc560\",\"\\uc57c\\ub1e8\\uc99d \",\"\\ub2e4\\ub1e8/\\ube48\\ub1e8/\\uc57c\\ub1e8 \",\"\\uac11\\uc0c1\\uc120\\uae30\\ub2a5\\uc800\\ud558\\uc99d\"],\"y\":[54.987316597052036,55.60000925576507,55.75025343075448,55.96571029249928,56.02548486835941,56.84023678547805,57.01965750202553,57.900542665930544,58.01238468744542,58.53048975503741],\"type\":\"bar\",\"xaxis\":\"x5\",\"yaxis\":\"y5\"}],                        {\"template\":{\"data\":{\"barpolar\":[{\"marker\":{\"line\":{\"color\":\"white\",\"width\":0.5},\"pattern\":{\"fillmode\":\"overlay\",\"size\":10,\"solidity\":0.2}},\"type\":\"barpolar\"}],\"bar\":[{\"error_x\":{\"color\":\"#2a3f5f\"},\"error_y\":{\"color\":\"#2a3f5f\"},\"marker\":{\"line\":{\"color\":\"white\",\"width\":0.5},\"pattern\":{\"fillmode\":\"overlay\",\"size\":10,\"solidity\":0.2}},\"type\":\"bar\"}],\"carpet\":[{\"aaxis\":{\"endlinecolor\":\"#2a3f5f\",\"gridcolor\":\"#C8D4E3\",\"linecolor\":\"#C8D4E3\",\"minorgridcolor\":\"#C8D4E3\",\"startlinecolor\":\"#2a3f5f\"},\"baxis\":{\"endlinecolor\":\"#2a3f5f\",\"gridcolor\":\"#C8D4E3\",\"linecolor\":\"#C8D4E3\",\"minorgridcolor\":\"#C8D4E3\",\"startlinecolor\":\"#2a3f5f\"},\"type\":\"carpet\"}],\"choropleth\":[{\"colorbar\":{\"outlinewidth\":0,\"ticks\":\"\"},\"type\":\"choropleth\"}],\"contourcarpet\":[{\"colorbar\":{\"outlinewidth\":0,\"ticks\":\"\"},\"type\":\"contourcarpet\"}],\"contour\":[{\"colorbar\":{\"outlinewidth\":0,\"ticks\":\"\"},\"colorscale\":[[0.0,\"#0d0887\"],[0.1111111111111111,\"#46039f\"],[0.2222222222222222,\"#7201a8\"],[0.3333333333333333,\"#9c179e\"],[0.4444444444444444,\"#bd3786\"],[0.5555555555555556,\"#d8576b\"],[0.6666666666666666,\"#ed7953\"],[0.7777777777777778,\"#fb9f3a\"],[0.8888888888888888,\"#fdca26\"],[1.0,\"#f0f921\"]],\"type\":\"contour\"}],\"heatmapgl\":[{\"colorbar\":{\"outlinewidth\":0,\"ticks\":\"\"},\"colorscale\":[[0.0,\"#0d0887\"],[0.1111111111111111,\"#46039f\"],[0.2222222222222222,\"#7201a8\"],[0.3333333333333333,\"#9c179e\"],[0.4444444444444444,\"#bd3786\"],[0.5555555555555556,\"#d8576b\"],[0.6666666666666666,\"#ed7953\"],[0.7777777777777778,\"#fb9f3a\"],[0.8888888888888888,\"#fdca26\"],[1.0,\"#f0f921\"]],\"type\":\"heatmapgl\"}],\"heatmap\":[{\"colorbar\":{\"outlinewidth\":0,\"ticks\":\"\"},\"colorscale\":[[0.0,\"#0d0887\"],[0.1111111111111111,\"#46039f\"],[0.2222222222222222,\"#7201a8\"],[0.3333333333333333,\"#9c179e\"],[0.4444444444444444,\"#bd3786\"],[0.5555555555555556,\"#d8576b\"],[0.6666666666666666,\"#ed7953\"],[0.7777777777777778,\"#fb9f3a\"],[0.8888888888888888,\"#fdca26\"],[1.0,\"#f0f921\"]],\"type\":\"heatmap\"}],\"histogram2dcontour\":[{\"colorbar\":{\"outlinewidth\":0,\"ticks\":\"\"},\"colorscale\":[[0.0,\"#0d0887\"],[0.1111111111111111,\"#46039f\"],[0.2222222222222222,\"#7201a8\"],[0.3333333333333333,\"#9c179e\"],[0.4444444444444444,\"#bd3786\"],[0.5555555555555556,\"#d8576b\"],[0.6666666666666666,\"#ed7953\"],[0.7777777777777778,\"#fb9f3a\"],[0.8888888888888888,\"#fdca26\"],[1.0,\"#f0f921\"]],\"type\":\"histogram2dcontour\"}],\"histogram2d\":[{\"colorbar\":{\"outlinewidth\":0,\"ticks\":\"\"},\"colorscale\":[[0.0,\"#0d0887\"],[0.1111111111111111,\"#46039f\"],[0.2222222222222222,\"#7201a8\"],[0.3333333333333333,\"#9c179e\"],[0.4444444444444444,\"#bd3786\"],[0.5555555555555556,\"#d8576b\"],[0.6666666666666666,\"#ed7953\"],[0.7777777777777778,\"#fb9f3a\"],[0.8888888888888888,\"#fdca26\"],[1.0,\"#f0f921\"]],\"type\":\"histogram2d\"}],\"histogram\":[{\"marker\":{\"pattern\":{\"fillmode\":\"overlay\",\"size\":10,\"solidity\":0.2}},\"type\":\"histogram\"}],\"mesh3d\":[{\"colorbar\":{\"outlinewidth\":0,\"ticks\":\"\"},\"type\":\"mesh3d\"}],\"parcoords\":[{\"line\":{\"colorbar\":{\"outlinewidth\":0,\"ticks\":\"\"}},\"type\":\"parcoords\"}],\"pie\":[{\"automargin\":true,\"type\":\"pie\"}],\"scatter3d\":[{\"line\":{\"colorbar\":{\"outlinewidth\":0,\"ticks\":\"\"}},\"marker\":{\"colorbar\":{\"outlinewidth\":0,\"ticks\":\"\"}},\"type\":\"scatter3d\"}],\"scattercarpet\":[{\"marker\":{\"colorbar\":{\"outlinewidth\":0,\"ticks\":\"\"}},\"type\":\"scattercarpet\"}],\"scattergeo\":[{\"marker\":{\"colorbar\":{\"outlinewidth\":0,\"ticks\":\"\"}},\"type\":\"scattergeo\"}],\"scattergl\":[{\"marker\":{\"colorbar\":{\"outlinewidth\":0,\"ticks\":\"\"}},\"type\":\"scattergl\"}],\"scattermapbox\":[{\"marker\":{\"colorbar\":{\"outlinewidth\":0,\"ticks\":\"\"}},\"type\":\"scattermapbox\"}],\"scatterpolargl\":[{\"marker\":{\"colorbar\":{\"outlinewidth\":0,\"ticks\":\"\"}},\"type\":\"scatterpolargl\"}],\"scatterpolar\":[{\"marker\":{\"colorbar\":{\"outlinewidth\":0,\"ticks\":\"\"}},\"type\":\"scatterpolar\"}],\"scatter\":[{\"fillpattern\":{\"fillmode\":\"overlay\",\"size\":10,\"solidity\":0.2},\"type\":\"scatter\"}],\"scatterternary\":[{\"marker\":{\"colorbar\":{\"outlinewidth\":0,\"ticks\":\"\"}},\"type\":\"scatterternary\"}],\"surface\":[{\"colorbar\":{\"outlinewidth\":0,\"ticks\":\"\"},\"colorscale\":[[0.0,\"#0d0887\"],[0.1111111111111111,\"#46039f\"],[0.2222222222222222,\"#7201a8\"],[0.3333333333333333,\"#9c179e\"],[0.4444444444444444,\"#bd3786\"],[0.5555555555555556,\"#d8576b\"],[0.6666666666666666,\"#ed7953\"],[0.7777777777777778,\"#fb9f3a\"],[0.8888888888888888,\"#fdca26\"],[1.0,\"#f0f921\"]],\"type\":\"surface\"}],\"table\":[{\"cells\":{\"fill\":{\"color\":\"#EBF0F8\"},\"line\":{\"color\":\"white\"}},\"header\":{\"fill\":{\"color\":\"#C8D4E3\"},\"line\":{\"color\":\"white\"}},\"type\":\"table\"}]},\"layout\":{\"annotationdefaults\":{\"arrowcolor\":\"#2a3f5f\",\"arrowhead\":0,\"arrowwidth\":1},\"autotypenumbers\":\"strict\",\"coloraxis\":{\"colorbar\":{\"outlinewidth\":0,\"ticks\":\"\"}},\"colorscale\":{\"diverging\":[[0,\"#8e0152\"],[0.1,\"#c51b7d\"],[0.2,\"#de77ae\"],[0.3,\"#f1b6da\"],[0.4,\"#fde0ef\"],[0.5,\"#f7f7f7\"],[0.6,\"#e6f5d0\"],[0.7,\"#b8e186\"],[0.8,\"#7fbc41\"],[0.9,\"#4d9221\"],[1,\"#276419\"]],\"sequential\":[[0.0,\"#0d0887\"],[0.1111111111111111,\"#46039f\"],[0.2222222222222222,\"#7201a8\"],[0.3333333333333333,\"#9c179e\"],[0.4444444444444444,\"#bd3786\"],[0.5555555555555556,\"#d8576b\"],[0.6666666666666666,\"#ed7953\"],[0.7777777777777778,\"#fb9f3a\"],[0.8888888888888888,\"#fdca26\"],[1.0,\"#f0f921\"]],\"sequentialminus\":[[0.0,\"#0d0887\"],[0.1111111111111111,\"#46039f\"],[0.2222222222222222,\"#7201a8\"],[0.3333333333333333,\"#9c179e\"],[0.4444444444444444,\"#bd3786\"],[0.5555555555555556,\"#d8576b\"],[0.6666666666666666,\"#ed7953\"],[0.7777777777777778,\"#fb9f3a\"],[0.8888888888888888,\"#fdca26\"],[1.0,\"#f0f921\"]]},\"colorway\":[\"#636efa\",\"#EF553B\",\"#00cc96\",\"#ab63fa\",\"#FFA15A\",\"#19d3f3\",\"#FF6692\",\"#B6E880\",\"#FF97FF\",\"#FECB52\"],\"font\":{\"color\":\"#2a3f5f\"},\"geo\":{\"bgcolor\":\"white\",\"lakecolor\":\"white\",\"landcolor\":\"white\",\"showlakes\":true,\"showland\":true,\"subunitcolor\":\"#C8D4E3\"},\"hoverlabel\":{\"align\":\"left\"},\"hovermode\":\"closest\",\"mapbox\":{\"style\":\"light\"},\"paper_bgcolor\":\"white\",\"plot_bgcolor\":\"white\",\"polar\":{\"angularaxis\":{\"gridcolor\":\"#EBF0F8\",\"linecolor\":\"#EBF0F8\",\"ticks\":\"\"},\"bgcolor\":\"white\",\"radialaxis\":{\"gridcolor\":\"#EBF0F8\",\"linecolor\":\"#EBF0F8\",\"ticks\":\"\"}},\"scene\":{\"xaxis\":{\"backgroundcolor\":\"white\",\"gridcolor\":\"#DFE8F3\",\"gridwidth\":2,\"linecolor\":\"#EBF0F8\",\"showbackground\":true,\"ticks\":\"\",\"zerolinecolor\":\"#EBF0F8\"},\"yaxis\":{\"backgroundcolor\":\"white\",\"gridcolor\":\"#DFE8F3\",\"gridwidth\":2,\"linecolor\":\"#EBF0F8\",\"showbackground\":true,\"ticks\":\"\",\"zerolinecolor\":\"#EBF0F8\"},\"zaxis\":{\"backgroundcolor\":\"white\",\"gridcolor\":\"#DFE8F3\",\"gridwidth\":2,\"linecolor\":\"#EBF0F8\",\"showbackground\":true,\"ticks\":\"\",\"zerolinecolor\":\"#EBF0F8\"}},\"shapedefaults\":{\"line\":{\"color\":\"#2a3f5f\"}},\"ternary\":{\"aaxis\":{\"gridcolor\":\"#DFE8F3\",\"linecolor\":\"#A2B1C6\",\"ticks\":\"\"},\"baxis\":{\"gridcolor\":\"#DFE8F3\",\"linecolor\":\"#A2B1C6\",\"ticks\":\"\"},\"bgcolor\":\"white\",\"caxis\":{\"gridcolor\":\"#DFE8F3\",\"linecolor\":\"#A2B1C6\",\"ticks\":\"\"}},\"title\":{\"x\":0.05},\"xaxis\":{\"automargin\":true,\"gridcolor\":\"#EBF0F8\",\"linecolor\":\"#EBF0F8\",\"ticks\":\"\",\"title\":{\"standoff\":15},\"zerolinecolor\":\"#EBF0F8\",\"zerolinewidth\":2},\"yaxis\":{\"automargin\":true,\"gridcolor\":\"#EBF0F8\",\"linecolor\":\"#EBF0F8\",\"ticks\":\"\",\"title\":{\"standoff\":15},\"zerolinecolor\":\"#EBF0F8\",\"zerolinewidth\":2}}},\"xaxis\":{\"anchor\":\"y\",\"domain\":[0.0,0.28888888888888886]},\"yaxis\":{\"anchor\":\"x\",\"domain\":[0.625,1.0],\"range\":[30,70],\"title\":{\"text\":\"<b>\\uacf5\\uc81c\\ube44\\uc728(%)</b>\"}},\"xaxis2\":{\"anchor\":\"y2\",\"domain\":[0.3555555555555555,0.6444444444444444]},\"yaxis2\":{\"anchor\":\"x2\",\"domain\":[0.625,1.0],\"range\":[30,70]},\"xaxis3\":{\"anchor\":\"y3\",\"domain\":[0.711111111111111,0.9999999999999999]},\"yaxis3\":{\"anchor\":\"x3\",\"domain\":[0.625,1.0],\"range\":[30,70]},\"xaxis4\":{\"anchor\":\"y4\",\"domain\":[0.0,0.28888888888888886]},\"yaxis4\":{\"anchor\":\"x4\",\"domain\":[0.0,0.375],\"range\":[30,70]},\"xaxis5\":{\"anchor\":\"y5\",\"domain\":[0.3555555555555555,0.6444444444444444]},\"yaxis5\":{\"anchor\":\"x5\",\"domain\":[0.0,0.375],\"range\":[30,70]},\"xaxis6\":{\"anchor\":\"y6\",\"domain\":[0.711111111111111,0.9999999999999999]},\"yaxis6\":{\"anchor\":\"x6\",\"domain\":[0.0,0.375],\"range\":[30,70]},\"annotations\":[{\"font\":{\"size\":16},\"showarrow\":false,\"text\":\"2017\",\"x\":0.14444444444444443,\"xanchor\":\"center\",\"xref\":\"paper\",\"y\":1.0,\"yanchor\":\"bottom\",\"yref\":\"paper\"},{\"font\":{\"size\":16},\"showarrow\":false,\"text\":\"2018\",\"x\":0.49999999999999994,\"xanchor\":\"center\",\"xref\":\"paper\",\"y\":1.0,\"yanchor\":\"bottom\",\"yref\":\"paper\"},{\"font\":{\"size\":16},\"showarrow\":false,\"text\":\"2019\",\"x\":0.8555555555555554,\"xanchor\":\"center\",\"xref\":\"paper\",\"y\":1.0,\"yanchor\":\"bottom\",\"yref\":\"paper\"},{\"font\":{\"size\":16},\"showarrow\":false,\"text\":\"2020\",\"x\":0.14444444444444443,\"xanchor\":\"center\",\"xref\":\"paper\",\"y\":0.375,\"yanchor\":\"bottom\",\"yref\":\"paper\"},{\"font\":{\"size\":16},\"showarrow\":false,\"text\":\"2021\",\"x\":0.49999999999999994,\"xanchor\":\"center\",\"xref\":\"paper\",\"y\":0.375,\"yanchor\":\"bottom\",\"yref\":\"paper\"}],\"title\":{\"text\":\"<b>\\uacf5\\uc81c\\ube44\\uc728\\uc774 \\ub0ae\\uc740 \\uc9c8\\ubcd1(\\ub0a8\\uc131)</b><br><sup>\\uacf5\\uc81c\\ube44\\uc728 = \\ubcf4\\ud5d8\\uc790\\ubd80\\ub2f4\\uae08 / \\uc694\\uc591\\uae09\\uc5ec\\ube44\\uc6a9\\ucd1d\\uc561</sup>\",\"x\":0.5,\"y\":0.87}},                        {\"responsive\": true}                    ).then(function(){\n",
       "                            \n",
       "var gd = document.getElementById('a92cee71-c2ef-4e55-b222-960fb2558720');\n",
       "var x = new MutationObserver(function (mutations, observer) {{\n",
       "        var display = window.getComputedStyle(gd).display;\n",
       "        if (!display || display === 'none') {{\n",
       "            console.log([gd, 'removed!']);\n",
       "            Plotly.purge(gd);\n",
       "            observer.disconnect();\n",
       "        }}\n",
       "}});\n",
       "\n",
       "// Listen for the removal of the full notebook cells\n",
       "var notebookContainer = gd.closest('#notebook-container');\n",
       "if (notebookContainer) {{\n",
       "    x.observe(notebookContainer, {childList: true});\n",
       "}}\n",
       "\n",
       "// Listen for the clearing of the current output cell\n",
       "var outputEl = gd.closest('.output');\n",
       "if (outputEl) {{\n",
       "    x.observe(outputEl, {childList: true});\n",
       "}}\n",
       "\n",
       "                        })                };                });            </script>        </div>"
      ]
     },
     "metadata": {},
     "output_type": "display_data"
    }
   ],
   "source": [
    "# 남자 down10\n",
    "from plotly.subplots import make_subplots\n",
    "\n",
    "fig2 = go.Figure()\n",
    "\n",
    "fig2 = make_subplots(rows=2, cols=3,\n",
    "                    subplot_titles=(\"2017\", \"2018\", \"2019\", \"2020\",\"2021\"),\n",
    "                    column_widths=[0.1, 0.1, 0.1]) # 각 Subplot 별 subtitle 넣기)\n",
    "\n",
    "fig2.add_trace(\n",
    "    go.Bar(\n",
    "        x = Md2017['항목'], y = Md2017['공제비율'],\n",
    "        name = '2017',\n",
    "        text = Md2017['공제비율'],\n",
    "        textposition='auto',\n",
    "        marker = {'color':'#80489C'}\n",
    "    ), row=1, col=1\n",
    ")\n",
    "\n",
    "fig2.add_trace(\n",
    "    go.Bar(\n",
    "        x = Md2018['항목'], y = Md2018['공제비율'],\n",
    "        name = '2018',\n",
    "        text = Md2018['공제비율'],\n",
    "        textposition='auto',\n",
    "        marker = {'color':'#FFD372'}\n",
    "    ), row=1, col=2\n",
    ")\n",
    "\n",
    "fig2.add_trace(\n",
    "    go.Bar(\n",
    "        x = Md2019['항목'], y = Md2019['공제비율'],\n",
    "        name = '2019',\n",
    "        text = Md2019['공제비율'],\n",
    "        textposition='auto',\n",
    "        marker = {'color':'#4682B4'}\n",
    "    ), row=1, col=3\n",
    ")\n",
    "\n",
    "fig2.add_trace(\n",
    "    go.Bar(\n",
    "        x = Md2020['항목'], y = Md2020['공제비율'],\n",
    "        name = '2020',\n",
    "        text = Md2020['공제비율'],\n",
    "        textposition='auto',\n",
    "        marker = {'color':'#AACB73'}\n",
    "    ), row=2, col=1\n",
    ")\n",
    "\n",
    "fig2.add_trace(\n",
    "    go.Bar(\n",
    "        x = Md2021['항목'], y = Md2021['공제비율'],\n",
    "        name = '2021',\n",
    "        text = Md2021['공제비율'],\n",
    "        textposition='auto',\n",
    "        marker = {'color':'#FD8A8A'}\n",
    "    ), row=2, col=2\n",
    ")\n",
    "\n",
    "fig2.update_yaxes(range=[30, 70])\n",
    "fig2.update_layout(title=dict(text = '<b>공제비율이 낮은 질병(남성)</b><br><sup>공제비율 = 보험자부담금 / 요양급여비용총액</sup>', x=0.5, y=0.87),\n",
    "    yaxis_title=dict(text = \"<b>공제비율(%)</b>\"))\n",
    "fig2.update_layout(template='plotly_white')\n",
    "\n",
    "fig2.show()"
   ]
  },
  {
   "cell_type": "markdown",
   "metadata": {},
   "source": [
    "### 여자"
   ]
  },
  {
   "cell_type": "code",
   "execution_count": 128,
   "metadata": {},
   "outputs": [],
   "source": [
    "# 여자 top 10\n",
    "Ft2017 = Ff[Ff['연도'] == 2017].sort_values(ascending=False, by='공제비율').head(10)\n",
    "Ft2018 = Ff[Ff['연도'] == 2018].sort_values(ascending=False, by='공제비율').head(10)\n",
    "Ft2019 = Ff[Ff['연도'] == 2019].sort_values(ascending=False, by='공제비율').head(10)\n",
    "Ft2020 = Ff[Ff['연도'] == 2020].sort_values(ascending=False, by='공제비율').head(10)\n",
    "Ft2021 = Ff[Ff['연도'] == 2021].sort_values(ascending=False, by='공제비율').head(10)\n",
    "\n",
    "# 여자 down 10\n",
    "Fd2017 = Ff[Ff['연도'] == 2017].sort_values(ascending=True, by='공제비율').head(10)\n",
    "Fd2018 = Ff[Ff['연도'] == 2018].sort_values(ascending=True, by='공제비율').head(10)\n",
    "Fd2019 = Ff[Ff['연도'] == 2019].sort_values(ascending=True, by='공제비율').head(10)\n",
    "Fd2020 = Ff[Ff['연도'] == 2020].sort_values(ascending=True, by='공제비율').head(10)\n",
    "Fd2021 = Ff[Ff['연도'] == 2021].sort_values(ascending=True, by='공제비율').head(10)"
   ]
  },
  {
   "cell_type": "code",
   "execution_count": 129,
   "metadata": {},
   "outputs": [
    {
     "data": {
      "application/vnd.plotly.v1+json": {
       "config": {
        "plotlyServerURL": "https://plotly.com"
       },
       "data": [
        {
         "marker": {
          "color": "#80489C"
         },
         "name": "2017",
         "text": [
          98.80237675253217,
          94.72199595258863,
          94.35348596862525,
          93.98454379252087,
          93.09252316066066,
          93.02615280380132,
          92.59218004948156,
          92.47899286652655,
          92.05907140726775,
          91.9060771459287
         ],
         "textposition": "auto",
         "type": "bar",
         "x": [
          "미숙아",
          "호흡기 결핵",
          "결핵",
          "만성 백혈병",
          "백혈병",
          "급성 백혈병",
          "췌장암",
          "생활습관병_식도암",
          "간암",
          "조산_고위험산모"
         ],
         "xaxis": "x",
         "y": [
          98.80237675253217,
          94.72199595258863,
          94.35348596862525,
          93.98454379252087,
          93.09252316066066,
          93.02615280380132,
          92.59218004948156,
          92.47899286652655,
          92.05907140726775,
          91.9060771459287
         ],
         "yaxis": "y"
        },
        {
         "marker": {
          "color": "#FFD372"
         },
         "name": "2018",
         "text": [
          98.8916841983362,
          95.16424615559282,
          94.57978567204471,
          93.7387667470837,
          92.67615568167723,
          92.59794350130764,
          92.26837595554271,
          91.9978482128089,
          91.67206026662981,
          91.49823330219583
         ],
         "textposition": "auto",
         "type": "bar",
         "x": [
          "미숙아",
          "호흡기 결핵",
          "결핵",
          "만성 백혈병",
          "백혈병",
          "급성 백혈병",
          "생활습관병_식도암",
          "췌장암",
          "생활습관병_폐암",
          "간암"
         ],
         "xaxis": "x2",
         "y": [
          98.8916841983362,
          95.16424615559282,
          94.57978567204471,
          93.7387667470837,
          92.67615568167723,
          92.59794350130764,
          92.26837595554271,
          91.9978482128089,
          91.67206026662981,
          91.49823330219583
         ],
         "yaxis": "y2"
        },
        {
         "marker": {
          "color": "#4682B4"
         },
         "name": "2019",
         "text": [
          98.93004329794103,
          95.50614408876487,
          94.97146267929914,
          93.19964215069339,
          91.98540124503441,
          91.86540465151745,
          91.35784089037124,
          91.23198630466062,
          91.01767664826895,
          90.93875712861895
         ],
         "textposition": "auto",
         "type": "bar",
         "x": [
          "미숙아",
          "호흡기 결핵",
          "결핵",
          "만성 백혈병",
          "백혈병",
          "급성 백혈병",
          "생활습관병_식도암",
          "생활습관병_후두암",
          "췌장암",
          "생활습관병_폐암"
         ],
         "xaxis": "x3",
         "y": [
          98.93004329794103,
          95.50614408876487,
          94.97146267929914,
          93.19964215069339,
          91.98540124503441,
          91.86540465151745,
          91.35784089037124,
          91.23198630466062,
          91.01767664826895,
          90.93875712861895
         ],
         "yaxis": "y3"
        },
        {
         "marker": {
          "color": "#AACB73"
         },
         "name": "2020",
         "text": [
          98.99839720457058,
          95.40742536967426,
          94.75093223571254,
          92.9174827702497,
          91.91253150067865,
          91.8340717848437,
          91.28265901205006,
          91.07921147498979,
          90.84367652801916,
          90.73849026669319
         ],
         "textposition": "auto",
         "type": "bar",
         "x": [
          "미숙아",
          "호흡기 결핵",
          "결핵",
          "만성 백혈병",
          "백혈병",
          "급성 백혈병",
          "생활습관병_후두암",
          "생활습관병_식도암",
          "생활습관병_폐암",
          "간암"
         ],
         "xaxis": "x4",
         "y": [
          98.99839720457058,
          95.40742536967426,
          94.75093223571254,
          92.9174827702497,
          91.91253150067865,
          91.8340717848437,
          91.28265901205006,
          91.07921147498979,
          90.84367652801916,
          90.73849026669319
         ],
         "yaxis": "y4"
        },
        {
         "marker": {
          "color": "#FD8A8A"
         },
         "name": "2021",
         "text": [
          98.9618694806707,
          95.57684795618877,
          94.89109323478971,
          93.05524676939204,
          91.99967418002903,
          91.91373206449627,
          90.67018946353605,
          90.63077636690846,
          90.58871871624628,
          90.58220749504251
         ],
         "textposition": "auto",
         "type": "bar",
         "x": [
          "미숙아",
          "호흡기 결핵",
          "결핵",
          "만성 백혈병",
          "백혈병",
          "급성 백혈병",
          "생활습관병_식도암",
          "피부암",
          "생활습관병_후두암",
          "생활습관병_폐암"
         ],
         "xaxis": "x5",
         "y": [
          98.9618694806707,
          95.57684795618877,
          94.89109323478971,
          93.05524676939204,
          91.99967418002903,
          91.91373206449627,
          90.67018946353605,
          90.63077636690846,
          90.58871871624628,
          90.58220749504251
         ],
         "yaxis": "y5"
        }
       ],
       "layout": {
        "annotations": [
         {
          "font": {
           "size": 16
          },
          "showarrow": false,
          "text": "2017",
          "x": 0.14444444444444443,
          "xanchor": "center",
          "xref": "paper",
          "y": 1,
          "yanchor": "bottom",
          "yref": "paper"
         },
         {
          "font": {
           "size": 16
          },
          "showarrow": false,
          "text": "2018",
          "x": 0.49999999999999994,
          "xanchor": "center",
          "xref": "paper",
          "y": 1,
          "yanchor": "bottom",
          "yref": "paper"
         },
         {
          "font": {
           "size": 16
          },
          "showarrow": false,
          "text": "2019",
          "x": 0.8555555555555554,
          "xanchor": "center",
          "xref": "paper",
          "y": 1,
          "yanchor": "bottom",
          "yref": "paper"
         },
         {
          "font": {
           "size": 16
          },
          "showarrow": false,
          "text": "2020",
          "x": 0.14444444444444443,
          "xanchor": "center",
          "xref": "paper",
          "y": 0.375,
          "yanchor": "bottom",
          "yref": "paper"
         },
         {
          "font": {
           "size": 16
          },
          "showarrow": false,
          "text": "2021",
          "x": 0.49999999999999994,
          "xanchor": "center",
          "xref": "paper",
          "y": 0.375,
          "yanchor": "bottom",
          "yref": "paper"
         }
        ],
        "template": {
         "data": {
          "bar": [
           {
            "error_x": {
             "color": "#2a3f5f"
            },
            "error_y": {
             "color": "#2a3f5f"
            },
            "marker": {
             "line": {
              "color": "white",
              "width": 0.5
             },
             "pattern": {
              "fillmode": "overlay",
              "size": 10,
              "solidity": 0.2
             }
            },
            "type": "bar"
           }
          ],
          "barpolar": [
           {
            "marker": {
             "line": {
              "color": "white",
              "width": 0.5
             },
             "pattern": {
              "fillmode": "overlay",
              "size": 10,
              "solidity": 0.2
             }
            },
            "type": "barpolar"
           }
          ],
          "carpet": [
           {
            "aaxis": {
             "endlinecolor": "#2a3f5f",
             "gridcolor": "#C8D4E3",
             "linecolor": "#C8D4E3",
             "minorgridcolor": "#C8D4E3",
             "startlinecolor": "#2a3f5f"
            },
            "baxis": {
             "endlinecolor": "#2a3f5f",
             "gridcolor": "#C8D4E3",
             "linecolor": "#C8D4E3",
             "minorgridcolor": "#C8D4E3",
             "startlinecolor": "#2a3f5f"
            },
            "type": "carpet"
           }
          ],
          "choropleth": [
           {
            "colorbar": {
             "outlinewidth": 0,
             "ticks": ""
            },
            "type": "choropleth"
           }
          ],
          "contour": [
           {
            "colorbar": {
             "outlinewidth": 0,
             "ticks": ""
            },
            "colorscale": [
             [
              0,
              "#0d0887"
             ],
             [
              0.1111111111111111,
              "#46039f"
             ],
             [
              0.2222222222222222,
              "#7201a8"
             ],
             [
              0.3333333333333333,
              "#9c179e"
             ],
             [
              0.4444444444444444,
              "#bd3786"
             ],
             [
              0.5555555555555556,
              "#d8576b"
             ],
             [
              0.6666666666666666,
              "#ed7953"
             ],
             [
              0.7777777777777778,
              "#fb9f3a"
             ],
             [
              0.8888888888888888,
              "#fdca26"
             ],
             [
              1,
              "#f0f921"
             ]
            ],
            "type": "contour"
           }
          ],
          "contourcarpet": [
           {
            "colorbar": {
             "outlinewidth": 0,
             "ticks": ""
            },
            "type": "contourcarpet"
           }
          ],
          "heatmap": [
           {
            "colorbar": {
             "outlinewidth": 0,
             "ticks": ""
            },
            "colorscale": [
             [
              0,
              "#0d0887"
             ],
             [
              0.1111111111111111,
              "#46039f"
             ],
             [
              0.2222222222222222,
              "#7201a8"
             ],
             [
              0.3333333333333333,
              "#9c179e"
             ],
             [
              0.4444444444444444,
              "#bd3786"
             ],
             [
              0.5555555555555556,
              "#d8576b"
             ],
             [
              0.6666666666666666,
              "#ed7953"
             ],
             [
              0.7777777777777778,
              "#fb9f3a"
             ],
             [
              0.8888888888888888,
              "#fdca26"
             ],
             [
              1,
              "#f0f921"
             ]
            ],
            "type": "heatmap"
           }
          ],
          "heatmapgl": [
           {
            "colorbar": {
             "outlinewidth": 0,
             "ticks": ""
            },
            "colorscale": [
             [
              0,
              "#0d0887"
             ],
             [
              0.1111111111111111,
              "#46039f"
             ],
             [
              0.2222222222222222,
              "#7201a8"
             ],
             [
              0.3333333333333333,
              "#9c179e"
             ],
             [
              0.4444444444444444,
              "#bd3786"
             ],
             [
              0.5555555555555556,
              "#d8576b"
             ],
             [
              0.6666666666666666,
              "#ed7953"
             ],
             [
              0.7777777777777778,
              "#fb9f3a"
             ],
             [
              0.8888888888888888,
              "#fdca26"
             ],
             [
              1,
              "#f0f921"
             ]
            ],
            "type": "heatmapgl"
           }
          ],
          "histogram": [
           {
            "marker": {
             "pattern": {
              "fillmode": "overlay",
              "size": 10,
              "solidity": 0.2
             }
            },
            "type": "histogram"
           }
          ],
          "histogram2d": [
           {
            "colorbar": {
             "outlinewidth": 0,
             "ticks": ""
            },
            "colorscale": [
             [
              0,
              "#0d0887"
             ],
             [
              0.1111111111111111,
              "#46039f"
             ],
             [
              0.2222222222222222,
              "#7201a8"
             ],
             [
              0.3333333333333333,
              "#9c179e"
             ],
             [
              0.4444444444444444,
              "#bd3786"
             ],
             [
              0.5555555555555556,
              "#d8576b"
             ],
             [
              0.6666666666666666,
              "#ed7953"
             ],
             [
              0.7777777777777778,
              "#fb9f3a"
             ],
             [
              0.8888888888888888,
              "#fdca26"
             ],
             [
              1,
              "#f0f921"
             ]
            ],
            "type": "histogram2d"
           }
          ],
          "histogram2dcontour": [
           {
            "colorbar": {
             "outlinewidth": 0,
             "ticks": ""
            },
            "colorscale": [
             [
              0,
              "#0d0887"
             ],
             [
              0.1111111111111111,
              "#46039f"
             ],
             [
              0.2222222222222222,
              "#7201a8"
             ],
             [
              0.3333333333333333,
              "#9c179e"
             ],
             [
              0.4444444444444444,
              "#bd3786"
             ],
             [
              0.5555555555555556,
              "#d8576b"
             ],
             [
              0.6666666666666666,
              "#ed7953"
             ],
             [
              0.7777777777777778,
              "#fb9f3a"
             ],
             [
              0.8888888888888888,
              "#fdca26"
             ],
             [
              1,
              "#f0f921"
             ]
            ],
            "type": "histogram2dcontour"
           }
          ],
          "mesh3d": [
           {
            "colorbar": {
             "outlinewidth": 0,
             "ticks": ""
            },
            "type": "mesh3d"
           }
          ],
          "parcoords": [
           {
            "line": {
             "colorbar": {
              "outlinewidth": 0,
              "ticks": ""
             }
            },
            "type": "parcoords"
           }
          ],
          "pie": [
           {
            "automargin": true,
            "type": "pie"
           }
          ],
          "scatter": [
           {
            "fillpattern": {
             "fillmode": "overlay",
             "size": 10,
             "solidity": 0.2
            },
            "type": "scatter"
           }
          ],
          "scatter3d": [
           {
            "line": {
             "colorbar": {
              "outlinewidth": 0,
              "ticks": ""
             }
            },
            "marker": {
             "colorbar": {
              "outlinewidth": 0,
              "ticks": ""
             }
            },
            "type": "scatter3d"
           }
          ],
          "scattercarpet": [
           {
            "marker": {
             "colorbar": {
              "outlinewidth": 0,
              "ticks": ""
             }
            },
            "type": "scattercarpet"
           }
          ],
          "scattergeo": [
           {
            "marker": {
             "colorbar": {
              "outlinewidth": 0,
              "ticks": ""
             }
            },
            "type": "scattergeo"
           }
          ],
          "scattergl": [
           {
            "marker": {
             "colorbar": {
              "outlinewidth": 0,
              "ticks": ""
             }
            },
            "type": "scattergl"
           }
          ],
          "scattermapbox": [
           {
            "marker": {
             "colorbar": {
              "outlinewidth": 0,
              "ticks": ""
             }
            },
            "type": "scattermapbox"
           }
          ],
          "scatterpolar": [
           {
            "marker": {
             "colorbar": {
              "outlinewidth": 0,
              "ticks": ""
             }
            },
            "type": "scatterpolar"
           }
          ],
          "scatterpolargl": [
           {
            "marker": {
             "colorbar": {
              "outlinewidth": 0,
              "ticks": ""
             }
            },
            "type": "scatterpolargl"
           }
          ],
          "scatterternary": [
           {
            "marker": {
             "colorbar": {
              "outlinewidth": 0,
              "ticks": ""
             }
            },
            "type": "scatterternary"
           }
          ],
          "surface": [
           {
            "colorbar": {
             "outlinewidth": 0,
             "ticks": ""
            },
            "colorscale": [
             [
              0,
              "#0d0887"
             ],
             [
              0.1111111111111111,
              "#46039f"
             ],
             [
              0.2222222222222222,
              "#7201a8"
             ],
             [
              0.3333333333333333,
              "#9c179e"
             ],
             [
              0.4444444444444444,
              "#bd3786"
             ],
             [
              0.5555555555555556,
              "#d8576b"
             ],
             [
              0.6666666666666666,
              "#ed7953"
             ],
             [
              0.7777777777777778,
              "#fb9f3a"
             ],
             [
              0.8888888888888888,
              "#fdca26"
             ],
             [
              1,
              "#f0f921"
             ]
            ],
            "type": "surface"
           }
          ],
          "table": [
           {
            "cells": {
             "fill": {
              "color": "#EBF0F8"
             },
             "line": {
              "color": "white"
             }
            },
            "header": {
             "fill": {
              "color": "#C8D4E3"
             },
             "line": {
              "color": "white"
             }
            },
            "type": "table"
           }
          ]
         },
         "layout": {
          "annotationdefaults": {
           "arrowcolor": "#2a3f5f",
           "arrowhead": 0,
           "arrowwidth": 1
          },
          "autotypenumbers": "strict",
          "coloraxis": {
           "colorbar": {
            "outlinewidth": 0,
            "ticks": ""
           }
          },
          "colorscale": {
           "diverging": [
            [
             0,
             "#8e0152"
            ],
            [
             0.1,
             "#c51b7d"
            ],
            [
             0.2,
             "#de77ae"
            ],
            [
             0.3,
             "#f1b6da"
            ],
            [
             0.4,
             "#fde0ef"
            ],
            [
             0.5,
             "#f7f7f7"
            ],
            [
             0.6,
             "#e6f5d0"
            ],
            [
             0.7,
             "#b8e186"
            ],
            [
             0.8,
             "#7fbc41"
            ],
            [
             0.9,
             "#4d9221"
            ],
            [
             1,
             "#276419"
            ]
           ],
           "sequential": [
            [
             0,
             "#0d0887"
            ],
            [
             0.1111111111111111,
             "#46039f"
            ],
            [
             0.2222222222222222,
             "#7201a8"
            ],
            [
             0.3333333333333333,
             "#9c179e"
            ],
            [
             0.4444444444444444,
             "#bd3786"
            ],
            [
             0.5555555555555556,
             "#d8576b"
            ],
            [
             0.6666666666666666,
             "#ed7953"
            ],
            [
             0.7777777777777778,
             "#fb9f3a"
            ],
            [
             0.8888888888888888,
             "#fdca26"
            ],
            [
             1,
             "#f0f921"
            ]
           ],
           "sequentialminus": [
            [
             0,
             "#0d0887"
            ],
            [
             0.1111111111111111,
             "#46039f"
            ],
            [
             0.2222222222222222,
             "#7201a8"
            ],
            [
             0.3333333333333333,
             "#9c179e"
            ],
            [
             0.4444444444444444,
             "#bd3786"
            ],
            [
             0.5555555555555556,
             "#d8576b"
            ],
            [
             0.6666666666666666,
             "#ed7953"
            ],
            [
             0.7777777777777778,
             "#fb9f3a"
            ],
            [
             0.8888888888888888,
             "#fdca26"
            ],
            [
             1,
             "#f0f921"
            ]
           ]
          },
          "colorway": [
           "#636efa",
           "#EF553B",
           "#00cc96",
           "#ab63fa",
           "#FFA15A",
           "#19d3f3",
           "#FF6692",
           "#B6E880",
           "#FF97FF",
           "#FECB52"
          ],
          "font": {
           "color": "#2a3f5f"
          },
          "geo": {
           "bgcolor": "white",
           "lakecolor": "white",
           "landcolor": "white",
           "showlakes": true,
           "showland": true,
           "subunitcolor": "#C8D4E3"
          },
          "hoverlabel": {
           "align": "left"
          },
          "hovermode": "closest",
          "mapbox": {
           "style": "light"
          },
          "paper_bgcolor": "white",
          "plot_bgcolor": "white",
          "polar": {
           "angularaxis": {
            "gridcolor": "#EBF0F8",
            "linecolor": "#EBF0F8",
            "ticks": ""
           },
           "bgcolor": "white",
           "radialaxis": {
            "gridcolor": "#EBF0F8",
            "linecolor": "#EBF0F8",
            "ticks": ""
           }
          },
          "scene": {
           "xaxis": {
            "backgroundcolor": "white",
            "gridcolor": "#DFE8F3",
            "gridwidth": 2,
            "linecolor": "#EBF0F8",
            "showbackground": true,
            "ticks": "",
            "zerolinecolor": "#EBF0F8"
           },
           "yaxis": {
            "backgroundcolor": "white",
            "gridcolor": "#DFE8F3",
            "gridwidth": 2,
            "linecolor": "#EBF0F8",
            "showbackground": true,
            "ticks": "",
            "zerolinecolor": "#EBF0F8"
           },
           "zaxis": {
            "backgroundcolor": "white",
            "gridcolor": "#DFE8F3",
            "gridwidth": 2,
            "linecolor": "#EBF0F8",
            "showbackground": true,
            "ticks": "",
            "zerolinecolor": "#EBF0F8"
           }
          },
          "shapedefaults": {
           "line": {
            "color": "#2a3f5f"
           }
          },
          "ternary": {
           "aaxis": {
            "gridcolor": "#DFE8F3",
            "linecolor": "#A2B1C6",
            "ticks": ""
           },
           "baxis": {
            "gridcolor": "#DFE8F3",
            "linecolor": "#A2B1C6",
            "ticks": ""
           },
           "bgcolor": "white",
           "caxis": {
            "gridcolor": "#DFE8F3",
            "linecolor": "#A2B1C6",
            "ticks": ""
           }
          },
          "title": {
           "x": 0.05
          },
          "xaxis": {
           "automargin": true,
           "gridcolor": "#EBF0F8",
           "linecolor": "#EBF0F8",
           "ticks": "",
           "title": {
            "standoff": 15
           },
           "zerolinecolor": "#EBF0F8",
           "zerolinewidth": 2
          },
          "yaxis": {
           "automargin": true,
           "gridcolor": "#EBF0F8",
           "linecolor": "#EBF0F8",
           "ticks": "",
           "title": {
            "standoff": 15
           },
           "zerolinecolor": "#EBF0F8",
           "zerolinewidth": 2
          }
         }
        },
        "title": {
         "text": "<b>공제비율이 높은 질병(여성)</b><br><sup>공제비율 = 보험자부담금 / 요양급여비용총액</sup>",
         "x": 0.5,
         "y": 0.87
        },
        "xaxis": {
         "anchor": "y",
         "domain": [
          0,
          0.28888888888888886
         ]
        },
        "xaxis2": {
         "anchor": "y2",
         "domain": [
          0.3555555555555555,
          0.6444444444444444
         ]
        },
        "xaxis3": {
         "anchor": "y3",
         "domain": [
          0.711111111111111,
          0.9999999999999999
         ]
        },
        "xaxis4": {
         "anchor": "y4",
         "domain": [
          0,
          0.28888888888888886
         ]
        },
        "xaxis5": {
         "anchor": "y5",
         "domain": [
          0.3555555555555555,
          0.6444444444444444
         ]
        },
        "xaxis6": {
         "anchor": "y6",
         "domain": [
          0.711111111111111,
          0.9999999999999999
         ]
        },
        "yaxis": {
         "anchor": "x",
         "domain": [
          0.625,
          1
         ],
         "range": [
          60,
          100
         ],
         "title": {
          "text": "<b>공제비율(%)</b>"
         }
        },
        "yaxis2": {
         "anchor": "x2",
         "domain": [
          0.625,
          1
         ],
         "range": [
          60,
          100
         ]
        },
        "yaxis3": {
         "anchor": "x3",
         "domain": [
          0.625,
          1
         ],
         "range": [
          60,
          100
         ]
        },
        "yaxis4": {
         "anchor": "x4",
         "domain": [
          0,
          0.375
         ],
         "range": [
          60,
          100
         ]
        },
        "yaxis5": {
         "anchor": "x5",
         "domain": [
          0,
          0.375
         ],
         "range": [
          60,
          100
         ]
        },
        "yaxis6": {
         "anchor": "x6",
         "domain": [
          0,
          0.375
         ],
         "range": [
          60,
          100
         ]
        }
       }
      },
      "text/html": [
       "<div>                            <div id=\"4bec5ac8-7cd2-411b-8611-93aef7a48e86\" class=\"plotly-graph-div\" style=\"height:525px; width:100%;\"></div>            <script type=\"text/javascript\">                require([\"plotly\"], function(Plotly) {                    window.PLOTLYENV=window.PLOTLYENV || {};                                    if (document.getElementById(\"4bec5ac8-7cd2-411b-8611-93aef7a48e86\")) {                    Plotly.newPlot(                        \"4bec5ac8-7cd2-411b-8611-93aef7a48e86\",                        [{\"marker\":{\"color\":\"#80489C\"},\"name\":\"2017\",\"text\":[98.80237675253217,94.72199595258863,94.35348596862525,93.98454379252087,93.09252316066066,93.02615280380132,92.59218004948156,92.47899286652655,92.05907140726775,91.9060771459287],\"textposition\":\"auto\",\"x\":[\"\\ubbf8\\uc219\\uc544\",\"\\ud638\\ud761\\uae30 \\uacb0\\ud575\",\"\\uacb0\\ud575\",\"\\ub9cc\\uc131 \\ubc31\\ud608\\ubcd1\",\"\\ubc31\\ud608\\ubcd1\",\"\\uae09\\uc131 \\ubc31\\ud608\\ubcd1\",\"\\ucdcc\\uc7a5\\uc554\",\"\\uc0dd\\ud65c\\uc2b5\\uad00\\ubcd1_\\uc2dd\\ub3c4\\uc554\",\"\\uac04\\uc554\",\"\\uc870\\uc0b0_\\uace0\\uc704\\ud5d8\\uc0b0\\ubaa8\"],\"y\":[98.80237675253217,94.72199595258863,94.35348596862525,93.98454379252087,93.09252316066066,93.02615280380132,92.59218004948156,92.47899286652655,92.05907140726775,91.9060771459287],\"type\":\"bar\",\"xaxis\":\"x\",\"yaxis\":\"y\"},{\"marker\":{\"color\":\"#FFD372\"},\"name\":\"2018\",\"text\":[98.8916841983362,95.16424615559282,94.57978567204471,93.7387667470837,92.67615568167723,92.59794350130764,92.26837595554271,91.9978482128089,91.67206026662981,91.49823330219583],\"textposition\":\"auto\",\"x\":[\"\\ubbf8\\uc219\\uc544\",\"\\ud638\\ud761\\uae30 \\uacb0\\ud575\",\"\\uacb0\\ud575\",\"\\ub9cc\\uc131 \\ubc31\\ud608\\ubcd1\",\"\\ubc31\\ud608\\ubcd1\",\"\\uae09\\uc131 \\ubc31\\ud608\\ubcd1\",\"\\uc0dd\\ud65c\\uc2b5\\uad00\\ubcd1_\\uc2dd\\ub3c4\\uc554\",\"\\ucdcc\\uc7a5\\uc554\",\"\\uc0dd\\ud65c\\uc2b5\\uad00\\ubcd1_\\ud3d0\\uc554\",\"\\uac04\\uc554\"],\"y\":[98.8916841983362,95.16424615559282,94.57978567204471,93.7387667470837,92.67615568167723,92.59794350130764,92.26837595554271,91.9978482128089,91.67206026662981,91.49823330219583],\"type\":\"bar\",\"xaxis\":\"x2\",\"yaxis\":\"y2\"},{\"marker\":{\"color\":\"#4682B4\"},\"name\":\"2019\",\"text\":[98.93004329794103,95.50614408876487,94.97146267929914,93.19964215069339,91.98540124503441,91.86540465151745,91.35784089037124,91.23198630466062,91.01767664826895,90.93875712861895],\"textposition\":\"auto\",\"x\":[\"\\ubbf8\\uc219\\uc544\",\"\\ud638\\ud761\\uae30 \\uacb0\\ud575\",\"\\uacb0\\ud575\",\"\\ub9cc\\uc131 \\ubc31\\ud608\\ubcd1\",\"\\ubc31\\ud608\\ubcd1\",\"\\uae09\\uc131 \\ubc31\\ud608\\ubcd1\",\"\\uc0dd\\ud65c\\uc2b5\\uad00\\ubcd1_\\uc2dd\\ub3c4\\uc554\",\"\\uc0dd\\ud65c\\uc2b5\\uad00\\ubcd1_\\ud6c4\\ub450\\uc554\",\"\\ucdcc\\uc7a5\\uc554\",\"\\uc0dd\\ud65c\\uc2b5\\uad00\\ubcd1_\\ud3d0\\uc554\"],\"y\":[98.93004329794103,95.50614408876487,94.97146267929914,93.19964215069339,91.98540124503441,91.86540465151745,91.35784089037124,91.23198630466062,91.01767664826895,90.93875712861895],\"type\":\"bar\",\"xaxis\":\"x3\",\"yaxis\":\"y3\"},{\"marker\":{\"color\":\"#AACB73\"},\"name\":\"2020\",\"text\":[98.99839720457058,95.40742536967426,94.75093223571254,92.9174827702497,91.91253150067865,91.8340717848437,91.28265901205006,91.07921147498979,90.84367652801916,90.73849026669319],\"textposition\":\"auto\",\"x\":[\"\\ubbf8\\uc219\\uc544\",\"\\ud638\\ud761\\uae30 \\uacb0\\ud575\",\"\\uacb0\\ud575\",\"\\ub9cc\\uc131 \\ubc31\\ud608\\ubcd1\",\"\\ubc31\\ud608\\ubcd1\",\"\\uae09\\uc131 \\ubc31\\ud608\\ubcd1\",\"\\uc0dd\\ud65c\\uc2b5\\uad00\\ubcd1_\\ud6c4\\ub450\\uc554\",\"\\uc0dd\\ud65c\\uc2b5\\uad00\\ubcd1_\\uc2dd\\ub3c4\\uc554\",\"\\uc0dd\\ud65c\\uc2b5\\uad00\\ubcd1_\\ud3d0\\uc554\",\"\\uac04\\uc554\"],\"y\":[98.99839720457058,95.40742536967426,94.75093223571254,92.9174827702497,91.91253150067865,91.8340717848437,91.28265901205006,91.07921147498979,90.84367652801916,90.73849026669319],\"type\":\"bar\",\"xaxis\":\"x4\",\"yaxis\":\"y4\"},{\"marker\":{\"color\":\"#FD8A8A\"},\"name\":\"2021\",\"text\":[98.9618694806707,95.57684795618877,94.89109323478971,93.05524676939204,91.99967418002903,91.91373206449627,90.67018946353605,90.63077636690846,90.58871871624628,90.58220749504251],\"textposition\":\"auto\",\"x\":[\"\\ubbf8\\uc219\\uc544\",\"\\ud638\\ud761\\uae30 \\uacb0\\ud575\",\"\\uacb0\\ud575\",\"\\ub9cc\\uc131 \\ubc31\\ud608\\ubcd1\",\"\\ubc31\\ud608\\ubcd1\",\"\\uae09\\uc131 \\ubc31\\ud608\\ubcd1\",\"\\uc0dd\\ud65c\\uc2b5\\uad00\\ubcd1_\\uc2dd\\ub3c4\\uc554\",\"\\ud53c\\ubd80\\uc554\",\"\\uc0dd\\ud65c\\uc2b5\\uad00\\ubcd1_\\ud6c4\\ub450\\uc554\",\"\\uc0dd\\ud65c\\uc2b5\\uad00\\ubcd1_\\ud3d0\\uc554\"],\"y\":[98.9618694806707,95.57684795618877,94.89109323478971,93.05524676939204,91.99967418002903,91.91373206449627,90.67018946353605,90.63077636690846,90.58871871624628,90.58220749504251],\"type\":\"bar\",\"xaxis\":\"x5\",\"yaxis\":\"y5\"}],                        {\"template\":{\"data\":{\"barpolar\":[{\"marker\":{\"line\":{\"color\":\"white\",\"width\":0.5},\"pattern\":{\"fillmode\":\"overlay\",\"size\":10,\"solidity\":0.2}},\"type\":\"barpolar\"}],\"bar\":[{\"error_x\":{\"color\":\"#2a3f5f\"},\"error_y\":{\"color\":\"#2a3f5f\"},\"marker\":{\"line\":{\"color\":\"white\",\"width\":0.5},\"pattern\":{\"fillmode\":\"overlay\",\"size\":10,\"solidity\":0.2}},\"type\":\"bar\"}],\"carpet\":[{\"aaxis\":{\"endlinecolor\":\"#2a3f5f\",\"gridcolor\":\"#C8D4E3\",\"linecolor\":\"#C8D4E3\",\"minorgridcolor\":\"#C8D4E3\",\"startlinecolor\":\"#2a3f5f\"},\"baxis\":{\"endlinecolor\":\"#2a3f5f\",\"gridcolor\":\"#C8D4E3\",\"linecolor\":\"#C8D4E3\",\"minorgridcolor\":\"#C8D4E3\",\"startlinecolor\":\"#2a3f5f\"},\"type\":\"carpet\"}],\"choropleth\":[{\"colorbar\":{\"outlinewidth\":0,\"ticks\":\"\"},\"type\":\"choropleth\"}],\"contourcarpet\":[{\"colorbar\":{\"outlinewidth\":0,\"ticks\":\"\"},\"type\":\"contourcarpet\"}],\"contour\":[{\"colorbar\":{\"outlinewidth\":0,\"ticks\":\"\"},\"colorscale\":[[0.0,\"#0d0887\"],[0.1111111111111111,\"#46039f\"],[0.2222222222222222,\"#7201a8\"],[0.3333333333333333,\"#9c179e\"],[0.4444444444444444,\"#bd3786\"],[0.5555555555555556,\"#d8576b\"],[0.6666666666666666,\"#ed7953\"],[0.7777777777777778,\"#fb9f3a\"],[0.8888888888888888,\"#fdca26\"],[1.0,\"#f0f921\"]],\"type\":\"contour\"}],\"heatmapgl\":[{\"colorbar\":{\"outlinewidth\":0,\"ticks\":\"\"},\"colorscale\":[[0.0,\"#0d0887\"],[0.1111111111111111,\"#46039f\"],[0.2222222222222222,\"#7201a8\"],[0.3333333333333333,\"#9c179e\"],[0.4444444444444444,\"#bd3786\"],[0.5555555555555556,\"#d8576b\"],[0.6666666666666666,\"#ed7953\"],[0.7777777777777778,\"#fb9f3a\"],[0.8888888888888888,\"#fdca26\"],[1.0,\"#f0f921\"]],\"type\":\"heatmapgl\"}],\"heatmap\":[{\"colorbar\":{\"outlinewidth\":0,\"ticks\":\"\"},\"colorscale\":[[0.0,\"#0d0887\"],[0.1111111111111111,\"#46039f\"],[0.2222222222222222,\"#7201a8\"],[0.3333333333333333,\"#9c179e\"],[0.4444444444444444,\"#bd3786\"],[0.5555555555555556,\"#d8576b\"],[0.6666666666666666,\"#ed7953\"],[0.7777777777777778,\"#fb9f3a\"],[0.8888888888888888,\"#fdca26\"],[1.0,\"#f0f921\"]],\"type\":\"heatmap\"}],\"histogram2dcontour\":[{\"colorbar\":{\"outlinewidth\":0,\"ticks\":\"\"},\"colorscale\":[[0.0,\"#0d0887\"],[0.1111111111111111,\"#46039f\"],[0.2222222222222222,\"#7201a8\"],[0.3333333333333333,\"#9c179e\"],[0.4444444444444444,\"#bd3786\"],[0.5555555555555556,\"#d8576b\"],[0.6666666666666666,\"#ed7953\"],[0.7777777777777778,\"#fb9f3a\"],[0.8888888888888888,\"#fdca26\"],[1.0,\"#f0f921\"]],\"type\":\"histogram2dcontour\"}],\"histogram2d\":[{\"colorbar\":{\"outlinewidth\":0,\"ticks\":\"\"},\"colorscale\":[[0.0,\"#0d0887\"],[0.1111111111111111,\"#46039f\"],[0.2222222222222222,\"#7201a8\"],[0.3333333333333333,\"#9c179e\"],[0.4444444444444444,\"#bd3786\"],[0.5555555555555556,\"#d8576b\"],[0.6666666666666666,\"#ed7953\"],[0.7777777777777778,\"#fb9f3a\"],[0.8888888888888888,\"#fdca26\"],[1.0,\"#f0f921\"]],\"type\":\"histogram2d\"}],\"histogram\":[{\"marker\":{\"pattern\":{\"fillmode\":\"overlay\",\"size\":10,\"solidity\":0.2}},\"type\":\"histogram\"}],\"mesh3d\":[{\"colorbar\":{\"outlinewidth\":0,\"ticks\":\"\"},\"type\":\"mesh3d\"}],\"parcoords\":[{\"line\":{\"colorbar\":{\"outlinewidth\":0,\"ticks\":\"\"}},\"type\":\"parcoords\"}],\"pie\":[{\"automargin\":true,\"type\":\"pie\"}],\"scatter3d\":[{\"line\":{\"colorbar\":{\"outlinewidth\":0,\"ticks\":\"\"}},\"marker\":{\"colorbar\":{\"outlinewidth\":0,\"ticks\":\"\"}},\"type\":\"scatter3d\"}],\"scattercarpet\":[{\"marker\":{\"colorbar\":{\"outlinewidth\":0,\"ticks\":\"\"}},\"type\":\"scattercarpet\"}],\"scattergeo\":[{\"marker\":{\"colorbar\":{\"outlinewidth\":0,\"ticks\":\"\"}},\"type\":\"scattergeo\"}],\"scattergl\":[{\"marker\":{\"colorbar\":{\"outlinewidth\":0,\"ticks\":\"\"}},\"type\":\"scattergl\"}],\"scattermapbox\":[{\"marker\":{\"colorbar\":{\"outlinewidth\":0,\"ticks\":\"\"}},\"type\":\"scattermapbox\"}],\"scatterpolargl\":[{\"marker\":{\"colorbar\":{\"outlinewidth\":0,\"ticks\":\"\"}},\"type\":\"scatterpolargl\"}],\"scatterpolar\":[{\"marker\":{\"colorbar\":{\"outlinewidth\":0,\"ticks\":\"\"}},\"type\":\"scatterpolar\"}],\"scatter\":[{\"fillpattern\":{\"fillmode\":\"overlay\",\"size\":10,\"solidity\":0.2},\"type\":\"scatter\"}],\"scatterternary\":[{\"marker\":{\"colorbar\":{\"outlinewidth\":0,\"ticks\":\"\"}},\"type\":\"scatterternary\"}],\"surface\":[{\"colorbar\":{\"outlinewidth\":0,\"ticks\":\"\"},\"colorscale\":[[0.0,\"#0d0887\"],[0.1111111111111111,\"#46039f\"],[0.2222222222222222,\"#7201a8\"],[0.3333333333333333,\"#9c179e\"],[0.4444444444444444,\"#bd3786\"],[0.5555555555555556,\"#d8576b\"],[0.6666666666666666,\"#ed7953\"],[0.7777777777777778,\"#fb9f3a\"],[0.8888888888888888,\"#fdca26\"],[1.0,\"#f0f921\"]],\"type\":\"surface\"}],\"table\":[{\"cells\":{\"fill\":{\"color\":\"#EBF0F8\"},\"line\":{\"color\":\"white\"}},\"header\":{\"fill\":{\"color\":\"#C8D4E3\"},\"line\":{\"color\":\"white\"}},\"type\":\"table\"}]},\"layout\":{\"annotationdefaults\":{\"arrowcolor\":\"#2a3f5f\",\"arrowhead\":0,\"arrowwidth\":1},\"autotypenumbers\":\"strict\",\"coloraxis\":{\"colorbar\":{\"outlinewidth\":0,\"ticks\":\"\"}},\"colorscale\":{\"diverging\":[[0,\"#8e0152\"],[0.1,\"#c51b7d\"],[0.2,\"#de77ae\"],[0.3,\"#f1b6da\"],[0.4,\"#fde0ef\"],[0.5,\"#f7f7f7\"],[0.6,\"#e6f5d0\"],[0.7,\"#b8e186\"],[0.8,\"#7fbc41\"],[0.9,\"#4d9221\"],[1,\"#276419\"]],\"sequential\":[[0.0,\"#0d0887\"],[0.1111111111111111,\"#46039f\"],[0.2222222222222222,\"#7201a8\"],[0.3333333333333333,\"#9c179e\"],[0.4444444444444444,\"#bd3786\"],[0.5555555555555556,\"#d8576b\"],[0.6666666666666666,\"#ed7953\"],[0.7777777777777778,\"#fb9f3a\"],[0.8888888888888888,\"#fdca26\"],[1.0,\"#f0f921\"]],\"sequentialminus\":[[0.0,\"#0d0887\"],[0.1111111111111111,\"#46039f\"],[0.2222222222222222,\"#7201a8\"],[0.3333333333333333,\"#9c179e\"],[0.4444444444444444,\"#bd3786\"],[0.5555555555555556,\"#d8576b\"],[0.6666666666666666,\"#ed7953\"],[0.7777777777777778,\"#fb9f3a\"],[0.8888888888888888,\"#fdca26\"],[1.0,\"#f0f921\"]]},\"colorway\":[\"#636efa\",\"#EF553B\",\"#00cc96\",\"#ab63fa\",\"#FFA15A\",\"#19d3f3\",\"#FF6692\",\"#B6E880\",\"#FF97FF\",\"#FECB52\"],\"font\":{\"color\":\"#2a3f5f\"},\"geo\":{\"bgcolor\":\"white\",\"lakecolor\":\"white\",\"landcolor\":\"white\",\"showlakes\":true,\"showland\":true,\"subunitcolor\":\"#C8D4E3\"},\"hoverlabel\":{\"align\":\"left\"},\"hovermode\":\"closest\",\"mapbox\":{\"style\":\"light\"},\"paper_bgcolor\":\"white\",\"plot_bgcolor\":\"white\",\"polar\":{\"angularaxis\":{\"gridcolor\":\"#EBF0F8\",\"linecolor\":\"#EBF0F8\",\"ticks\":\"\"},\"bgcolor\":\"white\",\"radialaxis\":{\"gridcolor\":\"#EBF0F8\",\"linecolor\":\"#EBF0F8\",\"ticks\":\"\"}},\"scene\":{\"xaxis\":{\"backgroundcolor\":\"white\",\"gridcolor\":\"#DFE8F3\",\"gridwidth\":2,\"linecolor\":\"#EBF0F8\",\"showbackground\":true,\"ticks\":\"\",\"zerolinecolor\":\"#EBF0F8\"},\"yaxis\":{\"backgroundcolor\":\"white\",\"gridcolor\":\"#DFE8F3\",\"gridwidth\":2,\"linecolor\":\"#EBF0F8\",\"showbackground\":true,\"ticks\":\"\",\"zerolinecolor\":\"#EBF0F8\"},\"zaxis\":{\"backgroundcolor\":\"white\",\"gridcolor\":\"#DFE8F3\",\"gridwidth\":2,\"linecolor\":\"#EBF0F8\",\"showbackground\":true,\"ticks\":\"\",\"zerolinecolor\":\"#EBF0F8\"}},\"shapedefaults\":{\"line\":{\"color\":\"#2a3f5f\"}},\"ternary\":{\"aaxis\":{\"gridcolor\":\"#DFE8F3\",\"linecolor\":\"#A2B1C6\",\"ticks\":\"\"},\"baxis\":{\"gridcolor\":\"#DFE8F3\",\"linecolor\":\"#A2B1C6\",\"ticks\":\"\"},\"bgcolor\":\"white\",\"caxis\":{\"gridcolor\":\"#DFE8F3\",\"linecolor\":\"#A2B1C6\",\"ticks\":\"\"}},\"title\":{\"x\":0.05},\"xaxis\":{\"automargin\":true,\"gridcolor\":\"#EBF0F8\",\"linecolor\":\"#EBF0F8\",\"ticks\":\"\",\"title\":{\"standoff\":15},\"zerolinecolor\":\"#EBF0F8\",\"zerolinewidth\":2},\"yaxis\":{\"automargin\":true,\"gridcolor\":\"#EBF0F8\",\"linecolor\":\"#EBF0F8\",\"ticks\":\"\",\"title\":{\"standoff\":15},\"zerolinecolor\":\"#EBF0F8\",\"zerolinewidth\":2}}},\"xaxis\":{\"anchor\":\"y\",\"domain\":[0.0,0.28888888888888886]},\"yaxis\":{\"anchor\":\"x\",\"domain\":[0.625,1.0],\"range\":[60,100],\"title\":{\"text\":\"<b>\\uacf5\\uc81c\\ube44\\uc728(%)</b>\"}},\"xaxis2\":{\"anchor\":\"y2\",\"domain\":[0.3555555555555555,0.6444444444444444]},\"yaxis2\":{\"anchor\":\"x2\",\"domain\":[0.625,1.0],\"range\":[60,100]},\"xaxis3\":{\"anchor\":\"y3\",\"domain\":[0.711111111111111,0.9999999999999999]},\"yaxis3\":{\"anchor\":\"x3\",\"domain\":[0.625,1.0],\"range\":[60,100]},\"xaxis4\":{\"anchor\":\"y4\",\"domain\":[0.0,0.28888888888888886]},\"yaxis4\":{\"anchor\":\"x4\",\"domain\":[0.0,0.375],\"range\":[60,100]},\"xaxis5\":{\"anchor\":\"y5\",\"domain\":[0.3555555555555555,0.6444444444444444]},\"yaxis5\":{\"anchor\":\"x5\",\"domain\":[0.0,0.375],\"range\":[60,100]},\"xaxis6\":{\"anchor\":\"y6\",\"domain\":[0.711111111111111,0.9999999999999999]},\"yaxis6\":{\"anchor\":\"x6\",\"domain\":[0.0,0.375],\"range\":[60,100]},\"annotations\":[{\"font\":{\"size\":16},\"showarrow\":false,\"text\":\"2017\",\"x\":0.14444444444444443,\"xanchor\":\"center\",\"xref\":\"paper\",\"y\":1.0,\"yanchor\":\"bottom\",\"yref\":\"paper\"},{\"font\":{\"size\":16},\"showarrow\":false,\"text\":\"2018\",\"x\":0.49999999999999994,\"xanchor\":\"center\",\"xref\":\"paper\",\"y\":1.0,\"yanchor\":\"bottom\",\"yref\":\"paper\"},{\"font\":{\"size\":16},\"showarrow\":false,\"text\":\"2019\",\"x\":0.8555555555555554,\"xanchor\":\"center\",\"xref\":\"paper\",\"y\":1.0,\"yanchor\":\"bottom\",\"yref\":\"paper\"},{\"font\":{\"size\":16},\"showarrow\":false,\"text\":\"2020\",\"x\":0.14444444444444443,\"xanchor\":\"center\",\"xref\":\"paper\",\"y\":0.375,\"yanchor\":\"bottom\",\"yref\":\"paper\"},{\"font\":{\"size\":16},\"showarrow\":false,\"text\":\"2021\",\"x\":0.49999999999999994,\"xanchor\":\"center\",\"xref\":\"paper\",\"y\":0.375,\"yanchor\":\"bottom\",\"yref\":\"paper\"}],\"title\":{\"text\":\"<b>\\uacf5\\uc81c\\ube44\\uc728\\uc774 \\ub192\\uc740 \\uc9c8\\ubcd1(\\uc5ec\\uc131)</b><br><sup>\\uacf5\\uc81c\\ube44\\uc728 = \\ubcf4\\ud5d8\\uc790\\ubd80\\ub2f4\\uae08 / \\uc694\\uc591\\uae09\\uc5ec\\ube44\\uc6a9\\ucd1d\\uc561</sup>\",\"x\":0.5,\"y\":0.87}},                        {\"responsive\": true}                    ).then(function(){\n",
       "                            \n",
       "var gd = document.getElementById('4bec5ac8-7cd2-411b-8611-93aef7a48e86');\n",
       "var x = new MutationObserver(function (mutations, observer) {{\n",
       "        var display = window.getComputedStyle(gd).display;\n",
       "        if (!display || display === 'none') {{\n",
       "            console.log([gd, 'removed!']);\n",
       "            Plotly.purge(gd);\n",
       "            observer.disconnect();\n",
       "        }}\n",
       "}});\n",
       "\n",
       "// Listen for the removal of the full notebook cells\n",
       "var notebookContainer = gd.closest('#notebook-container');\n",
       "if (notebookContainer) {{\n",
       "    x.observe(notebookContainer, {childList: true});\n",
       "}}\n",
       "\n",
       "// Listen for the clearing of the current output cell\n",
       "var outputEl = gd.closest('.output');\n",
       "if (outputEl) {{\n",
       "    x.observe(outputEl, {childList: true});\n",
       "}}\n",
       "\n",
       "                        })                };                });            </script>        </div>"
      ]
     },
     "metadata": {},
     "output_type": "display_data"
    }
   ],
   "source": [
    "# 여자 top10\n",
    "from plotly.subplots import make_subplots\n",
    "\n",
    "fig3 = go.Figure()\n",
    "\n",
    "fig3 = make_subplots(rows=2, cols=3,\n",
    "                    subplot_titles=(\"2017\", \"2018\", \"2019\", \"2020\",\"2021\"),\n",
    "                    column_widths=[0.1, 0.1, 0.1]) # 각 Subplot 별 subtitle 넣기)\n",
    "\n",
    "fig3.add_trace(\n",
    "    go.Bar(\n",
    "        x = Ft2017['항목'], y = Ft2017['공제비율'],\n",
    "        name = '2017',\n",
    "        text = Ft2017['공제비율'],\n",
    "        textposition='auto',\n",
    "        marker = {'color':'#80489C'}\n",
    "    ), row=1, col=1\n",
    ")\n",
    "\n",
    "fig3.add_trace(\n",
    "    go.Bar(\n",
    "        x = Ft2018['항목'], y = Ft2018['공제비율'],\n",
    "        name = '2018',\n",
    "        text = Ft2018['공제비율'],\n",
    "        textposition='auto',\n",
    "        marker = {'color':'#FFD372'}\n",
    "    ), row=1, col=2\n",
    ")\n",
    "\n",
    "fig3.add_trace(\n",
    "    go.Bar(\n",
    "        x = Ft2019['항목'], y = Ft2019['공제비율'],\n",
    "        name = '2019',\n",
    "        text = Ft2019['공제비율'],\n",
    "        textposition='auto',\n",
    "        marker = {'color':'#4682B4'}\n",
    "    ), row=1, col=3\n",
    ")\n",
    "\n",
    "fig3.add_trace(\n",
    "    go.Bar(\n",
    "        x = Ft2020['항목'], y = Ft2020['공제비율'],\n",
    "        name = '2020',\n",
    "        text = Ft2020['공제비율'],\n",
    "        textposition='auto',\n",
    "        marker = {'color':'#AACB73'}\n",
    "    ), row=2, col=1\n",
    ")\n",
    "\n",
    "fig3.add_trace(\n",
    "    go.Bar(\n",
    "        x = Ft2021['항목'], y = Ft2021['공제비율'],\n",
    "        name = '2021',\n",
    "        text = Ft2021['공제비율'],\n",
    "        textposition='auto',\n",
    "        marker = {'color':'#FD8A8A'}\n",
    "    ), row=2, col=2\n",
    ")\n",
    "\n",
    "fig3.update_yaxes(range=[60, 100])\n",
    "fig3.update_layout(title=dict(text = '<b>공제비율이 높은 질병(여성)</b><br><sup>공제비율 = 보험자부담금 / 요양급여비용총액</sup>', x=0.5, y=0.87),\n",
    "    yaxis_title=dict(text = \"<b>공제비율(%)</b>\"))\n",
    "fig3.update_layout(template='plotly_white')\n",
    "\n",
    "fig3.show()"
   ]
  },
  {
   "cell_type": "code",
   "execution_count": 130,
   "metadata": {},
   "outputs": [
    {
     "data": {
      "application/vnd.plotly.v1+json": {
       "config": {
        "plotlyServerURL": "https://plotly.com"
       },
       "data": [
        {
         "marker": {
          "color": "#80489C"
         },
         "name": "2017",
         "text": [
          48.00078537768598,
          48.827287071571504,
          54.3594644696581,
          55.97862794446098,
          56.48394453538743,
          57.68844744372892,
          58.149845411598925,
          58.59496048740579,
          59.10006841834146,
          60.76045868232559
         ],
         "textposition": "auto",
         "type": "bar",
         "x": [
          "성조숙증",
          "피부전구암",
          "C형간염",
          "갑상선기능항진증",
          "B형 간염",
          "다뇨/빈뇨/야뇨 ",
          "갑상선장애",
          "야뇨증 ",
          "다낭성 난소증후군",
          "미주신경성실신"
         ],
         "xaxis": "x",
         "y": [
          48.00078537768598,
          48.827287071571504,
          54.3594644696581,
          55.97862794446098,
          56.48394453538743,
          57.68844744372892,
          58.149845411598925,
          58.59496048740579,
          59.10006841834146,
          60.76045868232559
         ],
         "yaxis": "y"
        },
        {
         "marker": {
          "color": "#FFD372"
         },
         "name": "2018",
         "text": [
          49.7516321013938,
          50.1639344262295,
          50.504895119143434,
          52.86601198300984,
          56.01607110372606,
          56.82915297303308,
          57.94613801453493,
          58.25606958478377,
          59.15154151343799,
          61.0887523047675
         ],
         "textposition": "auto",
         "type": "bar",
         "x": [
          "성조숙증",
          "전립선증식증",
          "피부전구암",
          "C형간염",
          "갑상선기능항진증",
          "B형 간염",
          "다뇨/빈뇨/야뇨 ",
          "갑상선장애",
          "야뇨증 ",
          "갑상선기능저하증"
         ],
         "xaxis": "x2",
         "y": [
          49.7516321013938,
          50.1639344262295,
          50.504895119143434,
          52.86601198300984,
          56.01607110372606,
          56.82915297303308,
          57.94613801453493,
          58.25606958478377,
          59.15154151343799,
          61.0887523047675
         ],
         "yaxis": "y2"
        },
        {
         "marker": {
          "color": "#4682B4"
         },
         "name": "2019",
         "text": [
          51.534151944616326,
          53.08249339850112,
          53.51571097957177,
          56.03827880389799,
          56.660744592767784,
          58.49321173724894,
          58.911175738690716,
          59.707132056361104,
          61.07376070303153,
          61.64314318513614
         ],
         "textposition": "auto",
         "type": "bar",
         "x": [
          "성조숙증",
          "피부전구암",
          "C형간염",
          "B형 간염",
          "갑상선기능항진증",
          "다뇨/빈뇨/야뇨 ",
          "갑상선장애",
          "야뇨증 ",
          "미주신경성실신",
          "갑상선기능저하증"
         ],
         "xaxis": "x3",
         "y": [
          51.534151944616326,
          53.08249339850112,
          53.51571097957177,
          56.03827880389799,
          56.660744592767784,
          58.49321173724894,
          58.911175738690716,
          59.707132056361104,
          61.07376070303153,
          61.64314318513614
         ],
         "yaxis": "y3"
        },
        {
         "marker": {
          "color": "#AACB73"
         },
         "name": "2020",
         "text": [
          53.48420523302884,
          53.78180634444655,
          54.46458485639687,
          56.085613928727795,
          56.92622647864545,
          59.460376437736194,
          60.31162041047558,
          60.6619100176743,
          60.896132838103554,
          61.62061924196621
         ],
         "textposition": "auto",
         "type": "bar",
         "x": [
          "C형간염",
          "성조숙증",
          "피부전구암",
          "B형 간염",
          "갑상선기능항진증",
          "갑상선장애",
          "다낭성 난소증후군",
          "다뇨/빈뇨/야뇨 ",
          "야뇨증 ",
          "미주신경성실신"
         ],
         "xaxis": "x4",
         "y": [
          53.48420523302884,
          53.78180634444655,
          54.46458485639687,
          56.085613928727795,
          56.92622647864545,
          59.460376437736194,
          60.31162041047558,
          60.6619100176743,
          60.896132838103554,
          61.62061924196621
         ],
         "yaxis": "y4"
        },
        {
         "marker": {
          "color": "#FD8A8A"
         },
         "name": "2021",
         "text": [
          53.785385474222316,
          54.93134129449025,
          55.83931202436604,
          56.158160627189666,
          56.79251690194129,
          59.10200696022238,
          59.563112788580206,
          60.78381220337056,
          60.953509607189346,
          61.225248508052246
         ],
         "textposition": "auto",
         "type": "bar",
         "x": [
          "C형간염",
          "성조숙증",
          "피부전구암",
          "B형 간염",
          "갑상선기능항진증",
          "다낭성 난소증후군",
          "갑상선장애",
          "야뇨증 ",
          "미주신경성실신",
          "다뇨/빈뇨/야뇨 "
         ],
         "xaxis": "x5",
         "y": [
          53.785385474222316,
          54.93134129449025,
          55.83931202436604,
          56.158160627189666,
          56.79251690194129,
          59.10200696022238,
          59.563112788580206,
          60.78381220337056,
          60.953509607189346,
          61.225248508052246
         ],
         "yaxis": "y5"
        }
       ],
       "layout": {
        "annotations": [
         {
          "font": {
           "size": 16
          },
          "showarrow": false,
          "text": "2017",
          "x": 0.14444444444444443,
          "xanchor": "center",
          "xref": "paper",
          "y": 1,
          "yanchor": "bottom",
          "yref": "paper"
         },
         {
          "font": {
           "size": 16
          },
          "showarrow": false,
          "text": "2018",
          "x": 0.49999999999999994,
          "xanchor": "center",
          "xref": "paper",
          "y": 1,
          "yanchor": "bottom",
          "yref": "paper"
         },
         {
          "font": {
           "size": 16
          },
          "showarrow": false,
          "text": "2019",
          "x": 0.8555555555555554,
          "xanchor": "center",
          "xref": "paper",
          "y": 1,
          "yanchor": "bottom",
          "yref": "paper"
         },
         {
          "font": {
           "size": 16
          },
          "showarrow": false,
          "text": "2020",
          "x": 0.14444444444444443,
          "xanchor": "center",
          "xref": "paper",
          "y": 0.375,
          "yanchor": "bottom",
          "yref": "paper"
         },
         {
          "font": {
           "size": 16
          },
          "showarrow": false,
          "text": "2021",
          "x": 0.49999999999999994,
          "xanchor": "center",
          "xref": "paper",
          "y": 0.375,
          "yanchor": "bottom",
          "yref": "paper"
         }
        ],
        "template": {
         "data": {
          "bar": [
           {
            "error_x": {
             "color": "#2a3f5f"
            },
            "error_y": {
             "color": "#2a3f5f"
            },
            "marker": {
             "line": {
              "color": "white",
              "width": 0.5
             },
             "pattern": {
              "fillmode": "overlay",
              "size": 10,
              "solidity": 0.2
             }
            },
            "type": "bar"
           }
          ],
          "barpolar": [
           {
            "marker": {
             "line": {
              "color": "white",
              "width": 0.5
             },
             "pattern": {
              "fillmode": "overlay",
              "size": 10,
              "solidity": 0.2
             }
            },
            "type": "barpolar"
           }
          ],
          "carpet": [
           {
            "aaxis": {
             "endlinecolor": "#2a3f5f",
             "gridcolor": "#C8D4E3",
             "linecolor": "#C8D4E3",
             "minorgridcolor": "#C8D4E3",
             "startlinecolor": "#2a3f5f"
            },
            "baxis": {
             "endlinecolor": "#2a3f5f",
             "gridcolor": "#C8D4E3",
             "linecolor": "#C8D4E3",
             "minorgridcolor": "#C8D4E3",
             "startlinecolor": "#2a3f5f"
            },
            "type": "carpet"
           }
          ],
          "choropleth": [
           {
            "colorbar": {
             "outlinewidth": 0,
             "ticks": ""
            },
            "type": "choropleth"
           }
          ],
          "contour": [
           {
            "colorbar": {
             "outlinewidth": 0,
             "ticks": ""
            },
            "colorscale": [
             [
              0,
              "#0d0887"
             ],
             [
              0.1111111111111111,
              "#46039f"
             ],
             [
              0.2222222222222222,
              "#7201a8"
             ],
             [
              0.3333333333333333,
              "#9c179e"
             ],
             [
              0.4444444444444444,
              "#bd3786"
             ],
             [
              0.5555555555555556,
              "#d8576b"
             ],
             [
              0.6666666666666666,
              "#ed7953"
             ],
             [
              0.7777777777777778,
              "#fb9f3a"
             ],
             [
              0.8888888888888888,
              "#fdca26"
             ],
             [
              1,
              "#f0f921"
             ]
            ],
            "type": "contour"
           }
          ],
          "contourcarpet": [
           {
            "colorbar": {
             "outlinewidth": 0,
             "ticks": ""
            },
            "type": "contourcarpet"
           }
          ],
          "heatmap": [
           {
            "colorbar": {
             "outlinewidth": 0,
             "ticks": ""
            },
            "colorscale": [
             [
              0,
              "#0d0887"
             ],
             [
              0.1111111111111111,
              "#46039f"
             ],
             [
              0.2222222222222222,
              "#7201a8"
             ],
             [
              0.3333333333333333,
              "#9c179e"
             ],
             [
              0.4444444444444444,
              "#bd3786"
             ],
             [
              0.5555555555555556,
              "#d8576b"
             ],
             [
              0.6666666666666666,
              "#ed7953"
             ],
             [
              0.7777777777777778,
              "#fb9f3a"
             ],
             [
              0.8888888888888888,
              "#fdca26"
             ],
             [
              1,
              "#f0f921"
             ]
            ],
            "type": "heatmap"
           }
          ],
          "heatmapgl": [
           {
            "colorbar": {
             "outlinewidth": 0,
             "ticks": ""
            },
            "colorscale": [
             [
              0,
              "#0d0887"
             ],
             [
              0.1111111111111111,
              "#46039f"
             ],
             [
              0.2222222222222222,
              "#7201a8"
             ],
             [
              0.3333333333333333,
              "#9c179e"
             ],
             [
              0.4444444444444444,
              "#bd3786"
             ],
             [
              0.5555555555555556,
              "#d8576b"
             ],
             [
              0.6666666666666666,
              "#ed7953"
             ],
             [
              0.7777777777777778,
              "#fb9f3a"
             ],
             [
              0.8888888888888888,
              "#fdca26"
             ],
             [
              1,
              "#f0f921"
             ]
            ],
            "type": "heatmapgl"
           }
          ],
          "histogram": [
           {
            "marker": {
             "pattern": {
              "fillmode": "overlay",
              "size": 10,
              "solidity": 0.2
             }
            },
            "type": "histogram"
           }
          ],
          "histogram2d": [
           {
            "colorbar": {
             "outlinewidth": 0,
             "ticks": ""
            },
            "colorscale": [
             [
              0,
              "#0d0887"
             ],
             [
              0.1111111111111111,
              "#46039f"
             ],
             [
              0.2222222222222222,
              "#7201a8"
             ],
             [
              0.3333333333333333,
              "#9c179e"
             ],
             [
              0.4444444444444444,
              "#bd3786"
             ],
             [
              0.5555555555555556,
              "#d8576b"
             ],
             [
              0.6666666666666666,
              "#ed7953"
             ],
             [
              0.7777777777777778,
              "#fb9f3a"
             ],
             [
              0.8888888888888888,
              "#fdca26"
             ],
             [
              1,
              "#f0f921"
             ]
            ],
            "type": "histogram2d"
           }
          ],
          "histogram2dcontour": [
           {
            "colorbar": {
             "outlinewidth": 0,
             "ticks": ""
            },
            "colorscale": [
             [
              0,
              "#0d0887"
             ],
             [
              0.1111111111111111,
              "#46039f"
             ],
             [
              0.2222222222222222,
              "#7201a8"
             ],
             [
              0.3333333333333333,
              "#9c179e"
             ],
             [
              0.4444444444444444,
              "#bd3786"
             ],
             [
              0.5555555555555556,
              "#d8576b"
             ],
             [
              0.6666666666666666,
              "#ed7953"
             ],
             [
              0.7777777777777778,
              "#fb9f3a"
             ],
             [
              0.8888888888888888,
              "#fdca26"
             ],
             [
              1,
              "#f0f921"
             ]
            ],
            "type": "histogram2dcontour"
           }
          ],
          "mesh3d": [
           {
            "colorbar": {
             "outlinewidth": 0,
             "ticks": ""
            },
            "type": "mesh3d"
           }
          ],
          "parcoords": [
           {
            "line": {
             "colorbar": {
              "outlinewidth": 0,
              "ticks": ""
             }
            },
            "type": "parcoords"
           }
          ],
          "pie": [
           {
            "automargin": true,
            "type": "pie"
           }
          ],
          "scatter": [
           {
            "fillpattern": {
             "fillmode": "overlay",
             "size": 10,
             "solidity": 0.2
            },
            "type": "scatter"
           }
          ],
          "scatter3d": [
           {
            "line": {
             "colorbar": {
              "outlinewidth": 0,
              "ticks": ""
             }
            },
            "marker": {
             "colorbar": {
              "outlinewidth": 0,
              "ticks": ""
             }
            },
            "type": "scatter3d"
           }
          ],
          "scattercarpet": [
           {
            "marker": {
             "colorbar": {
              "outlinewidth": 0,
              "ticks": ""
             }
            },
            "type": "scattercarpet"
           }
          ],
          "scattergeo": [
           {
            "marker": {
             "colorbar": {
              "outlinewidth": 0,
              "ticks": ""
             }
            },
            "type": "scattergeo"
           }
          ],
          "scattergl": [
           {
            "marker": {
             "colorbar": {
              "outlinewidth": 0,
              "ticks": ""
             }
            },
            "type": "scattergl"
           }
          ],
          "scattermapbox": [
           {
            "marker": {
             "colorbar": {
              "outlinewidth": 0,
              "ticks": ""
             }
            },
            "type": "scattermapbox"
           }
          ],
          "scatterpolar": [
           {
            "marker": {
             "colorbar": {
              "outlinewidth": 0,
              "ticks": ""
             }
            },
            "type": "scatterpolar"
           }
          ],
          "scatterpolargl": [
           {
            "marker": {
             "colorbar": {
              "outlinewidth": 0,
              "ticks": ""
             }
            },
            "type": "scatterpolargl"
           }
          ],
          "scatterternary": [
           {
            "marker": {
             "colorbar": {
              "outlinewidth": 0,
              "ticks": ""
             }
            },
            "type": "scatterternary"
           }
          ],
          "surface": [
           {
            "colorbar": {
             "outlinewidth": 0,
             "ticks": ""
            },
            "colorscale": [
             [
              0,
              "#0d0887"
             ],
             [
              0.1111111111111111,
              "#46039f"
             ],
             [
              0.2222222222222222,
              "#7201a8"
             ],
             [
              0.3333333333333333,
              "#9c179e"
             ],
             [
              0.4444444444444444,
              "#bd3786"
             ],
             [
              0.5555555555555556,
              "#d8576b"
             ],
             [
              0.6666666666666666,
              "#ed7953"
             ],
             [
              0.7777777777777778,
              "#fb9f3a"
             ],
             [
              0.8888888888888888,
              "#fdca26"
             ],
             [
              1,
              "#f0f921"
             ]
            ],
            "type": "surface"
           }
          ],
          "table": [
           {
            "cells": {
             "fill": {
              "color": "#EBF0F8"
             },
             "line": {
              "color": "white"
             }
            },
            "header": {
             "fill": {
              "color": "#C8D4E3"
             },
             "line": {
              "color": "white"
             }
            },
            "type": "table"
           }
          ]
         },
         "layout": {
          "annotationdefaults": {
           "arrowcolor": "#2a3f5f",
           "arrowhead": 0,
           "arrowwidth": 1
          },
          "autotypenumbers": "strict",
          "coloraxis": {
           "colorbar": {
            "outlinewidth": 0,
            "ticks": ""
           }
          },
          "colorscale": {
           "diverging": [
            [
             0,
             "#8e0152"
            ],
            [
             0.1,
             "#c51b7d"
            ],
            [
             0.2,
             "#de77ae"
            ],
            [
             0.3,
             "#f1b6da"
            ],
            [
             0.4,
             "#fde0ef"
            ],
            [
             0.5,
             "#f7f7f7"
            ],
            [
             0.6,
             "#e6f5d0"
            ],
            [
             0.7,
             "#b8e186"
            ],
            [
             0.8,
             "#7fbc41"
            ],
            [
             0.9,
             "#4d9221"
            ],
            [
             1,
             "#276419"
            ]
           ],
           "sequential": [
            [
             0,
             "#0d0887"
            ],
            [
             0.1111111111111111,
             "#46039f"
            ],
            [
             0.2222222222222222,
             "#7201a8"
            ],
            [
             0.3333333333333333,
             "#9c179e"
            ],
            [
             0.4444444444444444,
             "#bd3786"
            ],
            [
             0.5555555555555556,
             "#d8576b"
            ],
            [
             0.6666666666666666,
             "#ed7953"
            ],
            [
             0.7777777777777778,
             "#fb9f3a"
            ],
            [
             0.8888888888888888,
             "#fdca26"
            ],
            [
             1,
             "#f0f921"
            ]
           ],
           "sequentialminus": [
            [
             0,
             "#0d0887"
            ],
            [
             0.1111111111111111,
             "#46039f"
            ],
            [
             0.2222222222222222,
             "#7201a8"
            ],
            [
             0.3333333333333333,
             "#9c179e"
            ],
            [
             0.4444444444444444,
             "#bd3786"
            ],
            [
             0.5555555555555556,
             "#d8576b"
            ],
            [
             0.6666666666666666,
             "#ed7953"
            ],
            [
             0.7777777777777778,
             "#fb9f3a"
            ],
            [
             0.8888888888888888,
             "#fdca26"
            ],
            [
             1,
             "#f0f921"
            ]
           ]
          },
          "colorway": [
           "#636efa",
           "#EF553B",
           "#00cc96",
           "#ab63fa",
           "#FFA15A",
           "#19d3f3",
           "#FF6692",
           "#B6E880",
           "#FF97FF",
           "#FECB52"
          ],
          "font": {
           "color": "#2a3f5f"
          },
          "geo": {
           "bgcolor": "white",
           "lakecolor": "white",
           "landcolor": "white",
           "showlakes": true,
           "showland": true,
           "subunitcolor": "#C8D4E3"
          },
          "hoverlabel": {
           "align": "left"
          },
          "hovermode": "closest",
          "mapbox": {
           "style": "light"
          },
          "paper_bgcolor": "white",
          "plot_bgcolor": "white",
          "polar": {
           "angularaxis": {
            "gridcolor": "#EBF0F8",
            "linecolor": "#EBF0F8",
            "ticks": ""
           },
           "bgcolor": "white",
           "radialaxis": {
            "gridcolor": "#EBF0F8",
            "linecolor": "#EBF0F8",
            "ticks": ""
           }
          },
          "scene": {
           "xaxis": {
            "backgroundcolor": "white",
            "gridcolor": "#DFE8F3",
            "gridwidth": 2,
            "linecolor": "#EBF0F8",
            "showbackground": true,
            "ticks": "",
            "zerolinecolor": "#EBF0F8"
           },
           "yaxis": {
            "backgroundcolor": "white",
            "gridcolor": "#DFE8F3",
            "gridwidth": 2,
            "linecolor": "#EBF0F8",
            "showbackground": true,
            "ticks": "",
            "zerolinecolor": "#EBF0F8"
           },
           "zaxis": {
            "backgroundcolor": "white",
            "gridcolor": "#DFE8F3",
            "gridwidth": 2,
            "linecolor": "#EBF0F8",
            "showbackground": true,
            "ticks": "",
            "zerolinecolor": "#EBF0F8"
           }
          },
          "shapedefaults": {
           "line": {
            "color": "#2a3f5f"
           }
          },
          "ternary": {
           "aaxis": {
            "gridcolor": "#DFE8F3",
            "linecolor": "#A2B1C6",
            "ticks": ""
           },
           "baxis": {
            "gridcolor": "#DFE8F3",
            "linecolor": "#A2B1C6",
            "ticks": ""
           },
           "bgcolor": "white",
           "caxis": {
            "gridcolor": "#DFE8F3",
            "linecolor": "#A2B1C6",
            "ticks": ""
           }
          },
          "title": {
           "x": 0.05
          },
          "xaxis": {
           "automargin": true,
           "gridcolor": "#EBF0F8",
           "linecolor": "#EBF0F8",
           "ticks": "",
           "title": {
            "standoff": 15
           },
           "zerolinecolor": "#EBF0F8",
           "zerolinewidth": 2
          },
          "yaxis": {
           "automargin": true,
           "gridcolor": "#EBF0F8",
           "linecolor": "#EBF0F8",
           "ticks": "",
           "title": {
            "standoff": 15
           },
           "zerolinecolor": "#EBF0F8",
           "zerolinewidth": 2
          }
         }
        },
        "title": {
         "text": "<b>공제비율이 낮은 질병(여성)</b><br><sup>공제비율 = 보험자부담금 / 요양급여비용총액</sup>",
         "x": 0.5,
         "y": 0.87
        },
        "xaxis": {
         "anchor": "y",
         "domain": [
          0,
          0.28888888888888886
         ]
        },
        "xaxis2": {
         "anchor": "y2",
         "domain": [
          0.3555555555555555,
          0.6444444444444444
         ]
        },
        "xaxis3": {
         "anchor": "y3",
         "domain": [
          0.711111111111111,
          0.9999999999999999
         ]
        },
        "xaxis4": {
         "anchor": "y4",
         "domain": [
          0,
          0.28888888888888886
         ]
        },
        "xaxis5": {
         "anchor": "y5",
         "domain": [
          0.3555555555555555,
          0.6444444444444444
         ]
        },
        "xaxis6": {
         "anchor": "y6",
         "domain": [
          0.711111111111111,
          0.9999999999999999
         ]
        },
        "yaxis": {
         "anchor": "x",
         "domain": [
          0.625,
          1
         ],
         "range": [
          30,
          70
         ],
         "title": {
          "text": "<b>공제비율(%)</b>"
         }
        },
        "yaxis2": {
         "anchor": "x2",
         "domain": [
          0.625,
          1
         ],
         "range": [
          30,
          70
         ]
        },
        "yaxis3": {
         "anchor": "x3",
         "domain": [
          0.625,
          1
         ],
         "range": [
          30,
          70
         ]
        },
        "yaxis4": {
         "anchor": "x4",
         "domain": [
          0,
          0.375
         ],
         "range": [
          30,
          70
         ]
        },
        "yaxis5": {
         "anchor": "x5",
         "domain": [
          0,
          0.375
         ],
         "range": [
          30,
          70
         ]
        },
        "yaxis6": {
         "anchor": "x6",
         "domain": [
          0,
          0.375
         ],
         "range": [
          30,
          70
         ]
        }
       }
      },
      "text/html": [
       "<div>                            <div id=\"9c5869e2-fa70-4547-bf33-ad685c532830\" class=\"plotly-graph-div\" style=\"height:525px; width:100%;\"></div>            <script type=\"text/javascript\">                require([\"plotly\"], function(Plotly) {                    window.PLOTLYENV=window.PLOTLYENV || {};                                    if (document.getElementById(\"9c5869e2-fa70-4547-bf33-ad685c532830\")) {                    Plotly.newPlot(                        \"9c5869e2-fa70-4547-bf33-ad685c532830\",                        [{\"marker\":{\"color\":\"#80489C\"},\"name\":\"2017\",\"text\":[48.00078537768598,48.827287071571504,54.3594644696581,55.97862794446098,56.48394453538743,57.68844744372892,58.149845411598925,58.59496048740579,59.10006841834146,60.76045868232559],\"textposition\":\"auto\",\"x\":[\"\\uc131\\uc870\\uc219\\uc99d\",\"\\ud53c\\ubd80\\uc804\\uad6c\\uc554\",\"C\\ud615\\uac04\\uc5fc\",\"\\uac11\\uc0c1\\uc120\\uae30\\ub2a5\\ud56d\\uc9c4\\uc99d\",\"B\\ud615 \\uac04\\uc5fc\",\"\\ub2e4\\ub1e8/\\ube48\\ub1e8/\\uc57c\\ub1e8 \",\"\\uac11\\uc0c1\\uc120\\uc7a5\\uc560\",\"\\uc57c\\ub1e8\\uc99d \",\"\\ub2e4\\ub0ad\\uc131 \\ub09c\\uc18c\\uc99d\\ud6c4\\uad70\",\"\\ubbf8\\uc8fc\\uc2e0\\uacbd\\uc131\\uc2e4\\uc2e0\"],\"y\":[48.00078537768598,48.827287071571504,54.3594644696581,55.97862794446098,56.48394453538743,57.68844744372892,58.149845411598925,58.59496048740579,59.10006841834146,60.76045868232559],\"type\":\"bar\",\"xaxis\":\"x\",\"yaxis\":\"y\"},{\"marker\":{\"color\":\"#FFD372\"},\"name\":\"2018\",\"text\":[49.7516321013938,50.1639344262295,50.504895119143434,52.86601198300984,56.01607110372606,56.82915297303308,57.94613801453493,58.25606958478377,59.15154151343799,61.0887523047675],\"textposition\":\"auto\",\"x\":[\"\\uc131\\uc870\\uc219\\uc99d\",\"\\uc804\\ub9bd\\uc120\\uc99d\\uc2dd\\uc99d\",\"\\ud53c\\ubd80\\uc804\\uad6c\\uc554\",\"C\\ud615\\uac04\\uc5fc\",\"\\uac11\\uc0c1\\uc120\\uae30\\ub2a5\\ud56d\\uc9c4\\uc99d\",\"B\\ud615 \\uac04\\uc5fc\",\"\\ub2e4\\ub1e8/\\ube48\\ub1e8/\\uc57c\\ub1e8 \",\"\\uac11\\uc0c1\\uc120\\uc7a5\\uc560\",\"\\uc57c\\ub1e8\\uc99d \",\"\\uac11\\uc0c1\\uc120\\uae30\\ub2a5\\uc800\\ud558\\uc99d\"],\"y\":[49.7516321013938,50.1639344262295,50.504895119143434,52.86601198300984,56.01607110372606,56.82915297303308,57.94613801453493,58.25606958478377,59.15154151343799,61.0887523047675],\"type\":\"bar\",\"xaxis\":\"x2\",\"yaxis\":\"y2\"},{\"marker\":{\"color\":\"#4682B4\"},\"name\":\"2019\",\"text\":[51.534151944616326,53.08249339850112,53.51571097957177,56.03827880389799,56.660744592767784,58.49321173724894,58.911175738690716,59.707132056361104,61.07376070303153,61.64314318513614],\"textposition\":\"auto\",\"x\":[\"\\uc131\\uc870\\uc219\\uc99d\",\"\\ud53c\\ubd80\\uc804\\uad6c\\uc554\",\"C\\ud615\\uac04\\uc5fc\",\"B\\ud615 \\uac04\\uc5fc\",\"\\uac11\\uc0c1\\uc120\\uae30\\ub2a5\\ud56d\\uc9c4\\uc99d\",\"\\ub2e4\\ub1e8/\\ube48\\ub1e8/\\uc57c\\ub1e8 \",\"\\uac11\\uc0c1\\uc120\\uc7a5\\uc560\",\"\\uc57c\\ub1e8\\uc99d \",\"\\ubbf8\\uc8fc\\uc2e0\\uacbd\\uc131\\uc2e4\\uc2e0\",\"\\uac11\\uc0c1\\uc120\\uae30\\ub2a5\\uc800\\ud558\\uc99d\"],\"y\":[51.534151944616326,53.08249339850112,53.51571097957177,56.03827880389799,56.660744592767784,58.49321173724894,58.911175738690716,59.707132056361104,61.07376070303153,61.64314318513614],\"type\":\"bar\",\"xaxis\":\"x3\",\"yaxis\":\"y3\"},{\"marker\":{\"color\":\"#AACB73\"},\"name\":\"2020\",\"text\":[53.48420523302884,53.78180634444655,54.46458485639687,56.085613928727795,56.92622647864545,59.460376437736194,60.31162041047558,60.6619100176743,60.896132838103554,61.62061924196621],\"textposition\":\"auto\",\"x\":[\"C\\ud615\\uac04\\uc5fc\",\"\\uc131\\uc870\\uc219\\uc99d\",\"\\ud53c\\ubd80\\uc804\\uad6c\\uc554\",\"B\\ud615 \\uac04\\uc5fc\",\"\\uac11\\uc0c1\\uc120\\uae30\\ub2a5\\ud56d\\uc9c4\\uc99d\",\"\\uac11\\uc0c1\\uc120\\uc7a5\\uc560\",\"\\ub2e4\\ub0ad\\uc131 \\ub09c\\uc18c\\uc99d\\ud6c4\\uad70\",\"\\ub2e4\\ub1e8/\\ube48\\ub1e8/\\uc57c\\ub1e8 \",\"\\uc57c\\ub1e8\\uc99d \",\"\\ubbf8\\uc8fc\\uc2e0\\uacbd\\uc131\\uc2e4\\uc2e0\"],\"y\":[53.48420523302884,53.78180634444655,54.46458485639687,56.085613928727795,56.92622647864545,59.460376437736194,60.31162041047558,60.6619100176743,60.896132838103554,61.62061924196621],\"type\":\"bar\",\"xaxis\":\"x4\",\"yaxis\":\"y4\"},{\"marker\":{\"color\":\"#FD8A8A\"},\"name\":\"2021\",\"text\":[53.785385474222316,54.93134129449025,55.83931202436604,56.158160627189666,56.79251690194129,59.10200696022238,59.563112788580206,60.78381220337056,60.953509607189346,61.225248508052246],\"textposition\":\"auto\",\"x\":[\"C\\ud615\\uac04\\uc5fc\",\"\\uc131\\uc870\\uc219\\uc99d\",\"\\ud53c\\ubd80\\uc804\\uad6c\\uc554\",\"B\\ud615 \\uac04\\uc5fc\",\"\\uac11\\uc0c1\\uc120\\uae30\\ub2a5\\ud56d\\uc9c4\\uc99d\",\"\\ub2e4\\ub0ad\\uc131 \\ub09c\\uc18c\\uc99d\\ud6c4\\uad70\",\"\\uac11\\uc0c1\\uc120\\uc7a5\\uc560\",\"\\uc57c\\ub1e8\\uc99d \",\"\\ubbf8\\uc8fc\\uc2e0\\uacbd\\uc131\\uc2e4\\uc2e0\",\"\\ub2e4\\ub1e8/\\ube48\\ub1e8/\\uc57c\\ub1e8 \"],\"y\":[53.785385474222316,54.93134129449025,55.83931202436604,56.158160627189666,56.79251690194129,59.10200696022238,59.563112788580206,60.78381220337056,60.953509607189346,61.225248508052246],\"type\":\"bar\",\"xaxis\":\"x5\",\"yaxis\":\"y5\"}],                        {\"template\":{\"data\":{\"barpolar\":[{\"marker\":{\"line\":{\"color\":\"white\",\"width\":0.5},\"pattern\":{\"fillmode\":\"overlay\",\"size\":10,\"solidity\":0.2}},\"type\":\"barpolar\"}],\"bar\":[{\"error_x\":{\"color\":\"#2a3f5f\"},\"error_y\":{\"color\":\"#2a3f5f\"},\"marker\":{\"line\":{\"color\":\"white\",\"width\":0.5},\"pattern\":{\"fillmode\":\"overlay\",\"size\":10,\"solidity\":0.2}},\"type\":\"bar\"}],\"carpet\":[{\"aaxis\":{\"endlinecolor\":\"#2a3f5f\",\"gridcolor\":\"#C8D4E3\",\"linecolor\":\"#C8D4E3\",\"minorgridcolor\":\"#C8D4E3\",\"startlinecolor\":\"#2a3f5f\"},\"baxis\":{\"endlinecolor\":\"#2a3f5f\",\"gridcolor\":\"#C8D4E3\",\"linecolor\":\"#C8D4E3\",\"minorgridcolor\":\"#C8D4E3\",\"startlinecolor\":\"#2a3f5f\"},\"type\":\"carpet\"}],\"choropleth\":[{\"colorbar\":{\"outlinewidth\":0,\"ticks\":\"\"},\"type\":\"choropleth\"}],\"contourcarpet\":[{\"colorbar\":{\"outlinewidth\":0,\"ticks\":\"\"},\"type\":\"contourcarpet\"}],\"contour\":[{\"colorbar\":{\"outlinewidth\":0,\"ticks\":\"\"},\"colorscale\":[[0.0,\"#0d0887\"],[0.1111111111111111,\"#46039f\"],[0.2222222222222222,\"#7201a8\"],[0.3333333333333333,\"#9c179e\"],[0.4444444444444444,\"#bd3786\"],[0.5555555555555556,\"#d8576b\"],[0.6666666666666666,\"#ed7953\"],[0.7777777777777778,\"#fb9f3a\"],[0.8888888888888888,\"#fdca26\"],[1.0,\"#f0f921\"]],\"type\":\"contour\"}],\"heatmapgl\":[{\"colorbar\":{\"outlinewidth\":0,\"ticks\":\"\"},\"colorscale\":[[0.0,\"#0d0887\"],[0.1111111111111111,\"#46039f\"],[0.2222222222222222,\"#7201a8\"],[0.3333333333333333,\"#9c179e\"],[0.4444444444444444,\"#bd3786\"],[0.5555555555555556,\"#d8576b\"],[0.6666666666666666,\"#ed7953\"],[0.7777777777777778,\"#fb9f3a\"],[0.8888888888888888,\"#fdca26\"],[1.0,\"#f0f921\"]],\"type\":\"heatmapgl\"}],\"heatmap\":[{\"colorbar\":{\"outlinewidth\":0,\"ticks\":\"\"},\"colorscale\":[[0.0,\"#0d0887\"],[0.1111111111111111,\"#46039f\"],[0.2222222222222222,\"#7201a8\"],[0.3333333333333333,\"#9c179e\"],[0.4444444444444444,\"#bd3786\"],[0.5555555555555556,\"#d8576b\"],[0.6666666666666666,\"#ed7953\"],[0.7777777777777778,\"#fb9f3a\"],[0.8888888888888888,\"#fdca26\"],[1.0,\"#f0f921\"]],\"type\":\"heatmap\"}],\"histogram2dcontour\":[{\"colorbar\":{\"outlinewidth\":0,\"ticks\":\"\"},\"colorscale\":[[0.0,\"#0d0887\"],[0.1111111111111111,\"#46039f\"],[0.2222222222222222,\"#7201a8\"],[0.3333333333333333,\"#9c179e\"],[0.4444444444444444,\"#bd3786\"],[0.5555555555555556,\"#d8576b\"],[0.6666666666666666,\"#ed7953\"],[0.7777777777777778,\"#fb9f3a\"],[0.8888888888888888,\"#fdca26\"],[1.0,\"#f0f921\"]],\"type\":\"histogram2dcontour\"}],\"histogram2d\":[{\"colorbar\":{\"outlinewidth\":0,\"ticks\":\"\"},\"colorscale\":[[0.0,\"#0d0887\"],[0.1111111111111111,\"#46039f\"],[0.2222222222222222,\"#7201a8\"],[0.3333333333333333,\"#9c179e\"],[0.4444444444444444,\"#bd3786\"],[0.5555555555555556,\"#d8576b\"],[0.6666666666666666,\"#ed7953\"],[0.7777777777777778,\"#fb9f3a\"],[0.8888888888888888,\"#fdca26\"],[1.0,\"#f0f921\"]],\"type\":\"histogram2d\"}],\"histogram\":[{\"marker\":{\"pattern\":{\"fillmode\":\"overlay\",\"size\":10,\"solidity\":0.2}},\"type\":\"histogram\"}],\"mesh3d\":[{\"colorbar\":{\"outlinewidth\":0,\"ticks\":\"\"},\"type\":\"mesh3d\"}],\"parcoords\":[{\"line\":{\"colorbar\":{\"outlinewidth\":0,\"ticks\":\"\"}},\"type\":\"parcoords\"}],\"pie\":[{\"automargin\":true,\"type\":\"pie\"}],\"scatter3d\":[{\"line\":{\"colorbar\":{\"outlinewidth\":0,\"ticks\":\"\"}},\"marker\":{\"colorbar\":{\"outlinewidth\":0,\"ticks\":\"\"}},\"type\":\"scatter3d\"}],\"scattercarpet\":[{\"marker\":{\"colorbar\":{\"outlinewidth\":0,\"ticks\":\"\"}},\"type\":\"scattercarpet\"}],\"scattergeo\":[{\"marker\":{\"colorbar\":{\"outlinewidth\":0,\"ticks\":\"\"}},\"type\":\"scattergeo\"}],\"scattergl\":[{\"marker\":{\"colorbar\":{\"outlinewidth\":0,\"ticks\":\"\"}},\"type\":\"scattergl\"}],\"scattermapbox\":[{\"marker\":{\"colorbar\":{\"outlinewidth\":0,\"ticks\":\"\"}},\"type\":\"scattermapbox\"}],\"scatterpolargl\":[{\"marker\":{\"colorbar\":{\"outlinewidth\":0,\"ticks\":\"\"}},\"type\":\"scatterpolargl\"}],\"scatterpolar\":[{\"marker\":{\"colorbar\":{\"outlinewidth\":0,\"ticks\":\"\"}},\"type\":\"scatterpolar\"}],\"scatter\":[{\"fillpattern\":{\"fillmode\":\"overlay\",\"size\":10,\"solidity\":0.2},\"type\":\"scatter\"}],\"scatterternary\":[{\"marker\":{\"colorbar\":{\"outlinewidth\":0,\"ticks\":\"\"}},\"type\":\"scatterternary\"}],\"surface\":[{\"colorbar\":{\"outlinewidth\":0,\"ticks\":\"\"},\"colorscale\":[[0.0,\"#0d0887\"],[0.1111111111111111,\"#46039f\"],[0.2222222222222222,\"#7201a8\"],[0.3333333333333333,\"#9c179e\"],[0.4444444444444444,\"#bd3786\"],[0.5555555555555556,\"#d8576b\"],[0.6666666666666666,\"#ed7953\"],[0.7777777777777778,\"#fb9f3a\"],[0.8888888888888888,\"#fdca26\"],[1.0,\"#f0f921\"]],\"type\":\"surface\"}],\"table\":[{\"cells\":{\"fill\":{\"color\":\"#EBF0F8\"},\"line\":{\"color\":\"white\"}},\"header\":{\"fill\":{\"color\":\"#C8D4E3\"},\"line\":{\"color\":\"white\"}},\"type\":\"table\"}]},\"layout\":{\"annotationdefaults\":{\"arrowcolor\":\"#2a3f5f\",\"arrowhead\":0,\"arrowwidth\":1},\"autotypenumbers\":\"strict\",\"coloraxis\":{\"colorbar\":{\"outlinewidth\":0,\"ticks\":\"\"}},\"colorscale\":{\"diverging\":[[0,\"#8e0152\"],[0.1,\"#c51b7d\"],[0.2,\"#de77ae\"],[0.3,\"#f1b6da\"],[0.4,\"#fde0ef\"],[0.5,\"#f7f7f7\"],[0.6,\"#e6f5d0\"],[0.7,\"#b8e186\"],[0.8,\"#7fbc41\"],[0.9,\"#4d9221\"],[1,\"#276419\"]],\"sequential\":[[0.0,\"#0d0887\"],[0.1111111111111111,\"#46039f\"],[0.2222222222222222,\"#7201a8\"],[0.3333333333333333,\"#9c179e\"],[0.4444444444444444,\"#bd3786\"],[0.5555555555555556,\"#d8576b\"],[0.6666666666666666,\"#ed7953\"],[0.7777777777777778,\"#fb9f3a\"],[0.8888888888888888,\"#fdca26\"],[1.0,\"#f0f921\"]],\"sequentialminus\":[[0.0,\"#0d0887\"],[0.1111111111111111,\"#46039f\"],[0.2222222222222222,\"#7201a8\"],[0.3333333333333333,\"#9c179e\"],[0.4444444444444444,\"#bd3786\"],[0.5555555555555556,\"#d8576b\"],[0.6666666666666666,\"#ed7953\"],[0.7777777777777778,\"#fb9f3a\"],[0.8888888888888888,\"#fdca26\"],[1.0,\"#f0f921\"]]},\"colorway\":[\"#636efa\",\"#EF553B\",\"#00cc96\",\"#ab63fa\",\"#FFA15A\",\"#19d3f3\",\"#FF6692\",\"#B6E880\",\"#FF97FF\",\"#FECB52\"],\"font\":{\"color\":\"#2a3f5f\"},\"geo\":{\"bgcolor\":\"white\",\"lakecolor\":\"white\",\"landcolor\":\"white\",\"showlakes\":true,\"showland\":true,\"subunitcolor\":\"#C8D4E3\"},\"hoverlabel\":{\"align\":\"left\"},\"hovermode\":\"closest\",\"mapbox\":{\"style\":\"light\"},\"paper_bgcolor\":\"white\",\"plot_bgcolor\":\"white\",\"polar\":{\"angularaxis\":{\"gridcolor\":\"#EBF0F8\",\"linecolor\":\"#EBF0F8\",\"ticks\":\"\"},\"bgcolor\":\"white\",\"radialaxis\":{\"gridcolor\":\"#EBF0F8\",\"linecolor\":\"#EBF0F8\",\"ticks\":\"\"}},\"scene\":{\"xaxis\":{\"backgroundcolor\":\"white\",\"gridcolor\":\"#DFE8F3\",\"gridwidth\":2,\"linecolor\":\"#EBF0F8\",\"showbackground\":true,\"ticks\":\"\",\"zerolinecolor\":\"#EBF0F8\"},\"yaxis\":{\"backgroundcolor\":\"white\",\"gridcolor\":\"#DFE8F3\",\"gridwidth\":2,\"linecolor\":\"#EBF0F8\",\"showbackground\":true,\"ticks\":\"\",\"zerolinecolor\":\"#EBF0F8\"},\"zaxis\":{\"backgroundcolor\":\"white\",\"gridcolor\":\"#DFE8F3\",\"gridwidth\":2,\"linecolor\":\"#EBF0F8\",\"showbackground\":true,\"ticks\":\"\",\"zerolinecolor\":\"#EBF0F8\"}},\"shapedefaults\":{\"line\":{\"color\":\"#2a3f5f\"}},\"ternary\":{\"aaxis\":{\"gridcolor\":\"#DFE8F3\",\"linecolor\":\"#A2B1C6\",\"ticks\":\"\"},\"baxis\":{\"gridcolor\":\"#DFE8F3\",\"linecolor\":\"#A2B1C6\",\"ticks\":\"\"},\"bgcolor\":\"white\",\"caxis\":{\"gridcolor\":\"#DFE8F3\",\"linecolor\":\"#A2B1C6\",\"ticks\":\"\"}},\"title\":{\"x\":0.05},\"xaxis\":{\"automargin\":true,\"gridcolor\":\"#EBF0F8\",\"linecolor\":\"#EBF0F8\",\"ticks\":\"\",\"title\":{\"standoff\":15},\"zerolinecolor\":\"#EBF0F8\",\"zerolinewidth\":2},\"yaxis\":{\"automargin\":true,\"gridcolor\":\"#EBF0F8\",\"linecolor\":\"#EBF0F8\",\"ticks\":\"\",\"title\":{\"standoff\":15},\"zerolinecolor\":\"#EBF0F8\",\"zerolinewidth\":2}}},\"xaxis\":{\"anchor\":\"y\",\"domain\":[0.0,0.28888888888888886]},\"yaxis\":{\"anchor\":\"x\",\"domain\":[0.625,1.0],\"range\":[30,70],\"title\":{\"text\":\"<b>\\uacf5\\uc81c\\ube44\\uc728(%)</b>\"}},\"xaxis2\":{\"anchor\":\"y2\",\"domain\":[0.3555555555555555,0.6444444444444444]},\"yaxis2\":{\"anchor\":\"x2\",\"domain\":[0.625,1.0],\"range\":[30,70]},\"xaxis3\":{\"anchor\":\"y3\",\"domain\":[0.711111111111111,0.9999999999999999]},\"yaxis3\":{\"anchor\":\"x3\",\"domain\":[0.625,1.0],\"range\":[30,70]},\"xaxis4\":{\"anchor\":\"y4\",\"domain\":[0.0,0.28888888888888886]},\"yaxis4\":{\"anchor\":\"x4\",\"domain\":[0.0,0.375],\"range\":[30,70]},\"xaxis5\":{\"anchor\":\"y5\",\"domain\":[0.3555555555555555,0.6444444444444444]},\"yaxis5\":{\"anchor\":\"x5\",\"domain\":[0.0,0.375],\"range\":[30,70]},\"xaxis6\":{\"anchor\":\"y6\",\"domain\":[0.711111111111111,0.9999999999999999]},\"yaxis6\":{\"anchor\":\"x6\",\"domain\":[0.0,0.375],\"range\":[30,70]},\"annotations\":[{\"font\":{\"size\":16},\"showarrow\":false,\"text\":\"2017\",\"x\":0.14444444444444443,\"xanchor\":\"center\",\"xref\":\"paper\",\"y\":1.0,\"yanchor\":\"bottom\",\"yref\":\"paper\"},{\"font\":{\"size\":16},\"showarrow\":false,\"text\":\"2018\",\"x\":0.49999999999999994,\"xanchor\":\"center\",\"xref\":\"paper\",\"y\":1.0,\"yanchor\":\"bottom\",\"yref\":\"paper\"},{\"font\":{\"size\":16},\"showarrow\":false,\"text\":\"2019\",\"x\":0.8555555555555554,\"xanchor\":\"center\",\"xref\":\"paper\",\"y\":1.0,\"yanchor\":\"bottom\",\"yref\":\"paper\"},{\"font\":{\"size\":16},\"showarrow\":false,\"text\":\"2020\",\"x\":0.14444444444444443,\"xanchor\":\"center\",\"xref\":\"paper\",\"y\":0.375,\"yanchor\":\"bottom\",\"yref\":\"paper\"},{\"font\":{\"size\":16},\"showarrow\":false,\"text\":\"2021\",\"x\":0.49999999999999994,\"xanchor\":\"center\",\"xref\":\"paper\",\"y\":0.375,\"yanchor\":\"bottom\",\"yref\":\"paper\"}],\"title\":{\"text\":\"<b>\\uacf5\\uc81c\\ube44\\uc728\\uc774 \\ub0ae\\uc740 \\uc9c8\\ubcd1(\\uc5ec\\uc131)</b><br><sup>\\uacf5\\uc81c\\ube44\\uc728 = \\ubcf4\\ud5d8\\uc790\\ubd80\\ub2f4\\uae08 / \\uc694\\uc591\\uae09\\uc5ec\\ube44\\uc6a9\\ucd1d\\uc561</sup>\",\"x\":0.5,\"y\":0.87}},                        {\"responsive\": true}                    ).then(function(){\n",
       "                            \n",
       "var gd = document.getElementById('9c5869e2-fa70-4547-bf33-ad685c532830');\n",
       "var x = new MutationObserver(function (mutations, observer) {{\n",
       "        var display = window.getComputedStyle(gd).display;\n",
       "        if (!display || display === 'none') {{\n",
       "            console.log([gd, 'removed!']);\n",
       "            Plotly.purge(gd);\n",
       "            observer.disconnect();\n",
       "        }}\n",
       "}});\n",
       "\n",
       "// Listen for the removal of the full notebook cells\n",
       "var notebookContainer = gd.closest('#notebook-container');\n",
       "if (notebookContainer) {{\n",
       "    x.observe(notebookContainer, {childList: true});\n",
       "}}\n",
       "\n",
       "// Listen for the clearing of the current output cell\n",
       "var outputEl = gd.closest('.output');\n",
       "if (outputEl) {{\n",
       "    x.observe(outputEl, {childList: true});\n",
       "}}\n",
       "\n",
       "                        })                };                });            </script>        </div>"
      ]
     },
     "metadata": {},
     "output_type": "display_data"
    }
   ],
   "source": [
    "# 여자 down10\n",
    "from plotly.subplots import make_subplots\n",
    "\n",
    "fig4 = go.Figure()\n",
    "\n",
    "fig4 = make_subplots(rows=2, cols=3,\n",
    "                    subplot_titles=(\"2017\", \"2018\", \"2019\", \"2020\",\"2021\"),\n",
    "                    column_widths=[0.1, 0.1, 0.1]) # 각 Subplot 별 subtitle 넣기)\n",
    "\n",
    "fig4.add_trace(\n",
    "    go.Bar(\n",
    "        x = Fd2017['항목'], y = Fd2017['공제비율'],\n",
    "        name = '2017',\n",
    "        text = Fd2017['공제비율'],\n",
    "        textposition='auto',\n",
    "        marker = {'color':'#80489C'}\n",
    "    ), row=1, col=1\n",
    ")\n",
    "\n",
    "fig4.add_trace(\n",
    "    go.Bar(\n",
    "        x = Fd2018['항목'], y = Fd2018['공제비율'],\n",
    "        name = '2018',\n",
    "        text = Fd2018['공제비율'],\n",
    "        textposition='auto',\n",
    "        marker = {'color':'#FFD372'}\n",
    "    ), row=1, col=2\n",
    ")\n",
    "\n",
    "fig4.add_trace(\n",
    "    go.Bar(\n",
    "        x = Fd2019['항목'], y = Fd2019['공제비율'],\n",
    "        name = '2019',\n",
    "        text = Fd2019['공제비율'],\n",
    "        textposition='auto',\n",
    "        marker = {'color':'#4682B4'}\n",
    "    ), row=1, col=3\n",
    ")\n",
    "\n",
    "fig4.add_trace(\n",
    "    go.Bar(\n",
    "        x = Fd2020['항목'], y = Fd2020['공제비율'],\n",
    "        name = '2020',\n",
    "        text = Fd2020['공제비율'],\n",
    "        textposition='auto',\n",
    "        marker = {'color':'#AACB73'}\n",
    "    ), row=2, col=1\n",
    ")\n",
    "\n",
    "fig4.add_trace(\n",
    "    go.Bar(\n",
    "        x = Fd2021['항목'], y = Fd2021['공제비율'],\n",
    "        name = '2021',\n",
    "        text = Fd2021['공제비율'],\n",
    "        textposition='auto',\n",
    "        marker = {'color':'#FD8A8A'}\n",
    "    ), row=2, col=2\n",
    ")\n",
    "\n",
    "fig4.update_yaxes(range=[30, 70])\n",
    "fig4.update_layout(title=dict(text = '<b>공제비율이 낮은 질병(여성)</b><br><sup>공제비율 = 보험자부담금 / 요양급여비용총액</sup>', x=0.5, y=0.87),\n",
    "    yaxis_title=dict(text = \"<b>공제비율(%)</b>\"))\n",
    "fig4.update_layout(template='plotly_white')\n",
    "\n",
    "fig4.show()"
   ]
  },
  {
   "cell_type": "markdown",
   "metadata": {},
   "source": [
    "### 확인용"
   ]
  },
  {
   "cell_type": "code",
   "execution_count": 131,
   "metadata": {},
   "outputs": [],
   "source": [
    "# Mt2021\n",
    "# Md2021\n",
    "# Mt2017['항목'] == '자궁부속기종양_악성'"
   ]
  },
  {
   "cell_type": "code",
   "execution_count": 132,
   "metadata": {},
   "outputs": [],
   "source": [
    "# Ft2021\n",
    "# Fd2017"
   ]
  },
  {
   "cell_type": "markdown",
   "metadata": {},
   "source": [
    "## 질병별 공제비율 top 10 / down 10 (남/여)"
   ]
  },
  {
   "cell_type": "code",
   "execution_count": 133,
   "metadata": {},
   "outputs": [],
   "source": [
    "# 남자\n",
    "Mall = Mf.groupby('항목').sum()\n",
    "Mall = Mall/5  #연도(2017, 2018, 2019, 2020, 2021로 나누기)\n",
    "\n",
    "# 여자\n",
    "Fall = Ff.groupby('항목').sum()\n",
    "Fall = Fall/5  #연도(2017, 2018, 2019, 2020, 2021로 나누기)"
   ]
  },
  {
   "cell_type": "code",
   "execution_count": 134,
   "metadata": {},
   "outputs": [],
   "source": [
    "# top10\n",
    "# M=남자, F=여자\n",
    "Mtall = Mall.sort_values(ascending=False, by='공제비율').head(10)\n",
    "Mtall = Mtall.reset_index()\n",
    "Ftall = Fall.sort_values(ascending=False, by='공제비율').head(10)\n",
    "Ftall = Ftall.reset_index()\n",
    "\n",
    "# down10\n",
    "# M=남자, F=여자\n",
    "Mdall = Mall.sort_values(ascending=True, by='공제비율').head(10)\n",
    "Mdall = Mdall.reset_index()\n",
    "Fdall = Fall.sort_values(ascending=True, by='공제비율').head(10)\n",
    "Fdall = Fdall.reset_index()\n"
   ]
  },
  {
   "cell_type": "code",
   "execution_count": 135,
   "metadata": {},
   "outputs": [
    {
     "data": {
      "application/vnd.plotly.v1+json": {
       "config": {
        "plotlyServerURL": "https://plotly.com"
       },
       "data": [
        {
         "marker": {
          "color": "#6495ED"
         },
         "name": "남자",
         "text": [
          98.91687418681013,
          95.27533190456187,
          94.70935195809427,
          93.37913644598794,
          92.333257153616,
          92.24746096119328,
          91.57092213019327,
          91.32215943750435,
          91.18143563228588,
          91.13989146183282
         ],
         "textposition": "auto",
         "type": "bar",
         "x": [
          "미숙아",
          "호흡기 결핵",
          "결핵",
          "만성 백혈병",
          "백혈병",
          "급성 백혈병",
          "생활습관병_폐암",
          "생활습관병_후두암",
          "생활습관병_구강암",
          "생활습관병_식도암"
         ],
         "xaxis": "x",
         "y": [
          98.85602449721189,
          95.93926008558302,
          95.54300056450838,
          93.47291959127881,
          92.3951834222012,
          92.23976868551321,
          91.97269957202613,
          91.96885237092415,
          91.82904691268217,
          91.7967541096206
         ],
         "yaxis": "y"
        },
        {
         "marker": {
          "color": "#F08080"
         },
         "name": "여자",
         "text": [
          98.91687418681013,
          95.27533190456187,
          94.70935195809427,
          93.37913644598794,
          92.333257153616,
          92.24746096119328,
          91.57092213019327,
          91.32215943750435,
          91.18143563228588,
          91.13989146183282
         ],
         "textposition": "auto",
         "type": "bar",
         "x": [
          "미숙아",
          "호흡기 결핵",
          "결핵",
          "만성 백혈병",
          "백혈병",
          "급성 백혈병",
          "생활습관병_식도암",
          "췌장암",
          "생활습관병_폐암",
          "생활습관병_후두암"
         ],
         "xaxis": "x2",
         "y": [
          98.91687418681013,
          95.27533190456187,
          94.70935195809427,
          93.37913644598794,
          92.333257153616,
          92.24746096119328,
          91.57092213019327,
          91.32215943750435,
          91.18143563228588,
          91.13989146183282
         ],
         "yaxis": "y2"
        }
       ],
       "layout": {
        "annotations": [
         {
          "font": {
           "size": 16
          },
          "showarrow": false,
          "text": "남성",
          "x": 0.225,
          "xanchor": "center",
          "xref": "paper",
          "y": 1,
          "yanchor": "bottom",
          "yref": "paper"
         },
         {
          "font": {
           "size": 16
          },
          "showarrow": false,
          "text": "여성",
          "x": 0.775,
          "xanchor": "center",
          "xref": "paper",
          "y": 1,
          "yanchor": "bottom",
          "yref": "paper"
         }
        ],
        "template": {
         "data": {
          "bar": [
           {
            "error_x": {
             "color": "#2a3f5f"
            },
            "error_y": {
             "color": "#2a3f5f"
            },
            "marker": {
             "line": {
              "color": "white",
              "width": 0.5
             },
             "pattern": {
              "fillmode": "overlay",
              "size": 10,
              "solidity": 0.2
             }
            },
            "type": "bar"
           }
          ],
          "barpolar": [
           {
            "marker": {
             "line": {
              "color": "white",
              "width": 0.5
             },
             "pattern": {
              "fillmode": "overlay",
              "size": 10,
              "solidity": 0.2
             }
            },
            "type": "barpolar"
           }
          ],
          "carpet": [
           {
            "aaxis": {
             "endlinecolor": "#2a3f5f",
             "gridcolor": "#C8D4E3",
             "linecolor": "#C8D4E3",
             "minorgridcolor": "#C8D4E3",
             "startlinecolor": "#2a3f5f"
            },
            "baxis": {
             "endlinecolor": "#2a3f5f",
             "gridcolor": "#C8D4E3",
             "linecolor": "#C8D4E3",
             "minorgridcolor": "#C8D4E3",
             "startlinecolor": "#2a3f5f"
            },
            "type": "carpet"
           }
          ],
          "choropleth": [
           {
            "colorbar": {
             "outlinewidth": 0,
             "ticks": ""
            },
            "type": "choropleth"
           }
          ],
          "contour": [
           {
            "colorbar": {
             "outlinewidth": 0,
             "ticks": ""
            },
            "colorscale": [
             [
              0,
              "#0d0887"
             ],
             [
              0.1111111111111111,
              "#46039f"
             ],
             [
              0.2222222222222222,
              "#7201a8"
             ],
             [
              0.3333333333333333,
              "#9c179e"
             ],
             [
              0.4444444444444444,
              "#bd3786"
             ],
             [
              0.5555555555555556,
              "#d8576b"
             ],
             [
              0.6666666666666666,
              "#ed7953"
             ],
             [
              0.7777777777777778,
              "#fb9f3a"
             ],
             [
              0.8888888888888888,
              "#fdca26"
             ],
             [
              1,
              "#f0f921"
             ]
            ],
            "type": "contour"
           }
          ],
          "contourcarpet": [
           {
            "colorbar": {
             "outlinewidth": 0,
             "ticks": ""
            },
            "type": "contourcarpet"
           }
          ],
          "heatmap": [
           {
            "colorbar": {
             "outlinewidth": 0,
             "ticks": ""
            },
            "colorscale": [
             [
              0,
              "#0d0887"
             ],
             [
              0.1111111111111111,
              "#46039f"
             ],
             [
              0.2222222222222222,
              "#7201a8"
             ],
             [
              0.3333333333333333,
              "#9c179e"
             ],
             [
              0.4444444444444444,
              "#bd3786"
             ],
             [
              0.5555555555555556,
              "#d8576b"
             ],
             [
              0.6666666666666666,
              "#ed7953"
             ],
             [
              0.7777777777777778,
              "#fb9f3a"
             ],
             [
              0.8888888888888888,
              "#fdca26"
             ],
             [
              1,
              "#f0f921"
             ]
            ],
            "type": "heatmap"
           }
          ],
          "heatmapgl": [
           {
            "colorbar": {
             "outlinewidth": 0,
             "ticks": ""
            },
            "colorscale": [
             [
              0,
              "#0d0887"
             ],
             [
              0.1111111111111111,
              "#46039f"
             ],
             [
              0.2222222222222222,
              "#7201a8"
             ],
             [
              0.3333333333333333,
              "#9c179e"
             ],
             [
              0.4444444444444444,
              "#bd3786"
             ],
             [
              0.5555555555555556,
              "#d8576b"
             ],
             [
              0.6666666666666666,
              "#ed7953"
             ],
             [
              0.7777777777777778,
              "#fb9f3a"
             ],
             [
              0.8888888888888888,
              "#fdca26"
             ],
             [
              1,
              "#f0f921"
             ]
            ],
            "type": "heatmapgl"
           }
          ],
          "histogram": [
           {
            "marker": {
             "pattern": {
              "fillmode": "overlay",
              "size": 10,
              "solidity": 0.2
             }
            },
            "type": "histogram"
           }
          ],
          "histogram2d": [
           {
            "colorbar": {
             "outlinewidth": 0,
             "ticks": ""
            },
            "colorscale": [
             [
              0,
              "#0d0887"
             ],
             [
              0.1111111111111111,
              "#46039f"
             ],
             [
              0.2222222222222222,
              "#7201a8"
             ],
             [
              0.3333333333333333,
              "#9c179e"
             ],
             [
              0.4444444444444444,
              "#bd3786"
             ],
             [
              0.5555555555555556,
              "#d8576b"
             ],
             [
              0.6666666666666666,
              "#ed7953"
             ],
             [
              0.7777777777777778,
              "#fb9f3a"
             ],
             [
              0.8888888888888888,
              "#fdca26"
             ],
             [
              1,
              "#f0f921"
             ]
            ],
            "type": "histogram2d"
           }
          ],
          "histogram2dcontour": [
           {
            "colorbar": {
             "outlinewidth": 0,
             "ticks": ""
            },
            "colorscale": [
             [
              0,
              "#0d0887"
             ],
             [
              0.1111111111111111,
              "#46039f"
             ],
             [
              0.2222222222222222,
              "#7201a8"
             ],
             [
              0.3333333333333333,
              "#9c179e"
             ],
             [
              0.4444444444444444,
              "#bd3786"
             ],
             [
              0.5555555555555556,
              "#d8576b"
             ],
             [
              0.6666666666666666,
              "#ed7953"
             ],
             [
              0.7777777777777778,
              "#fb9f3a"
             ],
             [
              0.8888888888888888,
              "#fdca26"
             ],
             [
              1,
              "#f0f921"
             ]
            ],
            "type": "histogram2dcontour"
           }
          ],
          "mesh3d": [
           {
            "colorbar": {
             "outlinewidth": 0,
             "ticks": ""
            },
            "type": "mesh3d"
           }
          ],
          "parcoords": [
           {
            "line": {
             "colorbar": {
              "outlinewidth": 0,
              "ticks": ""
             }
            },
            "type": "parcoords"
           }
          ],
          "pie": [
           {
            "automargin": true,
            "type": "pie"
           }
          ],
          "scatter": [
           {
            "fillpattern": {
             "fillmode": "overlay",
             "size": 10,
             "solidity": 0.2
            },
            "type": "scatter"
           }
          ],
          "scatter3d": [
           {
            "line": {
             "colorbar": {
              "outlinewidth": 0,
              "ticks": ""
             }
            },
            "marker": {
             "colorbar": {
              "outlinewidth": 0,
              "ticks": ""
             }
            },
            "type": "scatter3d"
           }
          ],
          "scattercarpet": [
           {
            "marker": {
             "colorbar": {
              "outlinewidth": 0,
              "ticks": ""
             }
            },
            "type": "scattercarpet"
           }
          ],
          "scattergeo": [
           {
            "marker": {
             "colorbar": {
              "outlinewidth": 0,
              "ticks": ""
             }
            },
            "type": "scattergeo"
           }
          ],
          "scattergl": [
           {
            "marker": {
             "colorbar": {
              "outlinewidth": 0,
              "ticks": ""
             }
            },
            "type": "scattergl"
           }
          ],
          "scattermapbox": [
           {
            "marker": {
             "colorbar": {
              "outlinewidth": 0,
              "ticks": ""
             }
            },
            "type": "scattermapbox"
           }
          ],
          "scatterpolar": [
           {
            "marker": {
             "colorbar": {
              "outlinewidth": 0,
              "ticks": ""
             }
            },
            "type": "scatterpolar"
           }
          ],
          "scatterpolargl": [
           {
            "marker": {
             "colorbar": {
              "outlinewidth": 0,
              "ticks": ""
             }
            },
            "type": "scatterpolargl"
           }
          ],
          "scatterternary": [
           {
            "marker": {
             "colorbar": {
              "outlinewidth": 0,
              "ticks": ""
             }
            },
            "type": "scatterternary"
           }
          ],
          "surface": [
           {
            "colorbar": {
             "outlinewidth": 0,
             "ticks": ""
            },
            "colorscale": [
             [
              0,
              "#0d0887"
             ],
             [
              0.1111111111111111,
              "#46039f"
             ],
             [
              0.2222222222222222,
              "#7201a8"
             ],
             [
              0.3333333333333333,
              "#9c179e"
             ],
             [
              0.4444444444444444,
              "#bd3786"
             ],
             [
              0.5555555555555556,
              "#d8576b"
             ],
             [
              0.6666666666666666,
              "#ed7953"
             ],
             [
              0.7777777777777778,
              "#fb9f3a"
             ],
             [
              0.8888888888888888,
              "#fdca26"
             ],
             [
              1,
              "#f0f921"
             ]
            ],
            "type": "surface"
           }
          ],
          "table": [
           {
            "cells": {
             "fill": {
              "color": "#EBF0F8"
             },
             "line": {
              "color": "white"
             }
            },
            "header": {
             "fill": {
              "color": "#C8D4E3"
             },
             "line": {
              "color": "white"
             }
            },
            "type": "table"
           }
          ]
         },
         "layout": {
          "annotationdefaults": {
           "arrowcolor": "#2a3f5f",
           "arrowhead": 0,
           "arrowwidth": 1
          },
          "autotypenumbers": "strict",
          "coloraxis": {
           "colorbar": {
            "outlinewidth": 0,
            "ticks": ""
           }
          },
          "colorscale": {
           "diverging": [
            [
             0,
             "#8e0152"
            ],
            [
             0.1,
             "#c51b7d"
            ],
            [
             0.2,
             "#de77ae"
            ],
            [
             0.3,
             "#f1b6da"
            ],
            [
             0.4,
             "#fde0ef"
            ],
            [
             0.5,
             "#f7f7f7"
            ],
            [
             0.6,
             "#e6f5d0"
            ],
            [
             0.7,
             "#b8e186"
            ],
            [
             0.8,
             "#7fbc41"
            ],
            [
             0.9,
             "#4d9221"
            ],
            [
             1,
             "#276419"
            ]
           ],
           "sequential": [
            [
             0,
             "#0d0887"
            ],
            [
             0.1111111111111111,
             "#46039f"
            ],
            [
             0.2222222222222222,
             "#7201a8"
            ],
            [
             0.3333333333333333,
             "#9c179e"
            ],
            [
             0.4444444444444444,
             "#bd3786"
            ],
            [
             0.5555555555555556,
             "#d8576b"
            ],
            [
             0.6666666666666666,
             "#ed7953"
            ],
            [
             0.7777777777777778,
             "#fb9f3a"
            ],
            [
             0.8888888888888888,
             "#fdca26"
            ],
            [
             1,
             "#f0f921"
            ]
           ],
           "sequentialminus": [
            [
             0,
             "#0d0887"
            ],
            [
             0.1111111111111111,
             "#46039f"
            ],
            [
             0.2222222222222222,
             "#7201a8"
            ],
            [
             0.3333333333333333,
             "#9c179e"
            ],
            [
             0.4444444444444444,
             "#bd3786"
            ],
            [
             0.5555555555555556,
             "#d8576b"
            ],
            [
             0.6666666666666666,
             "#ed7953"
            ],
            [
             0.7777777777777778,
             "#fb9f3a"
            ],
            [
             0.8888888888888888,
             "#fdca26"
            ],
            [
             1,
             "#f0f921"
            ]
           ]
          },
          "colorway": [
           "#636efa",
           "#EF553B",
           "#00cc96",
           "#ab63fa",
           "#FFA15A",
           "#19d3f3",
           "#FF6692",
           "#B6E880",
           "#FF97FF",
           "#FECB52"
          ],
          "font": {
           "color": "#2a3f5f"
          },
          "geo": {
           "bgcolor": "white",
           "lakecolor": "white",
           "landcolor": "white",
           "showlakes": true,
           "showland": true,
           "subunitcolor": "#C8D4E3"
          },
          "hoverlabel": {
           "align": "left"
          },
          "hovermode": "closest",
          "mapbox": {
           "style": "light"
          },
          "paper_bgcolor": "white",
          "plot_bgcolor": "white",
          "polar": {
           "angularaxis": {
            "gridcolor": "#EBF0F8",
            "linecolor": "#EBF0F8",
            "ticks": ""
           },
           "bgcolor": "white",
           "radialaxis": {
            "gridcolor": "#EBF0F8",
            "linecolor": "#EBF0F8",
            "ticks": ""
           }
          },
          "scene": {
           "xaxis": {
            "backgroundcolor": "white",
            "gridcolor": "#DFE8F3",
            "gridwidth": 2,
            "linecolor": "#EBF0F8",
            "showbackground": true,
            "ticks": "",
            "zerolinecolor": "#EBF0F8"
           },
           "yaxis": {
            "backgroundcolor": "white",
            "gridcolor": "#DFE8F3",
            "gridwidth": 2,
            "linecolor": "#EBF0F8",
            "showbackground": true,
            "ticks": "",
            "zerolinecolor": "#EBF0F8"
           },
           "zaxis": {
            "backgroundcolor": "white",
            "gridcolor": "#DFE8F3",
            "gridwidth": 2,
            "linecolor": "#EBF0F8",
            "showbackground": true,
            "ticks": "",
            "zerolinecolor": "#EBF0F8"
           }
          },
          "shapedefaults": {
           "line": {
            "color": "#2a3f5f"
           }
          },
          "ternary": {
           "aaxis": {
            "gridcolor": "#DFE8F3",
            "linecolor": "#A2B1C6",
            "ticks": ""
           },
           "baxis": {
            "gridcolor": "#DFE8F3",
            "linecolor": "#A2B1C6",
            "ticks": ""
           },
           "bgcolor": "white",
           "caxis": {
            "gridcolor": "#DFE8F3",
            "linecolor": "#A2B1C6",
            "ticks": ""
           }
          },
          "title": {
           "x": 0.05
          },
          "xaxis": {
           "automargin": true,
           "gridcolor": "#EBF0F8",
           "linecolor": "#EBF0F8",
           "ticks": "",
           "title": {
            "standoff": 15
           },
           "zerolinecolor": "#EBF0F8",
           "zerolinewidth": 2
          },
          "yaxis": {
           "automargin": true,
           "gridcolor": "#EBF0F8",
           "linecolor": "#EBF0F8",
           "ticks": "",
           "title": {
            "standoff": 15
           },
           "zerolinecolor": "#EBF0F8",
           "zerolinewidth": 2
          }
         }
        },
        "title": {
         "text": "<b>질병별 공제비율이 높은 질병 순위(남/여)</b><br><sup>공제비율 = 보험자부담금 / 요양급여비용총액</sup>",
         "x": 0.5,
         "y": 0.87
        },
        "xaxis": {
         "anchor": "y",
         "domain": [
          0,
          0.45
         ]
        },
        "xaxis2": {
         "anchor": "y2",
         "domain": [
          0.55,
          1
         ]
        },
        "yaxis": {
         "anchor": "x",
         "domain": [
          0,
          1
         ],
         "range": [
          60,
          100
         ],
         "title": {
          "text": "<b>공제비율(%)</b>"
         }
        },
        "yaxis2": {
         "anchor": "x2",
         "domain": [
          0,
          1
         ],
         "range": [
          60,
          100
         ]
        }
       }
      },
      "text/html": [
       "<div>                            <div id=\"93eaeb8f-4132-403d-9b3d-6e74e17093d8\" class=\"plotly-graph-div\" style=\"height:525px; width:100%;\"></div>            <script type=\"text/javascript\">                require([\"plotly\"], function(Plotly) {                    window.PLOTLYENV=window.PLOTLYENV || {};                                    if (document.getElementById(\"93eaeb8f-4132-403d-9b3d-6e74e17093d8\")) {                    Plotly.newPlot(                        \"93eaeb8f-4132-403d-9b3d-6e74e17093d8\",                        [{\"marker\":{\"color\":\"#6495ED\"},\"name\":\"\\ub0a8\\uc790\",\"text\":[98.91687418681013,95.27533190456187,94.70935195809427,93.37913644598794,92.333257153616,92.24746096119328,91.57092213019327,91.32215943750435,91.18143563228588,91.13989146183282],\"textposition\":\"auto\",\"x\":[\"\\ubbf8\\uc219\\uc544\",\"\\ud638\\ud761\\uae30 \\uacb0\\ud575\",\"\\uacb0\\ud575\",\"\\ub9cc\\uc131 \\ubc31\\ud608\\ubcd1\",\"\\ubc31\\ud608\\ubcd1\",\"\\uae09\\uc131 \\ubc31\\ud608\\ubcd1\",\"\\uc0dd\\ud65c\\uc2b5\\uad00\\ubcd1_\\ud3d0\\uc554\",\"\\uc0dd\\ud65c\\uc2b5\\uad00\\ubcd1_\\ud6c4\\ub450\\uc554\",\"\\uc0dd\\ud65c\\uc2b5\\uad00\\ubcd1_\\uad6c\\uac15\\uc554\",\"\\uc0dd\\ud65c\\uc2b5\\uad00\\ubcd1_\\uc2dd\\ub3c4\\uc554\"],\"y\":[98.85602449721189,95.93926008558302,95.54300056450838,93.47291959127881,92.3951834222012,92.23976868551321,91.97269957202613,91.96885237092415,91.82904691268217,91.7967541096206],\"type\":\"bar\",\"xaxis\":\"x\",\"yaxis\":\"y\"},{\"marker\":{\"color\":\"#F08080\"},\"name\":\"\\uc5ec\\uc790\",\"text\":[98.91687418681013,95.27533190456187,94.70935195809427,93.37913644598794,92.333257153616,92.24746096119328,91.57092213019327,91.32215943750435,91.18143563228588,91.13989146183282],\"textposition\":\"auto\",\"x\":[\"\\ubbf8\\uc219\\uc544\",\"\\ud638\\ud761\\uae30 \\uacb0\\ud575\",\"\\uacb0\\ud575\",\"\\ub9cc\\uc131 \\ubc31\\ud608\\ubcd1\",\"\\ubc31\\ud608\\ubcd1\",\"\\uae09\\uc131 \\ubc31\\ud608\\ubcd1\",\"\\uc0dd\\ud65c\\uc2b5\\uad00\\ubcd1_\\uc2dd\\ub3c4\\uc554\",\"\\ucdcc\\uc7a5\\uc554\",\"\\uc0dd\\ud65c\\uc2b5\\uad00\\ubcd1_\\ud3d0\\uc554\",\"\\uc0dd\\ud65c\\uc2b5\\uad00\\ubcd1_\\ud6c4\\ub450\\uc554\"],\"y\":[98.91687418681013,95.27533190456187,94.70935195809427,93.37913644598794,92.333257153616,92.24746096119328,91.57092213019327,91.32215943750435,91.18143563228588,91.13989146183282],\"type\":\"bar\",\"xaxis\":\"x2\",\"yaxis\":\"y2\"}],                        {\"template\":{\"data\":{\"barpolar\":[{\"marker\":{\"line\":{\"color\":\"white\",\"width\":0.5},\"pattern\":{\"fillmode\":\"overlay\",\"size\":10,\"solidity\":0.2}},\"type\":\"barpolar\"}],\"bar\":[{\"error_x\":{\"color\":\"#2a3f5f\"},\"error_y\":{\"color\":\"#2a3f5f\"},\"marker\":{\"line\":{\"color\":\"white\",\"width\":0.5},\"pattern\":{\"fillmode\":\"overlay\",\"size\":10,\"solidity\":0.2}},\"type\":\"bar\"}],\"carpet\":[{\"aaxis\":{\"endlinecolor\":\"#2a3f5f\",\"gridcolor\":\"#C8D4E3\",\"linecolor\":\"#C8D4E3\",\"minorgridcolor\":\"#C8D4E3\",\"startlinecolor\":\"#2a3f5f\"},\"baxis\":{\"endlinecolor\":\"#2a3f5f\",\"gridcolor\":\"#C8D4E3\",\"linecolor\":\"#C8D4E3\",\"minorgridcolor\":\"#C8D4E3\",\"startlinecolor\":\"#2a3f5f\"},\"type\":\"carpet\"}],\"choropleth\":[{\"colorbar\":{\"outlinewidth\":0,\"ticks\":\"\"},\"type\":\"choropleth\"}],\"contourcarpet\":[{\"colorbar\":{\"outlinewidth\":0,\"ticks\":\"\"},\"type\":\"contourcarpet\"}],\"contour\":[{\"colorbar\":{\"outlinewidth\":0,\"ticks\":\"\"},\"colorscale\":[[0.0,\"#0d0887\"],[0.1111111111111111,\"#46039f\"],[0.2222222222222222,\"#7201a8\"],[0.3333333333333333,\"#9c179e\"],[0.4444444444444444,\"#bd3786\"],[0.5555555555555556,\"#d8576b\"],[0.6666666666666666,\"#ed7953\"],[0.7777777777777778,\"#fb9f3a\"],[0.8888888888888888,\"#fdca26\"],[1.0,\"#f0f921\"]],\"type\":\"contour\"}],\"heatmapgl\":[{\"colorbar\":{\"outlinewidth\":0,\"ticks\":\"\"},\"colorscale\":[[0.0,\"#0d0887\"],[0.1111111111111111,\"#46039f\"],[0.2222222222222222,\"#7201a8\"],[0.3333333333333333,\"#9c179e\"],[0.4444444444444444,\"#bd3786\"],[0.5555555555555556,\"#d8576b\"],[0.6666666666666666,\"#ed7953\"],[0.7777777777777778,\"#fb9f3a\"],[0.8888888888888888,\"#fdca26\"],[1.0,\"#f0f921\"]],\"type\":\"heatmapgl\"}],\"heatmap\":[{\"colorbar\":{\"outlinewidth\":0,\"ticks\":\"\"},\"colorscale\":[[0.0,\"#0d0887\"],[0.1111111111111111,\"#46039f\"],[0.2222222222222222,\"#7201a8\"],[0.3333333333333333,\"#9c179e\"],[0.4444444444444444,\"#bd3786\"],[0.5555555555555556,\"#d8576b\"],[0.6666666666666666,\"#ed7953\"],[0.7777777777777778,\"#fb9f3a\"],[0.8888888888888888,\"#fdca26\"],[1.0,\"#f0f921\"]],\"type\":\"heatmap\"}],\"histogram2dcontour\":[{\"colorbar\":{\"outlinewidth\":0,\"ticks\":\"\"},\"colorscale\":[[0.0,\"#0d0887\"],[0.1111111111111111,\"#46039f\"],[0.2222222222222222,\"#7201a8\"],[0.3333333333333333,\"#9c179e\"],[0.4444444444444444,\"#bd3786\"],[0.5555555555555556,\"#d8576b\"],[0.6666666666666666,\"#ed7953\"],[0.7777777777777778,\"#fb9f3a\"],[0.8888888888888888,\"#fdca26\"],[1.0,\"#f0f921\"]],\"type\":\"histogram2dcontour\"}],\"histogram2d\":[{\"colorbar\":{\"outlinewidth\":0,\"ticks\":\"\"},\"colorscale\":[[0.0,\"#0d0887\"],[0.1111111111111111,\"#46039f\"],[0.2222222222222222,\"#7201a8\"],[0.3333333333333333,\"#9c179e\"],[0.4444444444444444,\"#bd3786\"],[0.5555555555555556,\"#d8576b\"],[0.6666666666666666,\"#ed7953\"],[0.7777777777777778,\"#fb9f3a\"],[0.8888888888888888,\"#fdca26\"],[1.0,\"#f0f921\"]],\"type\":\"histogram2d\"}],\"histogram\":[{\"marker\":{\"pattern\":{\"fillmode\":\"overlay\",\"size\":10,\"solidity\":0.2}},\"type\":\"histogram\"}],\"mesh3d\":[{\"colorbar\":{\"outlinewidth\":0,\"ticks\":\"\"},\"type\":\"mesh3d\"}],\"parcoords\":[{\"line\":{\"colorbar\":{\"outlinewidth\":0,\"ticks\":\"\"}},\"type\":\"parcoords\"}],\"pie\":[{\"automargin\":true,\"type\":\"pie\"}],\"scatter3d\":[{\"line\":{\"colorbar\":{\"outlinewidth\":0,\"ticks\":\"\"}},\"marker\":{\"colorbar\":{\"outlinewidth\":0,\"ticks\":\"\"}},\"type\":\"scatter3d\"}],\"scattercarpet\":[{\"marker\":{\"colorbar\":{\"outlinewidth\":0,\"ticks\":\"\"}},\"type\":\"scattercarpet\"}],\"scattergeo\":[{\"marker\":{\"colorbar\":{\"outlinewidth\":0,\"ticks\":\"\"}},\"type\":\"scattergeo\"}],\"scattergl\":[{\"marker\":{\"colorbar\":{\"outlinewidth\":0,\"ticks\":\"\"}},\"type\":\"scattergl\"}],\"scattermapbox\":[{\"marker\":{\"colorbar\":{\"outlinewidth\":0,\"ticks\":\"\"}},\"type\":\"scattermapbox\"}],\"scatterpolargl\":[{\"marker\":{\"colorbar\":{\"outlinewidth\":0,\"ticks\":\"\"}},\"type\":\"scatterpolargl\"}],\"scatterpolar\":[{\"marker\":{\"colorbar\":{\"outlinewidth\":0,\"ticks\":\"\"}},\"type\":\"scatterpolar\"}],\"scatter\":[{\"fillpattern\":{\"fillmode\":\"overlay\",\"size\":10,\"solidity\":0.2},\"type\":\"scatter\"}],\"scatterternary\":[{\"marker\":{\"colorbar\":{\"outlinewidth\":0,\"ticks\":\"\"}},\"type\":\"scatterternary\"}],\"surface\":[{\"colorbar\":{\"outlinewidth\":0,\"ticks\":\"\"},\"colorscale\":[[0.0,\"#0d0887\"],[0.1111111111111111,\"#46039f\"],[0.2222222222222222,\"#7201a8\"],[0.3333333333333333,\"#9c179e\"],[0.4444444444444444,\"#bd3786\"],[0.5555555555555556,\"#d8576b\"],[0.6666666666666666,\"#ed7953\"],[0.7777777777777778,\"#fb9f3a\"],[0.8888888888888888,\"#fdca26\"],[1.0,\"#f0f921\"]],\"type\":\"surface\"}],\"table\":[{\"cells\":{\"fill\":{\"color\":\"#EBF0F8\"},\"line\":{\"color\":\"white\"}},\"header\":{\"fill\":{\"color\":\"#C8D4E3\"},\"line\":{\"color\":\"white\"}},\"type\":\"table\"}]},\"layout\":{\"annotationdefaults\":{\"arrowcolor\":\"#2a3f5f\",\"arrowhead\":0,\"arrowwidth\":1},\"autotypenumbers\":\"strict\",\"coloraxis\":{\"colorbar\":{\"outlinewidth\":0,\"ticks\":\"\"}},\"colorscale\":{\"diverging\":[[0,\"#8e0152\"],[0.1,\"#c51b7d\"],[0.2,\"#de77ae\"],[0.3,\"#f1b6da\"],[0.4,\"#fde0ef\"],[0.5,\"#f7f7f7\"],[0.6,\"#e6f5d0\"],[0.7,\"#b8e186\"],[0.8,\"#7fbc41\"],[0.9,\"#4d9221\"],[1,\"#276419\"]],\"sequential\":[[0.0,\"#0d0887\"],[0.1111111111111111,\"#46039f\"],[0.2222222222222222,\"#7201a8\"],[0.3333333333333333,\"#9c179e\"],[0.4444444444444444,\"#bd3786\"],[0.5555555555555556,\"#d8576b\"],[0.6666666666666666,\"#ed7953\"],[0.7777777777777778,\"#fb9f3a\"],[0.8888888888888888,\"#fdca26\"],[1.0,\"#f0f921\"]],\"sequentialminus\":[[0.0,\"#0d0887\"],[0.1111111111111111,\"#46039f\"],[0.2222222222222222,\"#7201a8\"],[0.3333333333333333,\"#9c179e\"],[0.4444444444444444,\"#bd3786\"],[0.5555555555555556,\"#d8576b\"],[0.6666666666666666,\"#ed7953\"],[0.7777777777777778,\"#fb9f3a\"],[0.8888888888888888,\"#fdca26\"],[1.0,\"#f0f921\"]]},\"colorway\":[\"#636efa\",\"#EF553B\",\"#00cc96\",\"#ab63fa\",\"#FFA15A\",\"#19d3f3\",\"#FF6692\",\"#B6E880\",\"#FF97FF\",\"#FECB52\"],\"font\":{\"color\":\"#2a3f5f\"},\"geo\":{\"bgcolor\":\"white\",\"lakecolor\":\"white\",\"landcolor\":\"white\",\"showlakes\":true,\"showland\":true,\"subunitcolor\":\"#C8D4E3\"},\"hoverlabel\":{\"align\":\"left\"},\"hovermode\":\"closest\",\"mapbox\":{\"style\":\"light\"},\"paper_bgcolor\":\"white\",\"plot_bgcolor\":\"white\",\"polar\":{\"angularaxis\":{\"gridcolor\":\"#EBF0F8\",\"linecolor\":\"#EBF0F8\",\"ticks\":\"\"},\"bgcolor\":\"white\",\"radialaxis\":{\"gridcolor\":\"#EBF0F8\",\"linecolor\":\"#EBF0F8\",\"ticks\":\"\"}},\"scene\":{\"xaxis\":{\"backgroundcolor\":\"white\",\"gridcolor\":\"#DFE8F3\",\"gridwidth\":2,\"linecolor\":\"#EBF0F8\",\"showbackground\":true,\"ticks\":\"\",\"zerolinecolor\":\"#EBF0F8\"},\"yaxis\":{\"backgroundcolor\":\"white\",\"gridcolor\":\"#DFE8F3\",\"gridwidth\":2,\"linecolor\":\"#EBF0F8\",\"showbackground\":true,\"ticks\":\"\",\"zerolinecolor\":\"#EBF0F8\"},\"zaxis\":{\"backgroundcolor\":\"white\",\"gridcolor\":\"#DFE8F3\",\"gridwidth\":2,\"linecolor\":\"#EBF0F8\",\"showbackground\":true,\"ticks\":\"\",\"zerolinecolor\":\"#EBF0F8\"}},\"shapedefaults\":{\"line\":{\"color\":\"#2a3f5f\"}},\"ternary\":{\"aaxis\":{\"gridcolor\":\"#DFE8F3\",\"linecolor\":\"#A2B1C6\",\"ticks\":\"\"},\"baxis\":{\"gridcolor\":\"#DFE8F3\",\"linecolor\":\"#A2B1C6\",\"ticks\":\"\"},\"bgcolor\":\"white\",\"caxis\":{\"gridcolor\":\"#DFE8F3\",\"linecolor\":\"#A2B1C6\",\"ticks\":\"\"}},\"title\":{\"x\":0.05},\"xaxis\":{\"automargin\":true,\"gridcolor\":\"#EBF0F8\",\"linecolor\":\"#EBF0F8\",\"ticks\":\"\",\"title\":{\"standoff\":15},\"zerolinecolor\":\"#EBF0F8\",\"zerolinewidth\":2},\"yaxis\":{\"automargin\":true,\"gridcolor\":\"#EBF0F8\",\"linecolor\":\"#EBF0F8\",\"ticks\":\"\",\"title\":{\"standoff\":15},\"zerolinecolor\":\"#EBF0F8\",\"zerolinewidth\":2}}},\"xaxis\":{\"anchor\":\"y\",\"domain\":[0.0,0.45]},\"yaxis\":{\"anchor\":\"x\",\"domain\":[0.0,1.0],\"range\":[60,100],\"title\":{\"text\":\"<b>\\uacf5\\uc81c\\ube44\\uc728(%)</b>\"}},\"xaxis2\":{\"anchor\":\"y2\",\"domain\":[0.55,1.0]},\"yaxis2\":{\"anchor\":\"x2\",\"domain\":[0.0,1.0],\"range\":[60,100]},\"annotations\":[{\"font\":{\"size\":16},\"showarrow\":false,\"text\":\"\\ub0a8\\uc131\",\"x\":0.225,\"xanchor\":\"center\",\"xref\":\"paper\",\"y\":1.0,\"yanchor\":\"bottom\",\"yref\":\"paper\"},{\"font\":{\"size\":16},\"showarrow\":false,\"text\":\"\\uc5ec\\uc131\",\"x\":0.775,\"xanchor\":\"center\",\"xref\":\"paper\",\"y\":1.0,\"yanchor\":\"bottom\",\"yref\":\"paper\"}],\"title\":{\"text\":\"<b>\\uc9c8\\ubcd1\\ubcc4 \\uacf5\\uc81c\\ube44\\uc728\\uc774 \\ub192\\uc740 \\uc9c8\\ubcd1 \\uc21c\\uc704(\\ub0a8/\\uc5ec)</b><br><sup>\\uacf5\\uc81c\\ube44\\uc728 = \\ubcf4\\ud5d8\\uc790\\ubd80\\ub2f4\\uae08 / \\uc694\\uc591\\uae09\\uc5ec\\ube44\\uc6a9\\ucd1d\\uc561</sup>\",\"x\":0.5,\"y\":0.87}},                        {\"responsive\": true}                    ).then(function(){\n",
       "                            \n",
       "var gd = document.getElementById('93eaeb8f-4132-403d-9b3d-6e74e17093d8');\n",
       "var x = new MutationObserver(function (mutations, observer) {{\n",
       "        var display = window.getComputedStyle(gd).display;\n",
       "        if (!display || display === 'none') {{\n",
       "            console.log([gd, 'removed!']);\n",
       "            Plotly.purge(gd);\n",
       "            observer.disconnect();\n",
       "        }}\n",
       "}});\n",
       "\n",
       "// Listen for the removal of the full notebook cells\n",
       "var notebookContainer = gd.closest('#notebook-container');\n",
       "if (notebookContainer) {{\n",
       "    x.observe(notebookContainer, {childList: true});\n",
       "}}\n",
       "\n",
       "// Listen for the clearing of the current output cell\n",
       "var outputEl = gd.closest('.output');\n",
       "if (outputEl) {{\n",
       "    x.observe(outputEl, {childList: true});\n",
       "}}\n",
       "\n",
       "                        })                };                });            </script>        </div>"
      ]
     },
     "metadata": {},
     "output_type": "display_data"
    }
   ],
   "source": [
    "# 남/여 top10\n",
    "from plotly.subplots import make_subplots\n",
    "fig5 = go.Figure()\n",
    "\n",
    "fig5 = make_subplots(rows=1, cols=2,\n",
    "                    subplot_titles=(\"남성\", \"여성\"),\n",
    "                    column_widths=[0.3, 0.3]) # 각 Subplot 별 subtitle 넣기)\n",
    "\n",
    "fig5.add_trace(\n",
    "    go.Bar(\n",
    "        x = Mtall['항목'], y = Mtall['공제비율'],\n",
    "        name = '남자',\n",
    "        text = Ftall['공제비율'],\n",
    "        textposition='auto',\n",
    "        marker = {'color':'#6495ED'}      \n",
    "    ), row=1, col=1\n",
    ")\n",
    "\n",
    "fig5.add_trace(\n",
    "    go.Bar(\n",
    "        x = Ftall['항목'], y = Ftall['공제비율'],\n",
    "        name = '여자',\n",
    "        text = Ftall['공제비율'],\n",
    "        textposition='auto',\n",
    "        marker = {'color':'#F08080'}      \n",
    "    ), row=1, col=2\n",
    ")\n",
    "\n",
    "fig5.update_yaxes(range=[60, 100])\n",
    "fig5.update_layout(title=dict(text = '<b>질병별 공제비율이 높은 질병 순위(남/여)</b><br><sup>공제비율 = 보험자부담금 / 요양급여비용총액</sup>', x=0.5, y=0.87),\n",
    "    yaxis_title=dict(text = \"<b>공제비율(%)</b>\"))\n",
    "fig5.update_layout(template='plotly_white')\n",
    "\n",
    "fig5.show()"
   ]
  },
  {
   "cell_type": "code",
   "execution_count": 136,
   "metadata": {},
   "outputs": [
    {
     "data": {
      "application/vnd.plotly.v1+json": {
       "config": {
        "plotlyServerURL": "https://plotly.com"
       },
       "data": [
        {
         "marker": {
          "color": "#6495ED"
         },
         "name": "남자",
         "text": [
          51.611823900117145,
          53.31273635263233,
          55.066892969965025,
          55.18213895080761,
          55.763503280216526,
          55.7959084538198,
          56.17097397091859,
          57.79481030079626,
          59.07177028445934,
          59.576800709023004
         ],
         "textposition": "auto",
         "type": "bar",
         "x": [
          "성조숙증",
          "피부전구암",
          "C형간염",
          "갑상선기능항진증",
          "B형 간염",
          "흡연(니코틴중독)",
          "갑상선장애",
          "갑상선기능저하증",
          "다뇨/빈뇨/야뇨 ",
          "야뇨증 "
         ],
         "xaxis": "x",
         "y": [
          51.611823900117145,
          53.31273635263233,
          55.066892969965025,
          55.18213895080761,
          55.763503280216526,
          55.7959084538198,
          56.17097397091859,
          57.79481030079626,
          59.07177028445934,
          59.576800709023004
         ],
         "yaxis": "y"
        },
        {
         "marker": {
          "color": "#F08080"
         },
         "name": "여자",
         "text": [
          10.032786885245901,
          51.59994341252658,
          52.5437144939958,
          53.60215562789817,
          56.31903017364719,
          56.47483740430831,
          58.868115992277964,
          59.20299114424787,
          59.826715819735796,
          60.41574770060413
         ],
         "textposition": "auto",
         "type": "bar",
         "x": [
          "전립선증식증",
          "성조숙증",
          "피부전구암",
          "C형간염",
          "B형 간염",
          "갑상선기능항진증",
          "갑상선장애",
          "다뇨/빈뇨/야뇨 ",
          "야뇨증 ",
          "다낭성 난소증후군"
         ],
         "xaxis": "x2",
         "y": [
          10.032786885245901,
          51.59994341252658,
          52.5437144939958,
          53.60215562789817,
          56.31903017364719,
          56.47483740430831,
          58.868115992277964,
          59.20299114424787,
          59.826715819735796,
          60.41574770060413
         ],
         "yaxis": "y2"
        }
       ],
       "layout": {
        "annotations": [
         {
          "font": {
           "size": 16
          },
          "showarrow": false,
          "text": "남성",
          "x": 0.225,
          "xanchor": "center",
          "xref": "paper",
          "y": 1,
          "yanchor": "bottom",
          "yref": "paper"
         },
         {
          "font": {
           "size": 16
          },
          "showarrow": false,
          "text": "여성",
          "x": 0.775,
          "xanchor": "center",
          "xref": "paper",
          "y": 1,
          "yanchor": "bottom",
          "yref": "paper"
         }
        ],
        "template": {
         "data": {
          "bar": [
           {
            "error_x": {
             "color": "#2a3f5f"
            },
            "error_y": {
             "color": "#2a3f5f"
            },
            "marker": {
             "line": {
              "color": "white",
              "width": 0.5
             },
             "pattern": {
              "fillmode": "overlay",
              "size": 10,
              "solidity": 0.2
             }
            },
            "type": "bar"
           }
          ],
          "barpolar": [
           {
            "marker": {
             "line": {
              "color": "white",
              "width": 0.5
             },
             "pattern": {
              "fillmode": "overlay",
              "size": 10,
              "solidity": 0.2
             }
            },
            "type": "barpolar"
           }
          ],
          "carpet": [
           {
            "aaxis": {
             "endlinecolor": "#2a3f5f",
             "gridcolor": "#C8D4E3",
             "linecolor": "#C8D4E3",
             "minorgridcolor": "#C8D4E3",
             "startlinecolor": "#2a3f5f"
            },
            "baxis": {
             "endlinecolor": "#2a3f5f",
             "gridcolor": "#C8D4E3",
             "linecolor": "#C8D4E3",
             "minorgridcolor": "#C8D4E3",
             "startlinecolor": "#2a3f5f"
            },
            "type": "carpet"
           }
          ],
          "choropleth": [
           {
            "colorbar": {
             "outlinewidth": 0,
             "ticks": ""
            },
            "type": "choropleth"
           }
          ],
          "contour": [
           {
            "colorbar": {
             "outlinewidth": 0,
             "ticks": ""
            },
            "colorscale": [
             [
              0,
              "#0d0887"
             ],
             [
              0.1111111111111111,
              "#46039f"
             ],
             [
              0.2222222222222222,
              "#7201a8"
             ],
             [
              0.3333333333333333,
              "#9c179e"
             ],
             [
              0.4444444444444444,
              "#bd3786"
             ],
             [
              0.5555555555555556,
              "#d8576b"
             ],
             [
              0.6666666666666666,
              "#ed7953"
             ],
             [
              0.7777777777777778,
              "#fb9f3a"
             ],
             [
              0.8888888888888888,
              "#fdca26"
             ],
             [
              1,
              "#f0f921"
             ]
            ],
            "type": "contour"
           }
          ],
          "contourcarpet": [
           {
            "colorbar": {
             "outlinewidth": 0,
             "ticks": ""
            },
            "type": "contourcarpet"
           }
          ],
          "heatmap": [
           {
            "colorbar": {
             "outlinewidth": 0,
             "ticks": ""
            },
            "colorscale": [
             [
              0,
              "#0d0887"
             ],
             [
              0.1111111111111111,
              "#46039f"
             ],
             [
              0.2222222222222222,
              "#7201a8"
             ],
             [
              0.3333333333333333,
              "#9c179e"
             ],
             [
              0.4444444444444444,
              "#bd3786"
             ],
             [
              0.5555555555555556,
              "#d8576b"
             ],
             [
              0.6666666666666666,
              "#ed7953"
             ],
             [
              0.7777777777777778,
              "#fb9f3a"
             ],
             [
              0.8888888888888888,
              "#fdca26"
             ],
             [
              1,
              "#f0f921"
             ]
            ],
            "type": "heatmap"
           }
          ],
          "heatmapgl": [
           {
            "colorbar": {
             "outlinewidth": 0,
             "ticks": ""
            },
            "colorscale": [
             [
              0,
              "#0d0887"
             ],
             [
              0.1111111111111111,
              "#46039f"
             ],
             [
              0.2222222222222222,
              "#7201a8"
             ],
             [
              0.3333333333333333,
              "#9c179e"
             ],
             [
              0.4444444444444444,
              "#bd3786"
             ],
             [
              0.5555555555555556,
              "#d8576b"
             ],
             [
              0.6666666666666666,
              "#ed7953"
             ],
             [
              0.7777777777777778,
              "#fb9f3a"
             ],
             [
              0.8888888888888888,
              "#fdca26"
             ],
             [
              1,
              "#f0f921"
             ]
            ],
            "type": "heatmapgl"
           }
          ],
          "histogram": [
           {
            "marker": {
             "pattern": {
              "fillmode": "overlay",
              "size": 10,
              "solidity": 0.2
             }
            },
            "type": "histogram"
           }
          ],
          "histogram2d": [
           {
            "colorbar": {
             "outlinewidth": 0,
             "ticks": ""
            },
            "colorscale": [
             [
              0,
              "#0d0887"
             ],
             [
              0.1111111111111111,
              "#46039f"
             ],
             [
              0.2222222222222222,
              "#7201a8"
             ],
             [
              0.3333333333333333,
              "#9c179e"
             ],
             [
              0.4444444444444444,
              "#bd3786"
             ],
             [
              0.5555555555555556,
              "#d8576b"
             ],
             [
              0.6666666666666666,
              "#ed7953"
             ],
             [
              0.7777777777777778,
              "#fb9f3a"
             ],
             [
              0.8888888888888888,
              "#fdca26"
             ],
             [
              1,
              "#f0f921"
             ]
            ],
            "type": "histogram2d"
           }
          ],
          "histogram2dcontour": [
           {
            "colorbar": {
             "outlinewidth": 0,
             "ticks": ""
            },
            "colorscale": [
             [
              0,
              "#0d0887"
             ],
             [
              0.1111111111111111,
              "#46039f"
             ],
             [
              0.2222222222222222,
              "#7201a8"
             ],
             [
              0.3333333333333333,
              "#9c179e"
             ],
             [
              0.4444444444444444,
              "#bd3786"
             ],
             [
              0.5555555555555556,
              "#d8576b"
             ],
             [
              0.6666666666666666,
              "#ed7953"
             ],
             [
              0.7777777777777778,
              "#fb9f3a"
             ],
             [
              0.8888888888888888,
              "#fdca26"
             ],
             [
              1,
              "#f0f921"
             ]
            ],
            "type": "histogram2dcontour"
           }
          ],
          "mesh3d": [
           {
            "colorbar": {
             "outlinewidth": 0,
             "ticks": ""
            },
            "type": "mesh3d"
           }
          ],
          "parcoords": [
           {
            "line": {
             "colorbar": {
              "outlinewidth": 0,
              "ticks": ""
             }
            },
            "type": "parcoords"
           }
          ],
          "pie": [
           {
            "automargin": true,
            "type": "pie"
           }
          ],
          "scatter": [
           {
            "fillpattern": {
             "fillmode": "overlay",
             "size": 10,
             "solidity": 0.2
            },
            "type": "scatter"
           }
          ],
          "scatter3d": [
           {
            "line": {
             "colorbar": {
              "outlinewidth": 0,
              "ticks": ""
             }
            },
            "marker": {
             "colorbar": {
              "outlinewidth": 0,
              "ticks": ""
             }
            },
            "type": "scatter3d"
           }
          ],
          "scattercarpet": [
           {
            "marker": {
             "colorbar": {
              "outlinewidth": 0,
              "ticks": ""
             }
            },
            "type": "scattercarpet"
           }
          ],
          "scattergeo": [
           {
            "marker": {
             "colorbar": {
              "outlinewidth": 0,
              "ticks": ""
             }
            },
            "type": "scattergeo"
           }
          ],
          "scattergl": [
           {
            "marker": {
             "colorbar": {
              "outlinewidth": 0,
              "ticks": ""
             }
            },
            "type": "scattergl"
           }
          ],
          "scattermapbox": [
           {
            "marker": {
             "colorbar": {
              "outlinewidth": 0,
              "ticks": ""
             }
            },
            "type": "scattermapbox"
           }
          ],
          "scatterpolar": [
           {
            "marker": {
             "colorbar": {
              "outlinewidth": 0,
              "ticks": ""
             }
            },
            "type": "scatterpolar"
           }
          ],
          "scatterpolargl": [
           {
            "marker": {
             "colorbar": {
              "outlinewidth": 0,
              "ticks": ""
             }
            },
            "type": "scatterpolargl"
           }
          ],
          "scatterternary": [
           {
            "marker": {
             "colorbar": {
              "outlinewidth": 0,
              "ticks": ""
             }
            },
            "type": "scatterternary"
           }
          ],
          "surface": [
           {
            "colorbar": {
             "outlinewidth": 0,
             "ticks": ""
            },
            "colorscale": [
             [
              0,
              "#0d0887"
             ],
             [
              0.1111111111111111,
              "#46039f"
             ],
             [
              0.2222222222222222,
              "#7201a8"
             ],
             [
              0.3333333333333333,
              "#9c179e"
             ],
             [
              0.4444444444444444,
              "#bd3786"
             ],
             [
              0.5555555555555556,
              "#d8576b"
             ],
             [
              0.6666666666666666,
              "#ed7953"
             ],
             [
              0.7777777777777778,
              "#fb9f3a"
             ],
             [
              0.8888888888888888,
              "#fdca26"
             ],
             [
              1,
              "#f0f921"
             ]
            ],
            "type": "surface"
           }
          ],
          "table": [
           {
            "cells": {
             "fill": {
              "color": "#EBF0F8"
             },
             "line": {
              "color": "white"
             }
            },
            "header": {
             "fill": {
              "color": "#C8D4E3"
             },
             "line": {
              "color": "white"
             }
            },
            "type": "table"
           }
          ]
         },
         "layout": {
          "annotationdefaults": {
           "arrowcolor": "#2a3f5f",
           "arrowhead": 0,
           "arrowwidth": 1
          },
          "autotypenumbers": "strict",
          "coloraxis": {
           "colorbar": {
            "outlinewidth": 0,
            "ticks": ""
           }
          },
          "colorscale": {
           "diverging": [
            [
             0,
             "#8e0152"
            ],
            [
             0.1,
             "#c51b7d"
            ],
            [
             0.2,
             "#de77ae"
            ],
            [
             0.3,
             "#f1b6da"
            ],
            [
             0.4,
             "#fde0ef"
            ],
            [
             0.5,
             "#f7f7f7"
            ],
            [
             0.6,
             "#e6f5d0"
            ],
            [
             0.7,
             "#b8e186"
            ],
            [
             0.8,
             "#7fbc41"
            ],
            [
             0.9,
             "#4d9221"
            ],
            [
             1,
             "#276419"
            ]
           ],
           "sequential": [
            [
             0,
             "#0d0887"
            ],
            [
             0.1111111111111111,
             "#46039f"
            ],
            [
             0.2222222222222222,
             "#7201a8"
            ],
            [
             0.3333333333333333,
             "#9c179e"
            ],
            [
             0.4444444444444444,
             "#bd3786"
            ],
            [
             0.5555555555555556,
             "#d8576b"
            ],
            [
             0.6666666666666666,
             "#ed7953"
            ],
            [
             0.7777777777777778,
             "#fb9f3a"
            ],
            [
             0.8888888888888888,
             "#fdca26"
            ],
            [
             1,
             "#f0f921"
            ]
           ],
           "sequentialminus": [
            [
             0,
             "#0d0887"
            ],
            [
             0.1111111111111111,
             "#46039f"
            ],
            [
             0.2222222222222222,
             "#7201a8"
            ],
            [
             0.3333333333333333,
             "#9c179e"
            ],
            [
             0.4444444444444444,
             "#bd3786"
            ],
            [
             0.5555555555555556,
             "#d8576b"
            ],
            [
             0.6666666666666666,
             "#ed7953"
            ],
            [
             0.7777777777777778,
             "#fb9f3a"
            ],
            [
             0.8888888888888888,
             "#fdca26"
            ],
            [
             1,
             "#f0f921"
            ]
           ]
          },
          "colorway": [
           "#636efa",
           "#EF553B",
           "#00cc96",
           "#ab63fa",
           "#FFA15A",
           "#19d3f3",
           "#FF6692",
           "#B6E880",
           "#FF97FF",
           "#FECB52"
          ],
          "font": {
           "color": "#2a3f5f"
          },
          "geo": {
           "bgcolor": "white",
           "lakecolor": "white",
           "landcolor": "white",
           "showlakes": true,
           "showland": true,
           "subunitcolor": "#C8D4E3"
          },
          "hoverlabel": {
           "align": "left"
          },
          "hovermode": "closest",
          "mapbox": {
           "style": "light"
          },
          "paper_bgcolor": "white",
          "plot_bgcolor": "white",
          "polar": {
           "angularaxis": {
            "gridcolor": "#EBF0F8",
            "linecolor": "#EBF0F8",
            "ticks": ""
           },
           "bgcolor": "white",
           "radialaxis": {
            "gridcolor": "#EBF0F8",
            "linecolor": "#EBF0F8",
            "ticks": ""
           }
          },
          "scene": {
           "xaxis": {
            "backgroundcolor": "white",
            "gridcolor": "#DFE8F3",
            "gridwidth": 2,
            "linecolor": "#EBF0F8",
            "showbackground": true,
            "ticks": "",
            "zerolinecolor": "#EBF0F8"
           },
           "yaxis": {
            "backgroundcolor": "white",
            "gridcolor": "#DFE8F3",
            "gridwidth": 2,
            "linecolor": "#EBF0F8",
            "showbackground": true,
            "ticks": "",
            "zerolinecolor": "#EBF0F8"
           },
           "zaxis": {
            "backgroundcolor": "white",
            "gridcolor": "#DFE8F3",
            "gridwidth": 2,
            "linecolor": "#EBF0F8",
            "showbackground": true,
            "ticks": "",
            "zerolinecolor": "#EBF0F8"
           }
          },
          "shapedefaults": {
           "line": {
            "color": "#2a3f5f"
           }
          },
          "ternary": {
           "aaxis": {
            "gridcolor": "#DFE8F3",
            "linecolor": "#A2B1C6",
            "ticks": ""
           },
           "baxis": {
            "gridcolor": "#DFE8F3",
            "linecolor": "#A2B1C6",
            "ticks": ""
           },
           "bgcolor": "white",
           "caxis": {
            "gridcolor": "#DFE8F3",
            "linecolor": "#A2B1C6",
            "ticks": ""
           }
          },
          "title": {
           "x": 0.05
          },
          "xaxis": {
           "automargin": true,
           "gridcolor": "#EBF0F8",
           "linecolor": "#EBF0F8",
           "ticks": "",
           "title": {
            "standoff": 15
           },
           "zerolinecolor": "#EBF0F8",
           "zerolinewidth": 2
          },
          "yaxis": {
           "automargin": true,
           "gridcolor": "#EBF0F8",
           "linecolor": "#EBF0F8",
           "ticks": "",
           "title": {
            "standoff": 15
           },
           "zerolinecolor": "#EBF0F8",
           "zerolinewidth": 2
          }
         }
        },
        "title": {
         "text": "<b>질병별 공제비율이 낮은 질병 순위(남/여)</b><br><sup>공제비율 = 보험자부담금 / 요양급여비용총액</sup>",
         "x": 0.5,
         "y": 0.87
        },
        "xaxis": {
         "anchor": "y",
         "domain": [
          0,
          0.45
         ]
        },
        "xaxis2": {
         "anchor": "y2",
         "domain": [
          0.55,
          1
         ]
        },
        "yaxis": {
         "anchor": "x",
         "domain": [
          0,
          1
         ],
         "range": [
          30,
          70
         ],
         "title": {
          "text": "<b>공제비율(%)</b>"
         }
        },
        "yaxis2": {
         "anchor": "x2",
         "domain": [
          0,
          1
         ],
         "range": [
          30,
          70
         ]
        }
       }
      },
      "text/html": [
       "<div>                            <div id=\"5c5b1510-3fac-47ce-af4e-806739d8f992\" class=\"plotly-graph-div\" style=\"height:525px; width:100%;\"></div>            <script type=\"text/javascript\">                require([\"plotly\"], function(Plotly) {                    window.PLOTLYENV=window.PLOTLYENV || {};                                    if (document.getElementById(\"5c5b1510-3fac-47ce-af4e-806739d8f992\")) {                    Plotly.newPlot(                        \"5c5b1510-3fac-47ce-af4e-806739d8f992\",                        [{\"marker\":{\"color\":\"#6495ED\"},\"name\":\"\\ub0a8\\uc790\",\"text\":[51.611823900117145,53.31273635263233,55.066892969965025,55.18213895080761,55.763503280216526,55.7959084538198,56.17097397091859,57.79481030079626,59.07177028445934,59.576800709023004],\"textposition\":\"auto\",\"x\":[\"\\uc131\\uc870\\uc219\\uc99d\",\"\\ud53c\\ubd80\\uc804\\uad6c\\uc554\",\"C\\ud615\\uac04\\uc5fc\",\"\\uac11\\uc0c1\\uc120\\uae30\\ub2a5\\ud56d\\uc9c4\\uc99d\",\"B\\ud615 \\uac04\\uc5fc\",\"\\ud761\\uc5f0(\\ub2c8\\ucf54\\ud2f4\\uc911\\ub3c5)\",\"\\uac11\\uc0c1\\uc120\\uc7a5\\uc560\",\"\\uac11\\uc0c1\\uc120\\uae30\\ub2a5\\uc800\\ud558\\uc99d\",\"\\ub2e4\\ub1e8/\\ube48\\ub1e8/\\uc57c\\ub1e8 \",\"\\uc57c\\ub1e8\\uc99d \"],\"y\":[51.611823900117145,53.31273635263233,55.066892969965025,55.18213895080761,55.763503280216526,55.7959084538198,56.17097397091859,57.79481030079626,59.07177028445934,59.576800709023004],\"type\":\"bar\",\"xaxis\":\"x\",\"yaxis\":\"y\"},{\"marker\":{\"color\":\"#F08080\"},\"name\":\"\\uc5ec\\uc790\",\"text\":[10.032786885245901,51.59994341252658,52.5437144939958,53.60215562789817,56.31903017364719,56.47483740430831,58.868115992277964,59.20299114424787,59.826715819735796,60.41574770060413],\"textposition\":\"auto\",\"x\":[\"\\uc804\\ub9bd\\uc120\\uc99d\\uc2dd\\uc99d\",\"\\uc131\\uc870\\uc219\\uc99d\",\"\\ud53c\\ubd80\\uc804\\uad6c\\uc554\",\"C\\ud615\\uac04\\uc5fc\",\"B\\ud615 \\uac04\\uc5fc\",\"\\uac11\\uc0c1\\uc120\\uae30\\ub2a5\\ud56d\\uc9c4\\uc99d\",\"\\uac11\\uc0c1\\uc120\\uc7a5\\uc560\",\"\\ub2e4\\ub1e8/\\ube48\\ub1e8/\\uc57c\\ub1e8 \",\"\\uc57c\\ub1e8\\uc99d \",\"\\ub2e4\\ub0ad\\uc131 \\ub09c\\uc18c\\uc99d\\ud6c4\\uad70\"],\"y\":[10.032786885245901,51.59994341252658,52.5437144939958,53.60215562789817,56.31903017364719,56.47483740430831,58.868115992277964,59.20299114424787,59.826715819735796,60.41574770060413],\"type\":\"bar\",\"xaxis\":\"x2\",\"yaxis\":\"y2\"}],                        {\"template\":{\"data\":{\"barpolar\":[{\"marker\":{\"line\":{\"color\":\"white\",\"width\":0.5},\"pattern\":{\"fillmode\":\"overlay\",\"size\":10,\"solidity\":0.2}},\"type\":\"barpolar\"}],\"bar\":[{\"error_x\":{\"color\":\"#2a3f5f\"},\"error_y\":{\"color\":\"#2a3f5f\"},\"marker\":{\"line\":{\"color\":\"white\",\"width\":0.5},\"pattern\":{\"fillmode\":\"overlay\",\"size\":10,\"solidity\":0.2}},\"type\":\"bar\"}],\"carpet\":[{\"aaxis\":{\"endlinecolor\":\"#2a3f5f\",\"gridcolor\":\"#C8D4E3\",\"linecolor\":\"#C8D4E3\",\"minorgridcolor\":\"#C8D4E3\",\"startlinecolor\":\"#2a3f5f\"},\"baxis\":{\"endlinecolor\":\"#2a3f5f\",\"gridcolor\":\"#C8D4E3\",\"linecolor\":\"#C8D4E3\",\"minorgridcolor\":\"#C8D4E3\",\"startlinecolor\":\"#2a3f5f\"},\"type\":\"carpet\"}],\"choropleth\":[{\"colorbar\":{\"outlinewidth\":0,\"ticks\":\"\"},\"type\":\"choropleth\"}],\"contourcarpet\":[{\"colorbar\":{\"outlinewidth\":0,\"ticks\":\"\"},\"type\":\"contourcarpet\"}],\"contour\":[{\"colorbar\":{\"outlinewidth\":0,\"ticks\":\"\"},\"colorscale\":[[0.0,\"#0d0887\"],[0.1111111111111111,\"#46039f\"],[0.2222222222222222,\"#7201a8\"],[0.3333333333333333,\"#9c179e\"],[0.4444444444444444,\"#bd3786\"],[0.5555555555555556,\"#d8576b\"],[0.6666666666666666,\"#ed7953\"],[0.7777777777777778,\"#fb9f3a\"],[0.8888888888888888,\"#fdca26\"],[1.0,\"#f0f921\"]],\"type\":\"contour\"}],\"heatmapgl\":[{\"colorbar\":{\"outlinewidth\":0,\"ticks\":\"\"},\"colorscale\":[[0.0,\"#0d0887\"],[0.1111111111111111,\"#46039f\"],[0.2222222222222222,\"#7201a8\"],[0.3333333333333333,\"#9c179e\"],[0.4444444444444444,\"#bd3786\"],[0.5555555555555556,\"#d8576b\"],[0.6666666666666666,\"#ed7953\"],[0.7777777777777778,\"#fb9f3a\"],[0.8888888888888888,\"#fdca26\"],[1.0,\"#f0f921\"]],\"type\":\"heatmapgl\"}],\"heatmap\":[{\"colorbar\":{\"outlinewidth\":0,\"ticks\":\"\"},\"colorscale\":[[0.0,\"#0d0887\"],[0.1111111111111111,\"#46039f\"],[0.2222222222222222,\"#7201a8\"],[0.3333333333333333,\"#9c179e\"],[0.4444444444444444,\"#bd3786\"],[0.5555555555555556,\"#d8576b\"],[0.6666666666666666,\"#ed7953\"],[0.7777777777777778,\"#fb9f3a\"],[0.8888888888888888,\"#fdca26\"],[1.0,\"#f0f921\"]],\"type\":\"heatmap\"}],\"histogram2dcontour\":[{\"colorbar\":{\"outlinewidth\":0,\"ticks\":\"\"},\"colorscale\":[[0.0,\"#0d0887\"],[0.1111111111111111,\"#46039f\"],[0.2222222222222222,\"#7201a8\"],[0.3333333333333333,\"#9c179e\"],[0.4444444444444444,\"#bd3786\"],[0.5555555555555556,\"#d8576b\"],[0.6666666666666666,\"#ed7953\"],[0.7777777777777778,\"#fb9f3a\"],[0.8888888888888888,\"#fdca26\"],[1.0,\"#f0f921\"]],\"type\":\"histogram2dcontour\"}],\"histogram2d\":[{\"colorbar\":{\"outlinewidth\":0,\"ticks\":\"\"},\"colorscale\":[[0.0,\"#0d0887\"],[0.1111111111111111,\"#46039f\"],[0.2222222222222222,\"#7201a8\"],[0.3333333333333333,\"#9c179e\"],[0.4444444444444444,\"#bd3786\"],[0.5555555555555556,\"#d8576b\"],[0.6666666666666666,\"#ed7953\"],[0.7777777777777778,\"#fb9f3a\"],[0.8888888888888888,\"#fdca26\"],[1.0,\"#f0f921\"]],\"type\":\"histogram2d\"}],\"histogram\":[{\"marker\":{\"pattern\":{\"fillmode\":\"overlay\",\"size\":10,\"solidity\":0.2}},\"type\":\"histogram\"}],\"mesh3d\":[{\"colorbar\":{\"outlinewidth\":0,\"ticks\":\"\"},\"type\":\"mesh3d\"}],\"parcoords\":[{\"line\":{\"colorbar\":{\"outlinewidth\":0,\"ticks\":\"\"}},\"type\":\"parcoords\"}],\"pie\":[{\"automargin\":true,\"type\":\"pie\"}],\"scatter3d\":[{\"line\":{\"colorbar\":{\"outlinewidth\":0,\"ticks\":\"\"}},\"marker\":{\"colorbar\":{\"outlinewidth\":0,\"ticks\":\"\"}},\"type\":\"scatter3d\"}],\"scattercarpet\":[{\"marker\":{\"colorbar\":{\"outlinewidth\":0,\"ticks\":\"\"}},\"type\":\"scattercarpet\"}],\"scattergeo\":[{\"marker\":{\"colorbar\":{\"outlinewidth\":0,\"ticks\":\"\"}},\"type\":\"scattergeo\"}],\"scattergl\":[{\"marker\":{\"colorbar\":{\"outlinewidth\":0,\"ticks\":\"\"}},\"type\":\"scattergl\"}],\"scattermapbox\":[{\"marker\":{\"colorbar\":{\"outlinewidth\":0,\"ticks\":\"\"}},\"type\":\"scattermapbox\"}],\"scatterpolargl\":[{\"marker\":{\"colorbar\":{\"outlinewidth\":0,\"ticks\":\"\"}},\"type\":\"scatterpolargl\"}],\"scatterpolar\":[{\"marker\":{\"colorbar\":{\"outlinewidth\":0,\"ticks\":\"\"}},\"type\":\"scatterpolar\"}],\"scatter\":[{\"fillpattern\":{\"fillmode\":\"overlay\",\"size\":10,\"solidity\":0.2},\"type\":\"scatter\"}],\"scatterternary\":[{\"marker\":{\"colorbar\":{\"outlinewidth\":0,\"ticks\":\"\"}},\"type\":\"scatterternary\"}],\"surface\":[{\"colorbar\":{\"outlinewidth\":0,\"ticks\":\"\"},\"colorscale\":[[0.0,\"#0d0887\"],[0.1111111111111111,\"#46039f\"],[0.2222222222222222,\"#7201a8\"],[0.3333333333333333,\"#9c179e\"],[0.4444444444444444,\"#bd3786\"],[0.5555555555555556,\"#d8576b\"],[0.6666666666666666,\"#ed7953\"],[0.7777777777777778,\"#fb9f3a\"],[0.8888888888888888,\"#fdca26\"],[1.0,\"#f0f921\"]],\"type\":\"surface\"}],\"table\":[{\"cells\":{\"fill\":{\"color\":\"#EBF0F8\"},\"line\":{\"color\":\"white\"}},\"header\":{\"fill\":{\"color\":\"#C8D4E3\"},\"line\":{\"color\":\"white\"}},\"type\":\"table\"}]},\"layout\":{\"annotationdefaults\":{\"arrowcolor\":\"#2a3f5f\",\"arrowhead\":0,\"arrowwidth\":1},\"autotypenumbers\":\"strict\",\"coloraxis\":{\"colorbar\":{\"outlinewidth\":0,\"ticks\":\"\"}},\"colorscale\":{\"diverging\":[[0,\"#8e0152\"],[0.1,\"#c51b7d\"],[0.2,\"#de77ae\"],[0.3,\"#f1b6da\"],[0.4,\"#fde0ef\"],[0.5,\"#f7f7f7\"],[0.6,\"#e6f5d0\"],[0.7,\"#b8e186\"],[0.8,\"#7fbc41\"],[0.9,\"#4d9221\"],[1,\"#276419\"]],\"sequential\":[[0.0,\"#0d0887\"],[0.1111111111111111,\"#46039f\"],[0.2222222222222222,\"#7201a8\"],[0.3333333333333333,\"#9c179e\"],[0.4444444444444444,\"#bd3786\"],[0.5555555555555556,\"#d8576b\"],[0.6666666666666666,\"#ed7953\"],[0.7777777777777778,\"#fb9f3a\"],[0.8888888888888888,\"#fdca26\"],[1.0,\"#f0f921\"]],\"sequentialminus\":[[0.0,\"#0d0887\"],[0.1111111111111111,\"#46039f\"],[0.2222222222222222,\"#7201a8\"],[0.3333333333333333,\"#9c179e\"],[0.4444444444444444,\"#bd3786\"],[0.5555555555555556,\"#d8576b\"],[0.6666666666666666,\"#ed7953\"],[0.7777777777777778,\"#fb9f3a\"],[0.8888888888888888,\"#fdca26\"],[1.0,\"#f0f921\"]]},\"colorway\":[\"#636efa\",\"#EF553B\",\"#00cc96\",\"#ab63fa\",\"#FFA15A\",\"#19d3f3\",\"#FF6692\",\"#B6E880\",\"#FF97FF\",\"#FECB52\"],\"font\":{\"color\":\"#2a3f5f\"},\"geo\":{\"bgcolor\":\"white\",\"lakecolor\":\"white\",\"landcolor\":\"white\",\"showlakes\":true,\"showland\":true,\"subunitcolor\":\"#C8D4E3\"},\"hoverlabel\":{\"align\":\"left\"},\"hovermode\":\"closest\",\"mapbox\":{\"style\":\"light\"},\"paper_bgcolor\":\"white\",\"plot_bgcolor\":\"white\",\"polar\":{\"angularaxis\":{\"gridcolor\":\"#EBF0F8\",\"linecolor\":\"#EBF0F8\",\"ticks\":\"\"},\"bgcolor\":\"white\",\"radialaxis\":{\"gridcolor\":\"#EBF0F8\",\"linecolor\":\"#EBF0F8\",\"ticks\":\"\"}},\"scene\":{\"xaxis\":{\"backgroundcolor\":\"white\",\"gridcolor\":\"#DFE8F3\",\"gridwidth\":2,\"linecolor\":\"#EBF0F8\",\"showbackground\":true,\"ticks\":\"\",\"zerolinecolor\":\"#EBF0F8\"},\"yaxis\":{\"backgroundcolor\":\"white\",\"gridcolor\":\"#DFE8F3\",\"gridwidth\":2,\"linecolor\":\"#EBF0F8\",\"showbackground\":true,\"ticks\":\"\",\"zerolinecolor\":\"#EBF0F8\"},\"zaxis\":{\"backgroundcolor\":\"white\",\"gridcolor\":\"#DFE8F3\",\"gridwidth\":2,\"linecolor\":\"#EBF0F8\",\"showbackground\":true,\"ticks\":\"\",\"zerolinecolor\":\"#EBF0F8\"}},\"shapedefaults\":{\"line\":{\"color\":\"#2a3f5f\"}},\"ternary\":{\"aaxis\":{\"gridcolor\":\"#DFE8F3\",\"linecolor\":\"#A2B1C6\",\"ticks\":\"\"},\"baxis\":{\"gridcolor\":\"#DFE8F3\",\"linecolor\":\"#A2B1C6\",\"ticks\":\"\"},\"bgcolor\":\"white\",\"caxis\":{\"gridcolor\":\"#DFE8F3\",\"linecolor\":\"#A2B1C6\",\"ticks\":\"\"}},\"title\":{\"x\":0.05},\"xaxis\":{\"automargin\":true,\"gridcolor\":\"#EBF0F8\",\"linecolor\":\"#EBF0F8\",\"ticks\":\"\",\"title\":{\"standoff\":15},\"zerolinecolor\":\"#EBF0F8\",\"zerolinewidth\":2},\"yaxis\":{\"automargin\":true,\"gridcolor\":\"#EBF0F8\",\"linecolor\":\"#EBF0F8\",\"ticks\":\"\",\"title\":{\"standoff\":15},\"zerolinecolor\":\"#EBF0F8\",\"zerolinewidth\":2}}},\"xaxis\":{\"anchor\":\"y\",\"domain\":[0.0,0.45]},\"yaxis\":{\"anchor\":\"x\",\"domain\":[0.0,1.0],\"range\":[30,70],\"title\":{\"text\":\"<b>\\uacf5\\uc81c\\ube44\\uc728(%)</b>\"}},\"xaxis2\":{\"anchor\":\"y2\",\"domain\":[0.55,1.0]},\"yaxis2\":{\"anchor\":\"x2\",\"domain\":[0.0,1.0],\"range\":[30,70]},\"annotations\":[{\"font\":{\"size\":16},\"showarrow\":false,\"text\":\"\\ub0a8\\uc131\",\"x\":0.225,\"xanchor\":\"center\",\"xref\":\"paper\",\"y\":1.0,\"yanchor\":\"bottom\",\"yref\":\"paper\"},{\"font\":{\"size\":16},\"showarrow\":false,\"text\":\"\\uc5ec\\uc131\",\"x\":0.775,\"xanchor\":\"center\",\"xref\":\"paper\",\"y\":1.0,\"yanchor\":\"bottom\",\"yref\":\"paper\"}],\"title\":{\"text\":\"<b>\\uc9c8\\ubcd1\\ubcc4 \\uacf5\\uc81c\\ube44\\uc728\\uc774 \\ub0ae\\uc740 \\uc9c8\\ubcd1 \\uc21c\\uc704(\\ub0a8/\\uc5ec)</b><br><sup>\\uacf5\\uc81c\\ube44\\uc728 = \\ubcf4\\ud5d8\\uc790\\ubd80\\ub2f4\\uae08 / \\uc694\\uc591\\uae09\\uc5ec\\ube44\\uc6a9\\ucd1d\\uc561</sup>\",\"x\":0.5,\"y\":0.87}},                        {\"responsive\": true}                    ).then(function(){\n",
       "                            \n",
       "var gd = document.getElementById('5c5b1510-3fac-47ce-af4e-806739d8f992');\n",
       "var x = new MutationObserver(function (mutations, observer) {{\n",
       "        var display = window.getComputedStyle(gd).display;\n",
       "        if (!display || display === 'none') {{\n",
       "            console.log([gd, 'removed!']);\n",
       "            Plotly.purge(gd);\n",
       "            observer.disconnect();\n",
       "        }}\n",
       "}});\n",
       "\n",
       "// Listen for the removal of the full notebook cells\n",
       "var notebookContainer = gd.closest('#notebook-container');\n",
       "if (notebookContainer) {{\n",
       "    x.observe(notebookContainer, {childList: true});\n",
       "}}\n",
       "\n",
       "// Listen for the clearing of the current output cell\n",
       "var outputEl = gd.closest('.output');\n",
       "if (outputEl) {{\n",
       "    x.observe(outputEl, {childList: true});\n",
       "}}\n",
       "\n",
       "                        })                };                });            </script>        </div>"
      ]
     },
     "metadata": {},
     "output_type": "display_data"
    }
   ],
   "source": [
    "# 남/여 down10\n",
    "from plotly.subplots import make_subplots\n",
    "fig6 = go.Figure()\n",
    "\n",
    "fig6 = make_subplots(rows=1, cols=2,\n",
    "                    subplot_titles=(\"남성\", \"여성\"),\n",
    "                    column_widths=[0.3, 0.3]) # 각 Subplot 별 subtitle 넣기)\n",
    "\n",
    "fig6.add_trace(\n",
    "    go.Bar(\n",
    "        x = Mdall['항목'], y = Mdall['공제비율'],\n",
    "        name = '남자',\n",
    "        text = Mdall['공제비율'],\n",
    "        textposition='auto',\n",
    "        marker = {'color':'#6495ED'}      \n",
    "    ), row=1, col=1\n",
    ")\n",
    "\n",
    "fig6.add_trace(\n",
    "    go.Bar(\n",
    "        x = Fdall['항목'], y = Fdall['공제비율'],\n",
    "        name = '여자',\n",
    "        text = Fdall['공제비율'],\n",
    "        textposition='auto',\n",
    "        marker = {'color':'#F08080'}      \n",
    "    ), row=1, col=2\n",
    ")\n",
    "\n",
    "fig6.update_yaxes(range=[30, 70])\n",
    "fig6.update_layout(title=dict(text = '<b>질병별 공제비율이 낮은 질병 순위(남/여)</b><br><sup>공제비율 = 보험자부담금 / 요양급여비용총액</sup>', x=0.5, y=0.87),\n",
    "    yaxis_title=dict(text = \"<b>공제비율(%)</b>\"))\n",
    "fig6.update_layout(template='plotly_white')\n",
    "\n",
    "fig6.show()"
   ]
  },
  {
   "cell_type": "markdown",
   "metadata": {},
   "source": [
    "# 연령별 몰라 회의하고 할거임 뷁"
   ]
  },
  {
   "cell_type": "code",
   "execution_count": 114,
   "metadata": {},
   "outputs": [],
   "source": [
    "username='chaeyoungsss'\n",
    "api_key='evuch5hgbQtmq3te7rh4'\n",
    "chart_studio.tools.set_credentials_file(username=username, api_key=api_key)"
   ]
  },
  {
   "cell_type": "code",
   "execution_count": 115,
   "metadata": {},
   "outputs": [
    {
     "data": {
      "text/plain": [
       "'https://plotly.com/~chaeyoungsss/24/'"
      ]
     },
     "execution_count": 115,
     "metadata": {},
     "output_type": "execute_result"
    }
   ],
   "source": [
    "import chart_studio.plotly as py\n",
    "py.plot(fig1, filename = '연도별 공제비율이 높은 질병 순위', auto_open=True)\n",
    "py.plot(fig2, filename = '연도별 공제비율이 낮은 질병 순위', auto_open=True)\n",
    "# py.plot(fig3, filename = '질병별 공제비율이 높은 질병 순위', auto_open=True)\n",
    "# py.plot(fig4, filename = '질병별 공제비율이 낮은 질병 순위', auto_open=True)"
   ]
  },
  {
   "cell_type": "code",
   "execution_count": null,
   "metadata": {},
   "outputs": [],
   "source": []
  },
  {
   "cell_type": "code",
   "execution_count": null,
   "metadata": {},
   "outputs": [],
   "source": []
  },
  {
   "cell_type": "code",
   "execution_count": null,
   "metadata": {},
   "outputs": [],
   "source": []
  }
 ],
 "metadata": {
  "kernelspec": {
   "display_name": "Python 3.9.12",
   "language": "python",
   "name": "python3"
  },
  "language_info": {
   "codemirror_mode": {
    "name": "ipython",
    "version": 3
   },
   "file_extension": ".py",
   "mimetype": "text/x-python",
   "name": "python",
   "nbconvert_exporter": "python",
   "pygments_lexer": "ipython3",
   "version": "3.9.12"
  },
  "orig_nbformat": 4,
  "vscode": {
   "interpreter": {
    "hash": "ad361ae9e5c148faea39a1fa66389674f13eca3fc2aa4efd4ff5787dc0017f4b"
   }
  }
 },
 "nbformat": 4,
 "nbformat_minor": 2
}
